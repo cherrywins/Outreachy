{
 "cells": [
  {
   "cell_type": "markdown",
   "metadata": {},
   "source": [
    "# Outreachy. Mediawiki. Impact of content translation tools"
   ]
  },
  {
   "cell_type": "markdown",
   "metadata": {},
   "source": [
    "The task is for Outreachy Internship. Made by Ekaterina Kharitonova"
   ]
  },
  {
   "cell_type": "markdown",
   "metadata": {},
   "source": [
    "The Content Translation tool has supported the creation of over 400,000 articles across a large variety of Wikipedia language projects. We have very little understanding, however, of what parts of the tool work well and what happens to the articles after they have been created. For instance, what types of article sections are translated as-is? what sections are changed substantially? do translated articles see subsequent editing and linking to other articles in the project?\n",
    "\n",
    "This task links to a number of related projects that could happen around these larger questions about the adoption of translated content on Wikipedia. We would hope for a mixed-methods approach that uses both quantitative analyses (e.g., edit counts, topics that are more frequently translated, etc.) and qualitative analyses (e.g., content analysis of translated pages and subsequent edits, talk pages, etc.)."
   ]
  },
  {
   "cell_type": "markdown",
   "metadata": {},
   "source": [
    "This task involves two mini-tasks: Quantitative Exploration of Content Translation Tools and Qualitative Exploration of Content Translation Tools"
   ]
  },
  {
   "cell_type": "markdown",
   "metadata": {},
   "source": [
    "Qualitive Exploration - what types of content is translated and what happens to these articles once they are created. Go through the edit histories for a few articles and begin to identify whether any trends emerge about the types of edits that happen to translated articles. Compare the translated and source articles in their current state. What types of content were added after the translation? Are the articles diverging in content or staying similar? What sorts of discussions occur on the talk pages of translated articles?"
   ]
  },
  {
   "cell_type": "markdown",
   "metadata": {},
   "source": [
    "Quantitative Exploration - Try comparing statistics about edits, pageviews, etc. between the source and translated versions of articles. More advanced analyses in a project might eventually compare translated articles with similar articles that were not translated or classify edits based upon their 'type' for more fine-grained analyses of what happens to translated articles."
   ]
  },
  {
   "cell_type": "markdown",
   "metadata": {},
   "source": [
    "## Importing the data"
   ]
  },
  {
   "cell_type": "code",
   "execution_count": 1,
   "metadata": {},
   "outputs": [],
   "source": [
    "#First of all we import all packages we might need in our analysis\n",
    "import gzip\n",
    "import json\n",
    "import re\n",
    "import requests\n",
    "import os\n",
    "import mwapi\n",
    "import pandas as pd\n",
    "import numpy as np\n",
    "import matplotlib.pyplot as plt\n",
    "%matplotlib inline"
   ]
  },
  {
   "cell_type": "code",
   "execution_count": 2,
   "metadata": {},
   "outputs": [],
   "source": [
    "# Parameters for accessing the API that contains metadata about each translated article\n",
    "session = mwapi.Session(host='https://en.wikipedia.org',\n",
    "                        user_agent='mwapi (python) -- outreachy content translation')"
   ]
  },
  {
   "cell_type": "markdown",
   "metadata": {
    "slideshow": {
     "slide_type": "slide"
    }
   },
   "source": [
    "I've chosen to look at English to Russian translation. On the 26th of May 2019, almost 16700 articles on Wikipedia were translated to Russian language. Russia takes 6th place in this category. Source: https://ru.wikipedia.org/wiki/%D0%A1%D0%BB%D1%83%D0%B6%D0%B5%D0%B1%D0%BD%D0%B0%D1%8F:ContentTranslationStats\n",
    "Also, Russian language takes 2nd place in category of unfinished translations (English to Russian translation). It raises the question: why is that happening?"
   ]
  },
  {
   "cell_type": "code",
   "execution_count": 8,
   "metadata": {},
   "outputs": [],
   "source": [
    "#Let's get most recent articles translated from English to Russian\n",
    "parameters = {'action':'query',\n",
    "              'format':'json',\n",
    "              'list':'cxpublishedtranslations',\n",
    "              'from':'en',\n",
    "              'to':'ru',\n",
    "              'limit':500,\n",
    "              'offset':6000}"
   ]
  },
  {
   "cell_type": "code",
   "execution_count": 9,
   "metadata": {},
   "outputs": [],
   "source": [
    "res = session.get(parameters)"
   ]
  },
  {
   "cell_type": "code",
   "execution_count": 11,
   "metadata": {},
   "outputs": [],
   "source": [
    "# We import the databse into the dataframe and then save it as .csv file\n",
    "df = pd.DataFrame(res['result']['translations'])\n",
    "\n",
    "export_csv = df.to_csv('export_dataframe.csv', index = None, header=True)"
   ]
  },
  {
   "cell_type": "code",
   "execution_count": 186,
   "metadata": {},
   "outputs": [
    {
     "data": {
      "text/html": [
       "<div>\n",
       "<style scoped>\n",
       "    .dataframe tbody tr th:only-of-type {\n",
       "        vertical-align: middle;\n",
       "    }\n",
       "\n",
       "    .dataframe tbody tr th {\n",
       "        vertical-align: top;\n",
       "    }\n",
       "\n",
       "    .dataframe thead th {\n",
       "        text-align: right;\n",
       "    }\n",
       "</style>\n",
       "<table border=\"1\" class=\"dataframe\">\n",
       "  <thead>\n",
       "    <tr style=\"text-align: right;\">\n",
       "      <th></th>\n",
       "      <th>publishedDate</th>\n",
       "      <th>sourceLanguage</th>\n",
       "      <th>sourceRevisionId</th>\n",
       "      <th>sourceTitle</th>\n",
       "      <th>sourceURL</th>\n",
       "      <th>stats</th>\n",
       "      <th>targetLanguage</th>\n",
       "      <th>targetRevisionId</th>\n",
       "      <th>targetTitle</th>\n",
       "      <th>targetURL</th>\n",
       "      <th>translationId</th>\n",
       "    </tr>\n",
       "  </thead>\n",
       "  <tbody>\n",
       "    <tr>\n",
       "      <th>493</th>\n",
       "      <td>20190104124447</td>\n",
       "      <td>en</td>\n",
       "      <td>845164333</td>\n",
       "      <td>London independence</td>\n",
       "      <td>//en.wikipedia.org/wiki/London independence</td>\n",
       "      <td>{'any': 0.8347280334728, 'human': 0.5470013947...</td>\n",
       "      <td>ru</td>\n",
       "      <td>97254098</td>\n",
       "      <td>Независимость Лондона</td>\n",
       "      <td>//ru.wikipedia.org/wiki/Независимость Лондона</td>\n",
       "      <td>409154</td>\n",
       "    </tr>\n",
       "    <tr>\n",
       "      <th>361</th>\n",
       "      <td>20181210014549</td>\n",
       "      <td>en</td>\n",
       "      <td>806783576</td>\n",
       "      <td>Haven't You Heard? I'm Sakamoto</td>\n",
       "      <td>//en.wikipedia.org/wiki/Haven't You Heard? I'm...</td>\n",
       "      <td>{'any': 0.32943421270947, 'human': 0.326973065...</td>\n",
       "      <td>ru</td>\n",
       "      <td>89365459</td>\n",
       "      <td>Я — Сакамото, а что?</td>\n",
       "      <td>//ru.wikipedia.org/wiki/Я — Сакамото, а что?</td>\n",
       "      <td>400271</td>\n",
       "    </tr>\n",
       "    <tr>\n",
       "      <th>404</th>\n",
       "      <td>20180814212015</td>\n",
       "      <td>en</td>\n",
       "      <td>851789286</td>\n",
       "      <td>Slut-shaming</td>\n",
       "      <td>//en.wikipedia.org/wiki/Slut-shaming</td>\n",
       "      <td>{'any': 1.0384207521005, 'human': 0.9707561791...</td>\n",
       "      <td>ru</td>\n",
       "      <td>94526200</td>\n",
       "      <td>Слатшейминг</td>\n",
       "      <td>//ru.wikipedia.org/wiki/Slut-shaming</td>\n",
       "      <td>402137</td>\n",
       "    </tr>\n",
       "    <tr>\n",
       "      <th>419</th>\n",
       "      <td>20180813200320</td>\n",
       "      <td>en</td>\n",
       "      <td>850159953</td>\n",
       "      <td>Raising Malawi</td>\n",
       "      <td>//en.wikipedia.org/wiki/Raising Malawi</td>\n",
       "      <td>{'any': 0.66783893089502, 'human': 0.400035167...</td>\n",
       "      <td>ru</td>\n",
       "      <td>94509012</td>\n",
       "      <td>Raising Malawi</td>\n",
       "      <td>//ru.wikipedia.org/wiki/Raising Malawi</td>\n",
       "      <td>403350</td>\n",
       "    </tr>\n",
       "    <tr>\n",
       "      <th>62</th>\n",
       "      <td>20180711190641</td>\n",
       "      <td>en</td>\n",
       "      <td>805322221</td>\n",
       "      <td>Madonna (entertainer)</td>\n",
       "      <td>//en.wikipedia.org/wiki/Madonna (entertainer)</td>\n",
       "      <td>{'any': 0.86433000640395, 'human': 0.628774034...</td>\n",
       "      <td>ru</td>\n",
       "      <td>88330645</td>\n",
       "      <td>Участник:Tintin-tintine/Madonna (музыкантj)</td>\n",
       "      <td>//ru.wikipedia.org/wiki/Участник:Tintin-tintin...</td>\n",
       "      <td>380609</td>\n",
       "    </tr>\n",
       "    <tr>\n",
       "      <th>199</th>\n",
       "      <td>20180630140343</td>\n",
       "      <td>en</td>\n",
       "      <td>813622939</td>\n",
       "      <td>Who's That Girl (soundtrack)</td>\n",
       "      <td>//en.wikipedia.org/wiki/Who's That Girl (sound...</td>\n",
       "      <td>{'any': 0.0052068035566474, 'human': 0.0040586...</td>\n",
       "      <td>ru</td>\n",
       "      <td>93668214</td>\n",
       "      <td>Участник:Tintin-tintine/Who’s That Girl (саунд)</td>\n",
       "      <td>//ru.wikipedia.org/wiki/Участник:Tintin-tintin...</td>\n",
       "      <td>389903</td>\n",
       "    </tr>\n",
       "    <tr>\n",
       "      <th>394</th>\n",
       "      <td>20180617194125</td>\n",
       "      <td>en</td>\n",
       "      <td>808136097</td>\n",
       "      <td>Reggie Lucas</td>\n",
       "      <td>//en.wikipedia.org/wiki/Reggie Lucas</td>\n",
       "      <td>{'any': 0.99518072289157, 'human': 0.906712564...</td>\n",
       "      <td>ru</td>\n",
       "      <td>89456161</td>\n",
       "      <td>Лукас, Регги</td>\n",
       "      <td>//ru.wikipedia.org/wiki/Лукас, Регги</td>\n",
       "      <td>401749</td>\n",
       "    </tr>\n",
       "    <tr>\n",
       "      <th>403</th>\n",
       "      <td>20180522040650</td>\n",
       "      <td>en</td>\n",
       "      <td>614325316</td>\n",
       "      <td>Matching polynomial</td>\n",
       "      <td>//en.wikipedia.org/wiki/Matching polynomial</td>\n",
       "      <td>{'any': 0.33724340175953, 'human': 0.015172765...</td>\n",
       "      <td>ru</td>\n",
       "      <td>92804132</td>\n",
       "      <td>Многочлен паросочетаний</td>\n",
       "      <td>//ru.wikipedia.org/wiki/Многочлен паросочетаний</td>\n",
       "      <td>402059</td>\n",
       "    </tr>\n",
       "    <tr>\n",
       "      <th>405</th>\n",
       "      <td>20180425224947</td>\n",
       "      <td>en</td>\n",
       "      <td>832080543</td>\n",
       "      <td>Physics of magnetic resonance imaging</td>\n",
       "      <td>//en.wikipedia.org/wiki/Physics of magnetic re...</td>\n",
       "      <td>{'any': 0.011277808647692, 'human': 0.01127780...</td>\n",
       "      <td>ru</td>\n",
       "      <td>340024</td>\n",
       "      <td>User:Zilant17/Physics of magnetic resonance im...</td>\n",
       "      <td>https://test.wikipedia.org/wiki/User:Zilant17/...</td>\n",
       "      <td>402185</td>\n",
       "    </tr>\n",
       "    <tr>\n",
       "      <th>149</th>\n",
       "      <td>20180404092211</td>\n",
       "      <td>en</td>\n",
       "      <td>807943467</td>\n",
       "      <td>Squircle</td>\n",
       "      <td>//en.wikipedia.org/wiki/Squircle</td>\n",
       "      <td>{'any': 0.030716723549488, 'human': 0.03071672...</td>\n",
       "      <td>ru</td>\n",
       "      <td>89379218</td>\n",
       "      <td>Участник:Dimon4ezzz/Скругленный квадрат</td>\n",
       "      <td>//ru.wikipedia.org/wiki/Участник:Dimon4ezzz/Ск...</td>\n",
       "      <td>387667</td>\n",
       "    </tr>\n",
       "  </tbody>\n",
       "</table>\n",
       "</div>"
      ],
      "text/plain": [
       "      publishedDate sourceLanguage  sourceRevisionId  \\\n",
       "493  20190104124447             en         845164333   \n",
       "361  20181210014549             en         806783576   \n",
       "404  20180814212015             en         851789286   \n",
       "419  20180813200320             en         850159953   \n",
       "62   20180711190641             en         805322221   \n",
       "199  20180630140343             en         813622939   \n",
       "394  20180617194125             en         808136097   \n",
       "403  20180522040650             en         614325316   \n",
       "405  20180425224947             en         832080543   \n",
       "149  20180404092211             en         807943467   \n",
       "\n",
       "                               sourceTitle  \\\n",
       "493                    London independence   \n",
       "361        Haven't You Heard? I'm Sakamoto   \n",
       "404                           Slut-shaming   \n",
       "419                         Raising Malawi   \n",
       "62                   Madonna (entertainer)   \n",
       "199           Who's That Girl (soundtrack)   \n",
       "394                           Reggie Lucas   \n",
       "403                    Matching polynomial   \n",
       "405  Physics of magnetic resonance imaging   \n",
       "149                               Squircle   \n",
       "\n",
       "                                             sourceURL  \\\n",
       "493        //en.wikipedia.org/wiki/London independence   \n",
       "361  //en.wikipedia.org/wiki/Haven't You Heard? I'm...   \n",
       "404               //en.wikipedia.org/wiki/Slut-shaming   \n",
       "419             //en.wikipedia.org/wiki/Raising Malawi   \n",
       "62       //en.wikipedia.org/wiki/Madonna (entertainer)   \n",
       "199  //en.wikipedia.org/wiki/Who's That Girl (sound...   \n",
       "394               //en.wikipedia.org/wiki/Reggie Lucas   \n",
       "403        //en.wikipedia.org/wiki/Matching polynomial   \n",
       "405  //en.wikipedia.org/wiki/Physics of magnetic re...   \n",
       "149                   //en.wikipedia.org/wiki/Squircle   \n",
       "\n",
       "                                                 stats targetLanguage  \\\n",
       "493  {'any': 0.8347280334728, 'human': 0.5470013947...             ru   \n",
       "361  {'any': 0.32943421270947, 'human': 0.326973065...             ru   \n",
       "404  {'any': 1.0384207521005, 'human': 0.9707561791...             ru   \n",
       "419  {'any': 0.66783893089502, 'human': 0.400035167...             ru   \n",
       "62   {'any': 0.86433000640395, 'human': 0.628774034...             ru   \n",
       "199  {'any': 0.0052068035566474, 'human': 0.0040586...             ru   \n",
       "394  {'any': 0.99518072289157, 'human': 0.906712564...             ru   \n",
       "403  {'any': 0.33724340175953, 'human': 0.015172765...             ru   \n",
       "405  {'any': 0.011277808647692, 'human': 0.01127780...             ru   \n",
       "149  {'any': 0.030716723549488, 'human': 0.03071672...             ru   \n",
       "\n",
       "     targetRevisionId                                        targetTitle  \\\n",
       "493          97254098                              Независимость Лондона   \n",
       "361          89365459                               Я — Сакамото, а что?   \n",
       "404          94526200                                        Слатшейминг   \n",
       "419          94509012                                     Raising Malawi   \n",
       "62           88330645        Участник:Tintin-tintine/Madonna (музыкантj)   \n",
       "199          93668214    Участник:Tintin-tintine/Who’s That Girl (саунд)   \n",
       "394          89456161                                       Лукас, Регги   \n",
       "403          92804132                            Многочлен паросочетаний   \n",
       "405            340024  User:Zilant17/Physics of magnetic resonance im...   \n",
       "149          89379218            Участник:Dimon4ezzz/Скругленный квадрат   \n",
       "\n",
       "                                             targetURL  translationId  \n",
       "493      //ru.wikipedia.org/wiki/Независимость Лондона         409154  \n",
       "361       //ru.wikipedia.org/wiki/Я — Сакамото, а что?         400271  \n",
       "404               //ru.wikipedia.org/wiki/Slut-shaming         402137  \n",
       "419             //ru.wikipedia.org/wiki/Raising Malawi         403350  \n",
       "62   //ru.wikipedia.org/wiki/Участник:Tintin-tintin...         380609  \n",
       "199  //ru.wikipedia.org/wiki/Участник:Tintin-tintin...         389903  \n",
       "394               //ru.wikipedia.org/wiki/Лукас, Регги         401749  \n",
       "403    //ru.wikipedia.org/wiki/Многочлен паросочетаний         402059  \n",
       "405  https://test.wikipedia.org/wiki/User:Zilant17/...         402185  \n",
       "149  //ru.wikipedia.org/wiki/Участник:Dimon4ezzz/Ск...         387667  "
      ]
     },
     "execution_count": 186,
     "metadata": {},
     "output_type": "execute_result"
    }
   ],
   "source": [
    "# now we export .csv file and continue our analysis\n",
    "df = pd.read_csv('export_dataframe.csv')\n",
    "df.sort_values(['publishedDate'], ascending=False)[:10]"
   ]
  },
  {
   "cell_type": "markdown",
   "metadata": {},
   "source": [
    "The oldest translation in our sample happened on 2017-10-06. The most recent - on 2019-01-04. Let's clean our dataframe a bit"
   ]
  },
  {
   "cell_type": "markdown",
   "metadata": {},
   "source": [
    "## Cleaning and accessing the translation stats"
   ]
  },
  {
   "cell_type": "code",
   "execution_count": 36,
   "metadata": {},
   "outputs": [],
   "source": [
    "# First of all, we need to make a copy of our original dataframe\n",
    "df_clean = df.copy()"
   ]
  },
  {
   "cell_type": "code",
   "execution_count": 37,
   "metadata": {
    "scrolled": true
   },
   "outputs": [
    {
     "data": {
      "text/html": [
       "<div>\n",
       "<style scoped>\n",
       "    .dataframe tbody tr th:only-of-type {\n",
       "        vertical-align: middle;\n",
       "    }\n",
       "\n",
       "    .dataframe tbody tr th {\n",
       "        vertical-align: top;\n",
       "    }\n",
       "\n",
       "    .dataframe thead th {\n",
       "        text-align: right;\n",
       "    }\n",
       "</style>\n",
       "<table border=\"1\" class=\"dataframe\">\n",
       "  <thead>\n",
       "    <tr style=\"text-align: right;\">\n",
       "      <th></th>\n",
       "      <th>publishedDate</th>\n",
       "      <th>sourceLanguage</th>\n",
       "      <th>sourceRevisionId</th>\n",
       "      <th>sourceTitle</th>\n",
       "      <th>sourceURL</th>\n",
       "      <th>stats</th>\n",
       "      <th>targetLanguage</th>\n",
       "      <th>targetRevisionId</th>\n",
       "      <th>targetTitle</th>\n",
       "      <th>targetURL</th>\n",
       "      <th>translationId</th>\n",
       "    </tr>\n",
       "  </thead>\n",
       "  <tbody>\n",
       "    <tr>\n",
       "      <th>0</th>\n",
       "      <td>20171006033352</td>\n",
       "      <td>en</td>\n",
       "      <td>795162132</td>\n",
       "      <td>Pakistan Steel Mills</td>\n",
       "      <td>//en.wikipedia.org/wiki/Pakistan Steel Mills</td>\n",
       "      <td>{'any': 0.413045549838, 'human': 0.39822755860...</td>\n",
       "      <td>ru</td>\n",
       "      <td>88151792</td>\n",
       "      <td>Pakistan Steel Mills</td>\n",
       "      <td>//ru.wikipedia.org/wiki/Pakistan Steel Mills</td>\n",
       "      <td>377189</td>\n",
       "    </tr>\n",
       "  </tbody>\n",
       "</table>\n",
       "</div>"
      ],
      "text/plain": [
       "    publishedDate sourceLanguage  sourceRevisionId           sourceTitle  \\\n",
       "0  20171006033352             en         795162132  Pakistan Steel Mills   \n",
       "\n",
       "                                      sourceURL  \\\n",
       "0  //en.wikipedia.org/wiki/Pakistan Steel Mills   \n",
       "\n",
       "                                               stats targetLanguage  \\\n",
       "0  {'any': 0.413045549838, 'human': 0.39822755860...             ru   \n",
       "\n",
       "   targetRevisionId           targetTitle  \\\n",
       "0          88151792  Pakistan Steel Mills   \n",
       "\n",
       "                                      targetURL  translationId  \n",
       "0  //ru.wikipedia.org/wiki/Pakistan Steel Mills         377189  "
      ]
     },
     "execution_count": 37,
     "metadata": {},
     "output_type": "execute_result"
    }
   ],
   "source": [
    "df_clean.head(1)"
   ]
  },
  {
   "cell_type": "code",
   "execution_count": 38,
   "metadata": {},
   "outputs": [
    {
     "name": "stdout",
     "output_type": "stream",
     "text": [
      "<class 'pandas.core.frame.DataFrame'>\n",
      "RangeIndex: 500 entries, 0 to 499\n",
      "Data columns (total 11 columns):\n",
      "publishedDate       500 non-null int64\n",
      "sourceLanguage      500 non-null object\n",
      "sourceRevisionId    500 non-null int64\n",
      "sourceTitle         500 non-null object\n",
      "sourceURL           500 non-null object\n",
      "stats               500 non-null object\n",
      "targetLanguage      500 non-null object\n",
      "targetRevisionId    500 non-null int64\n",
      "targetTitle         500 non-null object\n",
      "targetURL           500 non-null object\n",
      "translationId       500 non-null int64\n",
      "dtypes: int64(4), object(7)\n",
      "memory usage: 43.0+ KB\n"
     ]
    }
   ],
   "source": [
    "df_clean.info()"
   ]
  },
  {
   "cell_type": "markdown",
   "metadata": {},
   "source": [
    "During the cleaning process we need:\n",
    "- change the format of publishedDate column to datetime\n",
    "- separate translation statistics from stats column to several individual columns with right data type"
   ]
  },
  {
   "cell_type": "code",
   "execution_count": 39,
   "metadata": {},
   "outputs": [],
   "source": [
    "# We cut unnecessary data and change the datetype of the column\n",
    "df_clean['publishedDate'] = df_clean['publishedDate'].astype(str).str[0:8]\n",
    "df_clean['publishedDate'] = pd.to_datetime(df_clean['publishedDate'])"
   ]
  },
  {
   "cell_type": "code",
   "execution_count": 40,
   "metadata": {},
   "outputs": [
    {
     "data": {
      "text/html": [
       "<div>\n",
       "<style scoped>\n",
       "    .dataframe tbody tr th:only-of-type {\n",
       "        vertical-align: middle;\n",
       "    }\n",
       "\n",
       "    .dataframe tbody tr th {\n",
       "        vertical-align: top;\n",
       "    }\n",
       "\n",
       "    .dataframe thead th {\n",
       "        text-align: right;\n",
       "    }\n",
       "</style>\n",
       "<table border=\"1\" class=\"dataframe\">\n",
       "  <thead>\n",
       "    <tr style=\"text-align: right;\">\n",
       "      <th></th>\n",
       "      <th>publishedDate</th>\n",
       "      <th>sourceLanguage</th>\n",
       "      <th>sourceRevisionId</th>\n",
       "      <th>sourceTitle</th>\n",
       "      <th>sourceURL</th>\n",
       "      <th>stats</th>\n",
       "      <th>targetLanguage</th>\n",
       "      <th>targetRevisionId</th>\n",
       "      <th>targetTitle</th>\n",
       "      <th>targetURL</th>\n",
       "      <th>translationId</th>\n",
       "    </tr>\n",
       "  </thead>\n",
       "  <tbody>\n",
       "    <tr>\n",
       "      <th>0</th>\n",
       "      <td>2017-10-06</td>\n",
       "      <td>en</td>\n",
       "      <td>795162132</td>\n",
       "      <td>Pakistan Steel Mills</td>\n",
       "      <td>//en.wikipedia.org/wiki/Pakistan Steel Mills</td>\n",
       "      <td>{'any': 0.413045549838, 'human': 0.39822755860...</td>\n",
       "      <td>ru</td>\n",
       "      <td>88151792</td>\n",
       "      <td>Pakistan Steel Mills</td>\n",
       "      <td>//ru.wikipedia.org/wiki/Pakistan Steel Mills</td>\n",
       "      <td>377189</td>\n",
       "    </tr>\n",
       "  </tbody>\n",
       "</table>\n",
       "</div>"
      ],
      "text/plain": [
       "  publishedDate sourceLanguage  sourceRevisionId           sourceTitle  \\\n",
       "0    2017-10-06             en         795162132  Pakistan Steel Mills   \n",
       "\n",
       "                                      sourceURL  \\\n",
       "0  //en.wikipedia.org/wiki/Pakistan Steel Mills   \n",
       "\n",
       "                                               stats targetLanguage  \\\n",
       "0  {'any': 0.413045549838, 'human': 0.39822755860...             ru   \n",
       "\n",
       "   targetRevisionId           targetTitle  \\\n",
       "0          88151792  Pakistan Steel Mills   \n",
       "\n",
       "                                      targetURL  translationId  \n",
       "0  //ru.wikipedia.org/wiki/Pakistan Steel Mills         377189  "
      ]
     },
     "execution_count": 40,
     "metadata": {},
     "output_type": "execute_result"
    }
   ],
   "source": [
    "df_clean.head(1)"
   ]
  },
  {
   "cell_type": "code",
   "execution_count": 41,
   "metadata": {},
   "outputs": [],
   "source": [
    "# We make saveral columns out of stats column. We need to extract a coefficient of total translation (translation_any), \n",
    "#human translation, machine translation, and number of mt sections. \n",
    "#After this we delete the initial stats column\n",
    "df_clean['translation_any'] = df.stats.str.extract('\\{\\'any\\'\\:\\s(\\d\\.\\d+)\\,', expand=True)\n",
    "df_clean['translation_human'] = df.stats.str.extract('\\'human\\'\\:\\s(\\d\\.\\d+)\\,', expand=True)\n",
    "df_clean['translation_mt'] = df.stats.str.extract('\\'mt\\'\\:\\s(\\d.*\\d*)\\,', expand=True)\n",
    "df_clean['mtSectionsCount'] = df.stats.str.extract('\\'mtSectionsCount\\'\\:\\s(\\d+)\\}', expand=True)\n",
    "df_clean = df_clean.drop('stats', axis=1)"
   ]
  },
  {
   "cell_type": "code",
   "execution_count": 42,
   "metadata": {},
   "outputs": [],
   "source": [
    "# Now we change datatype of the columns to numeric\n",
    "df_clean['translation_any'] = pd.to_numeric(df_clean['translation_any'])\n",
    "df_clean['translation_human'] = pd.to_numeric(df_clean['translation_human'])\n",
    "df_clean['translation_mt'] = pd.to_numeric(df_clean['translation_mt'])\n",
    "df_clean['mtSectionsCount'] = pd.to_numeric(df_clean['mtSectionsCount'])"
   ]
  },
  {
   "cell_type": "code",
   "execution_count": 43,
   "metadata": {},
   "outputs": [
    {
     "name": "stdout",
     "output_type": "stream",
     "text": [
      "<class 'pandas.core.frame.DataFrame'>\n",
      "RangeIndex: 500 entries, 0 to 499\n",
      "Data columns (total 14 columns):\n",
      "publishedDate        500 non-null datetime64[ns]\n",
      "sourceLanguage       500 non-null object\n",
      "sourceRevisionId     500 non-null int64\n",
      "sourceTitle          500 non-null object\n",
      "sourceURL            500 non-null object\n",
      "targetLanguage       500 non-null object\n",
      "targetRevisionId     500 non-null int64\n",
      "targetTitle          500 non-null object\n",
      "targetURL            500 non-null object\n",
      "translationId        500 non-null int64\n",
      "translation_any      499 non-null float64\n",
      "translation_human    492 non-null float64\n",
      "translation_mt       500 non-null float64\n",
      "mtSectionsCount      500 non-null int64\n",
      "dtypes: datetime64[ns](1), float64(3), int64(4), object(6)\n",
      "memory usage: 54.8+ KB\n"
     ]
    }
   ],
   "source": [
    "df_clean.info()"
   ]
  },
  {
   "cell_type": "code",
   "execution_count": 44,
   "metadata": {},
   "outputs": [
    {
     "data": {
      "text/html": [
       "<div>\n",
       "<style scoped>\n",
       "    .dataframe tbody tr th:only-of-type {\n",
       "        vertical-align: middle;\n",
       "    }\n",
       "\n",
       "    .dataframe tbody tr th {\n",
       "        vertical-align: top;\n",
       "    }\n",
       "\n",
       "    .dataframe thead th {\n",
       "        text-align: right;\n",
       "    }\n",
       "</style>\n",
       "<table border=\"1\" class=\"dataframe\">\n",
       "  <thead>\n",
       "    <tr style=\"text-align: right;\">\n",
       "      <th></th>\n",
       "      <th>publishedDate</th>\n",
       "      <th>sourceLanguage</th>\n",
       "      <th>sourceRevisionId</th>\n",
       "      <th>sourceTitle</th>\n",
       "      <th>sourceURL</th>\n",
       "      <th>targetLanguage</th>\n",
       "      <th>targetRevisionId</th>\n",
       "      <th>targetTitle</th>\n",
       "      <th>targetURL</th>\n",
       "      <th>translationId</th>\n",
       "      <th>translation_any</th>\n",
       "      <th>translation_human</th>\n",
       "      <th>translation_mt</th>\n",
       "      <th>mtSectionsCount</th>\n",
       "    </tr>\n",
       "  </thead>\n",
       "  <tbody>\n",
       "    <tr>\n",
       "      <th>0</th>\n",
       "      <td>2017-10-06</td>\n",
       "      <td>en</td>\n",
       "      <td>795162132</td>\n",
       "      <td>Pakistan Steel Mills</td>\n",
       "      <td>//en.wikipedia.org/wiki/Pakistan Steel Mills</td>\n",
       "      <td>ru</td>\n",
       "      <td>88151792</td>\n",
       "      <td>Pakistan Steel Mills</td>\n",
       "      <td>//ru.wikipedia.org/wiki/Pakistan Steel Mills</td>\n",
       "      <td>377189</td>\n",
       "      <td>0.413046</td>\n",
       "      <td>0.398228</td>\n",
       "      <td>0.014818</td>\n",
       "      <td>7</td>\n",
       "    </tr>\n",
       "  </tbody>\n",
       "</table>\n",
       "</div>"
      ],
      "text/plain": [
       "  publishedDate sourceLanguage  sourceRevisionId           sourceTitle  \\\n",
       "0    2017-10-06             en         795162132  Pakistan Steel Mills   \n",
       "\n",
       "                                      sourceURL targetLanguage  \\\n",
       "0  //en.wikipedia.org/wiki/Pakistan Steel Mills             ru   \n",
       "\n",
       "   targetRevisionId           targetTitle  \\\n",
       "0          88151792  Pakistan Steel Mills   \n",
       "\n",
       "                                      targetURL  translationId  \\\n",
       "0  //ru.wikipedia.org/wiki/Pakistan Steel Mills         377189   \n",
       "\n",
       "   translation_any  translation_human  translation_mt  mtSectionsCount  \n",
       "0         0.413046           0.398228        0.014818                7  "
      ]
     },
     "execution_count": 44,
     "metadata": {},
     "output_type": "execute_result"
    }
   ],
   "source": [
    "df_clean.head(1)"
   ]
  },
  {
   "cell_type": "markdown",
   "metadata": {},
   "source": [
    "## Gathering additional information"
   ]
  },
  {
   "cell_type": "markdown",
   "metadata": {},
   "source": [
    "Here we'll gather information about:\n",
    "- page's views \n",
    "- number of revisions"
   ]
  },
  {
   "cell_type": "code",
   "execution_count": 22,
   "metadata": {},
   "outputs": [
    {
     "name": "stdout",
     "output_type": "stream",
     "text": [
      "Collecting mwviews\n",
      "  Using cached https://files.pythonhosted.org/packages/39/f9/97e8491c92a0a2774d19dd190e1104f12822376c9280973c6aa0c8719d14/mwviews-0.1.0.tar.gz\n",
      "\u001b[33m  Ignoring futures: markers 'python_version < \"3.0\"' don't match your environment\u001b[0m\n",
      "Requirement already satisfied: requests in /srv/paws/lib/python3.6/site-packages (from mwviews)\n",
      "Requirement already satisfied: mwcli in /srv/paws/lib/python3.6/site-packages (from mwviews)\n",
      "Requirement already satisfied: mwapi in /srv/paws/lib/python3.6/site-packages (from mwviews)\n",
      "Requirement already satisfied: certifi>=2017.4.17 in /srv/paws/lib/python3.6/site-packages (from requests->mwviews)\n",
      "Requirement already satisfied: idna<2.8,>=2.5 in /srv/paws/lib/python3.6/site-packages (from requests->mwviews)\n",
      "Requirement already satisfied: chardet<3.1.0,>=3.0.2 in /srv/paws/lib/python3.6/site-packages (from requests->mwviews)\n",
      "Requirement already satisfied: urllib3<1.24,>=1.21.1 in /srv/paws/lib/python3.6/site-packages (from requests->mwviews)\n",
      "Requirement already satisfied: para in /srv/paws/lib/python3.6/site-packages (from mwcli->mwviews)\n",
      "Requirement already satisfied: docopt in /srv/paws/lib/python3.6/site-packages (from mwcli->mwviews)\n",
      "Building wheels for collected packages: mwviews\n",
      "  Running setup.py bdist_wheel for mwviews ... \u001b[?25lerror\n",
      "  Complete output from command /srv/paws/bin/python3.6 -u -c \"import setuptools, tokenize;__file__='/tmp/pip-build-1ue17p1m/mwviews/setup.py';f=getattr(tokenize, 'open', open)(__file__);code=f.read().replace('\\r\\n', '\\n');f.close();exec(compile(code, __file__, 'exec'))\" bdist_wheel -d /tmp/tmpp19rnxl8pip-wheel- --python-tag cp36:\n",
      "  usage: -c [global_opts] cmd1 [cmd1_opts] [cmd2 [cmd2_opts] ...]\n",
      "     or: -c --help [cmd1 cmd2 ...]\n",
      "     or: -c --help-commands\n",
      "     or: -c cmd --help\n",
      "  \n",
      "  error: invalid command 'bdist_wheel'\n",
      "  \n",
      "  ----------------------------------------\n",
      "\u001b[31m  Failed building wheel for mwviews\u001b[0m\n",
      "\u001b[?25h  Running setup.py clean for mwviews\n",
      "Failed to build mwviews\n",
      "Installing collected packages: mwviews\n",
      "  Running setup.py install for mwviews ... \u001b[?25ldone\n",
      "\u001b[?25hSuccessfully installed mwviews-0.1.0\n"
     ]
    }
   ],
   "source": [
    "#Installing mviews library to get pages'views\n",
    "!pip install mwviews"
   ]
  },
  {
   "cell_type": "code",
   "execution_count": 45,
   "metadata": {},
   "outputs": [],
   "source": [
    "from mwviews.api import PageviewsClient\n",
    "# Sends a descriptive User-Agent header with every request\n",
    "p = PageviewsClient(user_agent=\"<person@organization.org> Analysis for Outreachy\")"
   ]
  },
  {
   "cell_type": "code",
   "execution_count": 46,
   "metadata": {},
   "outputs": [
    {
     "data": {
      "text/plain": [
       "[{'article': 'Borderlands:_The_Pre-Sequel!', 'views': 466855, 'rank': 1},\n",
       " {'article': 'Заглавная_страница', 'views': 402849, 'rank': 2},\n",
       " {'article': 'Президентские_выборы_на_Украине_(2019)',\n",
       "  'views': 184525,\n",
       "  'rank': 3},\n",
       " {'article': 'Зеленский,_Владимир_Александрович', 'views': 163641, 'rank': 4},\n",
       " {'article': 'Служебная:Поиск', 'views': 104711, 'rank': 5},\n",
       " {'article': 'Филёва,_Наталия_Валерьевна', 'views': 48216, 'rank': 6},\n",
       " {'article': 'Филёв,_Владислав_Феликсович', 'views': 41172, 'rank': 7},\n",
       " {'article': 'Экзитпол', 'views': 32222, 'rank': 8},\n",
       " {'article': 'Президентские_выборы_на_Украине_(2014)',\n",
       "  'views': 30929,\n",
       "  'rank': 9},\n",
       " {'article': 'Тимошенко,_Юлия_Владимировна', 'views': 25479, 'rank': 10}]"
      ]
     },
     "execution_count": 46,
     "metadata": {},
     "output_type": "execute_result"
    }
   ],
   "source": [
    "# Example of API work\n",
    "p.top_articles('ru.wikipedia', limit=10)"
   ]
  },
  {
   "cell_type": "code",
   "execution_count": 47,
   "metadata": {},
   "outputs": [
    {
     "data": {
      "text/plain": [
       "defaultdict(dict,\n",
       "            {datetime.datetime(2018, 1, 1, 0, 0): {'Президентские_выборы_на_Украине_(2019)': 29017},\n",
       "             datetime.datetime(2018, 4, 1, 0, 0): {'Президентские_выборы_на_Украине_(2019)': 25371},\n",
       "             datetime.datetime(2019, 2, 1, 0, 0): {'Президентские_выборы_на_Украине_(2019)': 254621},\n",
       "             datetime.datetime(2017, 6, 1, 0, 0): {'Президентские_выборы_на_Украине_(2019)': None},\n",
       "             datetime.datetime(2019, 4, 1, 0, 0): {'Президентские_выборы_на_Украине_(2019)': None},\n",
       "             datetime.datetime(2019, 1, 1, 0, 0): {'Президентские_выборы_на_Украине_(2019)': 278702},\n",
       "             datetime.datetime(2018, 5, 1, 0, 0): {'Президентские_выборы_на_Украине_(2019)': 33617},\n",
       "             datetime.datetime(2019, 3, 1, 0, 0): {'Президентские_выборы_на_Украине_(2019)': 646773},\n",
       "             datetime.datetime(2017, 9, 1, 0, 0): {'Президентские_выборы_на_Украине_(2019)': 13828},\n",
       "             datetime.datetime(2017, 12, 1, 0, 0): {'Президентские_выборы_на_Украине_(2019)': 19422},\n",
       "             datetime.datetime(2017, 10, 1, 0, 0): {'Президентские_выборы_на_Украине_(2019)': 18251},\n",
       "             datetime.datetime(2018, 12, 1, 0, 0): {'Президентские_выборы_на_Украине_(2019)': 86785},\n",
       "             datetime.datetime(2018, 10, 1, 0, 0): {'Президентские_выборы_на_Украине_(2019)': 57228},\n",
       "             datetime.datetime(2018, 11, 1, 0, 0): {'Президентские_выборы_на_Украине_(2019)': 113349},\n",
       "             datetime.datetime(2018, 7, 1, 0, 0): {'Президентские_выборы_на_Украине_(2019)': 46927},\n",
       "             datetime.datetime(2018, 8, 1, 0, 0): {'Президентские_выборы_на_Украине_(2019)': 57358},\n",
       "             datetime.datetime(2017, 8, 1, 0, 0): {'Президентские_выборы_на_Украине_(2019)': 8195},\n",
       "             datetime.datetime(2018, 6, 1, 0, 0): {'Президентские_выборы_на_Украине_(2019)': 38836},\n",
       "             datetime.datetime(2018, 9, 1, 0, 0): {'Президентские_выборы_на_Украине_(2019)': 53059},\n",
       "             datetime.datetime(2017, 7, 1, 0, 0): {'Президентские_выборы_на_Украине_(2019)': 3942},\n",
       "             datetime.datetime(2018, 2, 1, 0, 0): {'Президентские_выборы_на_Украине_(2019)': 31537},\n",
       "             datetime.datetime(2017, 11, 1, 0, 0): {'Президентские_выборы_на_Украине_(2019)': 16749},\n",
       "             datetime.datetime(2018, 3, 1, 0, 0): {'Президентские_выборы_на_Украине_(2019)': 57915}})"
      ]
     },
     "execution_count": 47,
     "metadata": {},
     "output_type": "execute_result"
    }
   ],
   "source": [
    "# Example of API work\n",
    "test = p.article_views('ru.wikipedia', 'Президентские_выборы_на_Украине_(2019)', granularity='monthly', start='20170628')\n",
    "test"
   ]
  },
  {
   "cell_type": "markdown",
   "metadata": {},
   "source": [
    "Now I want to get number of views of original and translated pages from the date of translation."
   ]
  },
  {
   "cell_type": "code",
   "execution_count": 80,
   "metadata": {},
   "outputs": [
    {
     "name": "stdout",
     "output_type": "stream",
     "text": [
      "500\n",
      "500\n"
     ]
    }
   ],
   "source": [
    "SITE_RU = 'ru.wikipedia'\n",
    "SITE_ENG = 'en.wikipedia'\n",
    "#-----------------------\n",
    "source_title_eng = list(df_clean['sourceTitle'].str.strip())\n",
    "title_list_ru = list(df_clean['targetTitle'].str.strip())\n",
    "#-----------------------\n",
    "start_date = list(df_clean['publishedDate'].astype(str).map(lambda x: x.replace('-', '')))\n",
    "#-----------------------\n",
    "errors_ru = []\n",
    "errors_eng = []\n",
    "#-----------------------\n",
    "# We set the default value as None\n",
    "df_clean['views_translated'] = None\n",
    "df_clean['views_original'] = None\n",
    "#-----------------------\n",
    "print(len(title_list_ru))\n",
    "print(len(start_date))"
   ]
  },
  {
   "cell_type": "code",
   "execution_count": 81,
   "metadata": {},
   "outputs": [
    {
     "data": {
      "text/html": [
       "<div>\n",
       "<style scoped>\n",
       "    .dataframe tbody tr th:only-of-type {\n",
       "        vertical-align: middle;\n",
       "    }\n",
       "\n",
       "    .dataframe tbody tr th {\n",
       "        vertical-align: top;\n",
       "    }\n",
       "\n",
       "    .dataframe thead th {\n",
       "        text-align: right;\n",
       "    }\n",
       "</style>\n",
       "<table border=\"1\" class=\"dataframe\">\n",
       "  <thead>\n",
       "    <tr style=\"text-align: right;\">\n",
       "      <th></th>\n",
       "      <th>publishedDate</th>\n",
       "      <th>sourceLanguage</th>\n",
       "      <th>sourceRevisionId</th>\n",
       "      <th>sourceTitle</th>\n",
       "      <th>sourceURL</th>\n",
       "      <th>targetLanguage</th>\n",
       "      <th>targetRevisionId</th>\n",
       "      <th>targetTitle</th>\n",
       "      <th>targetURL</th>\n",
       "      <th>translationId</th>\n",
       "      <th>translation_any</th>\n",
       "      <th>translation_human</th>\n",
       "      <th>translation_mt</th>\n",
       "      <th>mtSectionsCount</th>\n",
       "      <th>views_translated</th>\n",
       "      <th>views_original</th>\n",
       "    </tr>\n",
       "  </thead>\n",
       "  <tbody>\n",
       "    <tr>\n",
       "      <th>0</th>\n",
       "      <td>2017-10-06</td>\n",
       "      <td>en</td>\n",
       "      <td>795162132</td>\n",
       "      <td>Pakistan Steel Mills</td>\n",
       "      <td>//en.wikipedia.org/wiki/Pakistan Steel Mills</td>\n",
       "      <td>ru</td>\n",
       "      <td>88151792</td>\n",
       "      <td>Pakistan Steel Mills</td>\n",
       "      <td>//ru.wikipedia.org/wiki/Pakistan Steel Mills</td>\n",
       "      <td>377189</td>\n",
       "      <td>0.413046</td>\n",
       "      <td>0.398228</td>\n",
       "      <td>0.014818</td>\n",
       "      <td>7</td>\n",
       "      <td>None</td>\n",
       "      <td>None</td>\n",
       "    </tr>\n",
       "  </tbody>\n",
       "</table>\n",
       "</div>"
      ],
      "text/plain": [
       "  publishedDate sourceLanguage  sourceRevisionId           sourceTitle  \\\n",
       "0    2017-10-06             en         795162132  Pakistan Steel Mills   \n",
       "\n",
       "                                      sourceURL targetLanguage  \\\n",
       "0  //en.wikipedia.org/wiki/Pakistan Steel Mills             ru   \n",
       "\n",
       "   targetRevisionId           targetTitle  \\\n",
       "0          88151792  Pakistan Steel Mills   \n",
       "\n",
       "                                      targetURL  translationId  \\\n",
       "0  //ru.wikipedia.org/wiki/Pakistan Steel Mills         377189   \n",
       "\n",
       "   translation_any  translation_human  translation_mt  mtSectionsCount  \\\n",
       "0         0.413046           0.398228        0.014818                7   \n",
       "\n",
       "  views_translated views_original  \n",
       "0             None           None  "
      ]
     },
     "execution_count": 81,
     "metadata": {},
     "output_type": "execute_result"
    }
   ],
   "source": [
    "df_clean.head(1)"
   ]
  },
  {
   "cell_type": "markdown",
   "metadata": {},
   "source": [
    "We go through the dictionary and sum views of specific page. Some pages were deleted, these titles will be copied in errors list. We do it both for translated and original articles."
   ]
  },
  {
   "cell_type": "code",
   "execution_count": 82,
   "metadata": {},
   "outputs": [
    {
     "name": "stdout",
     "output_type": "stream",
     "text": [
      "ERROR while fetching and parsing ['https://wikimedia.org/api/rest_v1/metrics/pageviews/per-article/ru.wikipedia/all-access/all-agents/Pakistan_Steel_Mills/monthly/2017100600/2019040100']\n"
     ]
    },
    {
     "name": "stderr",
     "output_type": "stream",
     "text": [
      "Traceback (most recent call last):\n",
      "  File \"/srv/paws/lib/python3.6/site-packages/mwviews/api/pageviews.py\", line 145, in article_views\n",
      "    'The pageview API returned nothing useful at: {}'.format(urls)\n",
      "Exception: The pageview API returned nothing useful at: ['https://wikimedia.org/api/rest_v1/metrics/pageviews/per-article/ru.wikipedia/all-access/all-agents/Pakistan_Steel_Mills/monthly/2017100600/2019040100']\n"
     ]
    },
    {
     "name": "stdout",
     "output_type": "stream",
     "text": [
      "ERROR while fetching and parsing ['https://wikimedia.org/api/rest_v1/metrics/pageviews/per-article/ru.wikipedia/all-access/all-agents/%D0%94%D0%B6%D0%B0%D0%B7%D0%BE%D0%B2%D1%8B%D0%B9_%D0%A4%D0%B5%D1%81%D1%82%D0%B8%D0%B2%D0%B0%D0%BB%D1%8C_%22Vaqifsaya%C4%9F%C4%B1%22/monthly/2017100600/2019040100']\n"
     ]
    },
    {
     "name": "stderr",
     "output_type": "stream",
     "text": [
      "Traceback (most recent call last):\n",
      "  File \"/srv/paws/lib/python3.6/site-packages/mwviews/api/pageviews.py\", line 145, in article_views\n",
      "    'The pageview API returned nothing useful at: {}'.format(urls)\n",
      "Exception: The pageview API returned nothing useful at: ['https://wikimedia.org/api/rest_v1/metrics/pageviews/per-article/ru.wikipedia/all-access/all-agents/%D0%94%D0%B6%D0%B0%D0%B7%D0%BE%D0%B2%D1%8B%D0%B9_%D0%A4%D0%B5%D1%81%D1%82%D0%B8%D0%B2%D0%B0%D0%BB%D1%8C_%22Vaqifsaya%C4%9F%C4%B1%22/monthly/2017100600/2019040100']\n"
     ]
    },
    {
     "name": "stdout",
     "output_type": "stream",
     "text": [
      "ERROR while fetching and parsing ['https://wikimedia.org/api/rest_v1/metrics/pageviews/per-article/ru.wikipedia/all-access/all-agents/%D0%A3%D1%87%D0%B0%D1%81%D1%82%D0%BD%D0%B8%D0%BA%3ATintin-tintine%2FList_of_awards_and_nominations_received_by_Madonna/monthly/2017100600/2019040100']\n"
     ]
    },
    {
     "name": "stderr",
     "output_type": "stream",
     "text": [
      "Traceback (most recent call last):\n",
      "  File \"/srv/paws/lib/python3.6/site-packages/mwviews/api/pageviews.py\", line 145, in article_views\n",
      "    'The pageview API returned nothing useful at: {}'.format(urls)\n",
      "Exception: The pageview API returned nothing useful at: ['https://wikimedia.org/api/rest_v1/metrics/pageviews/per-article/ru.wikipedia/all-access/all-agents/%D0%A3%D1%87%D0%B0%D1%81%D1%82%D0%BD%D0%B8%D0%BA%3ATintin-tintine%2FList_of_awards_and_nominations_received_by_Madonna/monthly/2017100600/2019040100']\n"
     ]
    },
    {
     "name": "stdout",
     "output_type": "stream",
     "text": [
      "ERROR while fetching and parsing ['https://wikimedia.org/api/rest_v1/metrics/pageviews/per-article/ru.wikipedia/all-access/all-agents/Chaturbate/monthly/2017100800/2019040100']\n"
     ]
    },
    {
     "name": "stderr",
     "output_type": "stream",
     "text": [
      "Traceback (most recent call last):\n",
      "  File \"/srv/paws/lib/python3.6/site-packages/mwviews/api/pageviews.py\", line 145, in article_views\n",
      "    'The pageview API returned nothing useful at: {}'.format(urls)\n",
      "Exception: The pageview API returned nothing useful at: ['https://wikimedia.org/api/rest_v1/metrics/pageviews/per-article/ru.wikipedia/all-access/all-agents/Chaturbate/monthly/2017100800/2019040100']\n"
     ]
    },
    {
     "name": "stdout",
     "output_type": "stream",
     "text": [
      "ERROR while fetching and parsing ['https://wikimedia.org/api/rest_v1/metrics/pageviews/per-article/ru.wikipedia/all-access/all-agents/%D0%A3%D1%87%D0%B0%D1%81%D1%82%D0%BD%D0%B8%D0%BA%3APoetVeches%2FJames_Grady/monthly/2017101000/2019040100']\n"
     ]
    },
    {
     "name": "stderr",
     "output_type": "stream",
     "text": [
      "Traceback (most recent call last):\n",
      "  File \"/srv/paws/lib/python3.6/site-packages/mwviews/api/pageviews.py\", line 145, in article_views\n",
      "    'The pageview API returned nothing useful at: {}'.format(urls)\n",
      "Exception: The pageview API returned nothing useful at: ['https://wikimedia.org/api/rest_v1/metrics/pageviews/per-article/ru.wikipedia/all-access/all-agents/%D0%A3%D1%87%D0%B0%D1%81%D1%82%D0%BD%D0%B8%D0%BA%3APoetVeches%2FJames_Grady/monthly/2017101000/2019040100']\n"
     ]
    },
    {
     "name": "stdout",
     "output_type": "stream",
     "text": [
      "ERROR while fetching and parsing ['https://wikimedia.org/api/rest_v1/metrics/pageviews/per-article/ru.wikipedia/all-access/all-agents/%D0%90%D0%B1%D1%83_%D0%98%D1%81%D0%B0_%D0%B0%D0%BB%D1%8C-%D0%92%D0%B0%D1%80%D0%B0%D0%BA/monthly/2017101100/2019040100']\n"
     ]
    },
    {
     "name": "stderr",
     "output_type": "stream",
     "text": [
      "Traceback (most recent call last):\n",
      "  File \"/srv/paws/lib/python3.6/site-packages/mwviews/api/pageviews.py\", line 145, in article_views\n",
      "    'The pageview API returned nothing useful at: {}'.format(urls)\n",
      "Exception: The pageview API returned nothing useful at: ['https://wikimedia.org/api/rest_v1/metrics/pageviews/per-article/ru.wikipedia/all-access/all-agents/%D0%90%D0%B1%D1%83_%D0%98%D1%81%D0%B0_%D0%B0%D0%BB%D1%8C-%D0%92%D0%B0%D1%80%D0%B0%D0%BA/monthly/2017101100/2019040100']\n"
     ]
    },
    {
     "name": "stdout",
     "output_type": "stream",
     "text": [
      "ERROR while fetching and parsing ['https://wikimedia.org/api/rest_v1/metrics/pageviews/per-article/ru.wikipedia/all-access/all-agents/%D0%A3%D1%87%D0%B0%D1%81%D1%82%D0%BD%D0%B8%D0%BA%3ATintin-tintine%2F%D0%94%D0%B8%D1%81%D0%BA%D0%BE%D0%B3%D1%80%D0%B0%D1%84%D0%B8%D1%8F_%D1%81%D0%B8%D0%BD%D0%B3%D0%BB%D0%BE%D0%B2_%D0%9C%D0%B0%D0%B4%D0%BE%D0%BD%D0%BD%D1%8B/monthly/2017113000/2019040100']\n",
      "ERROR while fetching and parsing ['https://wikimedia.org/api/rest_v1/metrics/pageviews/per-article/ru.wikipedia/all-access/all-agents/%D0%A3%D1%87%D0%B0%D1%81%D1%82%D0%BD%D0%B8%D0%BA%3ATintin-tintine%2FMadonna_%28%D0%BC%D1%83%D0%B7%D1%8B%D0%BA%D0%B0%D0%BD%D1%82j%29/monthly/2018071100/2019040100']\n"
     ]
    },
    {
     "name": "stderr",
     "output_type": "stream",
     "text": [
      "Traceback (most recent call last):\n",
      "  File \"/srv/paws/lib/python3.6/site-packages/mwviews/api/pageviews.py\", line 145, in article_views\n",
      "    'The pageview API returned nothing useful at: {}'.format(urls)\n",
      "Exception: The pageview API returned nothing useful at: ['https://wikimedia.org/api/rest_v1/metrics/pageviews/per-article/ru.wikipedia/all-access/all-agents/%D0%A3%D1%87%D0%B0%D1%81%D1%82%D0%BD%D0%B8%D0%BA%3ATintin-tintine%2F%D0%94%D0%B8%D1%81%D0%BA%D0%BE%D0%B3%D1%80%D0%B0%D1%84%D0%B8%D1%8F_%D1%81%D0%B8%D0%BD%D0%B3%D0%BB%D0%BE%D0%B2_%D0%9C%D0%B0%D0%B4%D0%BE%D0%BD%D0%BD%D1%8B/monthly/2017113000/2019040100']\n",
      "Traceback (most recent call last):\n",
      "  File \"/srv/paws/lib/python3.6/site-packages/mwviews/api/pageviews.py\", line 145, in article_views\n",
      "    'The pageview API returned nothing useful at: {}'.format(urls)\n",
      "Exception: The pageview API returned nothing useful at: ['https://wikimedia.org/api/rest_v1/metrics/pageviews/per-article/ru.wikipedia/all-access/all-agents/%D0%A3%D1%87%D0%B0%D1%81%D1%82%D0%BD%D0%B8%D0%BA%3ATintin-tintine%2FMadonna_%28%D0%BC%D1%83%D0%B7%D1%8B%D0%BA%D0%B0%D0%BD%D1%82j%29/monthly/2018071100/2019040100']\n"
     ]
    },
    {
     "name": "stdout",
     "output_type": "stream",
     "text": [
      "ERROR while fetching and parsing ['https://wikimedia.org/api/rest_v1/metrics/pageviews/per-article/ru.wikipedia/all-access/all-agents/%D0%92%D0%B7%D1%80%D1%8B%D0%B2%D1%8B_%D1%84%D0%B5%D0%B9%D0%B5%D1%80%D0%B2%D0%B5%D1%80%D0%BA%D0%BE%D0%B2_%D0%B2%C2%A0%D0%A2%D1%83%D0%BB%D1%8C%D1%82%D0%B5%D0%BF%D0%B5%D0%BA%D0%B5/monthly/2017101700/2019040100']\n",
      "ERROR while fetching and parsing ['https://wikimedia.org/api/rest_v1/metrics/pageviews/per-article/ru.wikipedia/all-access/all-agents/%D0%90%D1%82%D0%BB%D0%B0%D1%81_%D0%9C%D0%B8%D1%80%D0%BE%D0%B2%D0%BE%D0%B3%D0%BE_%D0%9E%D0%BA%D0%B5%D0%B0%D0%BD%D0%B0/monthly/2017101900/2019040100']\n"
     ]
    },
    {
     "name": "stderr",
     "output_type": "stream",
     "text": [
      "Traceback (most recent call last):\n",
      "  File \"/srv/paws/lib/python3.6/site-packages/mwviews/api/pageviews.py\", line 145, in article_views\n",
      "    'The pageview API returned nothing useful at: {}'.format(urls)\n",
      "Exception: The pageview API returned nothing useful at: ['https://wikimedia.org/api/rest_v1/metrics/pageviews/per-article/ru.wikipedia/all-access/all-agents/%D0%92%D0%B7%D1%80%D1%8B%D0%B2%D1%8B_%D1%84%D0%B5%D0%B9%D0%B5%D1%80%D0%B2%D0%B5%D1%80%D0%BA%D0%BE%D0%B2_%D0%B2%C2%A0%D0%A2%D1%83%D0%BB%D1%8C%D1%82%D0%B5%D0%BF%D0%B5%D0%BA%D0%B5/monthly/2017101700/2019040100']\n",
      "Traceback (most recent call last):\n",
      "  File \"/srv/paws/lib/python3.6/site-packages/mwviews/api/pageviews.py\", line 145, in article_views\n",
      "    'The pageview API returned nothing useful at: {}'.format(urls)\n",
      "Exception: The pageview API returned nothing useful at: ['https://wikimedia.org/api/rest_v1/metrics/pageviews/per-article/ru.wikipedia/all-access/all-agents/%D0%90%D1%82%D0%BB%D0%B0%D1%81_%D0%9C%D0%B8%D1%80%D0%BE%D0%B2%D0%BE%D0%B3%D0%BE_%D0%9E%D0%BA%D0%B5%D0%B0%D0%BD%D0%B0/monthly/2017101900/2019040100']\n"
     ]
    },
    {
     "name": "stdout",
     "output_type": "stream",
     "text": [
      "ERROR while fetching and parsing ['https://wikimedia.org/api/rest_v1/metrics/pageviews/per-article/ru.wikipedia/all-access/all-agents/%D0%A1%D0%B0%D0%B4_%D1%81%D0%B0%D0%BA%D1%83%D1%80%D1%8B/monthly/2017102400/2019040100']\n"
     ]
    },
    {
     "name": "stderr",
     "output_type": "stream",
     "text": [
      "Traceback (most recent call last):\n",
      "  File \"/srv/paws/lib/python3.6/site-packages/mwviews/api/pageviews.py\", line 145, in article_views\n",
      "    'The pageview API returned nothing useful at: {}'.format(urls)\n",
      "Exception: The pageview API returned nothing useful at: ['https://wikimedia.org/api/rest_v1/metrics/pageviews/per-article/ru.wikipedia/all-access/all-agents/%D0%A1%D0%B0%D0%B4_%D1%81%D0%B0%D0%BA%D1%83%D1%80%D1%8B/monthly/2017102400/2019040100']\n"
     ]
    },
    {
     "name": "stdout",
     "output_type": "stream",
     "text": [
      "ERROR while fetching and parsing ['https://wikimedia.org/api/rest_v1/metrics/pageviews/per-article/ru.wikipedia/all-access/all-agents/A_Certain_Sacrifice/monthly/2017101900/2019040100']\n"
     ]
    },
    {
     "name": "stderr",
     "output_type": "stream",
     "text": [
      "Traceback (most recent call last):\n",
      "  File \"/srv/paws/lib/python3.6/site-packages/mwviews/api/pageviews.py\", line 145, in article_views\n",
      "    'The pageview API returned nothing useful at: {}'.format(urls)\n",
      "Exception: The pageview API returned nothing useful at: ['https://wikimedia.org/api/rest_v1/metrics/pageviews/per-article/ru.wikipedia/all-access/all-agents/A_Certain_Sacrifice/monthly/2017101900/2019040100']\n"
     ]
    },
    {
     "name": "stdout",
     "output_type": "stream",
     "text": [
      "ERROR while fetching and parsing ['https://wikimedia.org/api/rest_v1/metrics/pageviews/per-article/ru.wikipedia/all-access/all-agents/Samakki_Thailand/monthly/2017102200/2019040100']\n",
      "ERROR while fetching and parsing ['https://wikimedia.org/api/rest_v1/metrics/pageviews/per-article/ru.wikipedia/all-access/all-agents/%D0%92%D0%BE%D0%B7%D1%87%D0%B8%D0%BA%D0%BE%D0%B2_%28%D1%81%D0%BE%D0%B1%D0%BE%D0%B9%29/monthly/2017102200/2019040100']\n",
      "ERROR while fetching and parsing ['https://wikimedia.org/api/rest_v1/metrics/pageviews/per-article/ru.wikipedia/all-access/all-agents/Osi_%28ancient_tribe%29/monthly/2017102200/2019040100']\n"
     ]
    },
    {
     "name": "stderr",
     "output_type": "stream",
     "text": [
      "Traceback (most recent call last):\n",
      "  File \"/srv/paws/lib/python3.6/site-packages/mwviews/api/pageviews.py\", line 145, in article_views\n",
      "    'The pageview API returned nothing useful at: {}'.format(urls)\n",
      "Exception: The pageview API returned nothing useful at: ['https://wikimedia.org/api/rest_v1/metrics/pageviews/per-article/ru.wikipedia/all-access/all-agents/Samakki_Thailand/monthly/2017102200/2019040100']\n",
      "Traceback (most recent call last):\n",
      "  File \"/srv/paws/lib/python3.6/site-packages/mwviews/api/pageviews.py\", line 145, in article_views\n",
      "    'The pageview API returned nothing useful at: {}'.format(urls)\n",
      "Exception: The pageview API returned nothing useful at: ['https://wikimedia.org/api/rest_v1/metrics/pageviews/per-article/ru.wikipedia/all-access/all-agents/%D0%92%D0%BE%D0%B7%D1%87%D0%B8%D0%BA%D0%BE%D0%B2_%28%D1%81%D0%BE%D0%B1%D0%BE%D0%B9%29/monthly/2017102200/2019040100']\n",
      "Traceback (most recent call last):\n",
      "  File \"/srv/paws/lib/python3.6/site-packages/mwviews/api/pageviews.py\", line 145, in article_views\n",
      "    'The pageview API returned nothing useful at: {}'.format(urls)\n",
      "Exception: The pageview API returned nothing useful at: ['https://wikimedia.org/api/rest_v1/metrics/pageviews/per-article/ru.wikipedia/all-access/all-agents/Osi_%28ancient_tribe%29/monthly/2017102200/2019040100']\n"
     ]
    },
    {
     "name": "stdout",
     "output_type": "stream",
     "text": [
      "ERROR while fetching and parsing ['https://wikimedia.org/api/rest_v1/metrics/pageviews/per-article/ru.wikipedia/all-access/all-agents/%D0%A3%D1%87%D0%B0%D1%81%D1%82%D0%BD%D0%B8%D0%BA%3AAndreykor%2FNina_Kraviz/monthly/2017102300/2019040100']\n"
     ]
    },
    {
     "name": "stderr",
     "output_type": "stream",
     "text": [
      "Traceback (most recent call last):\n",
      "  File \"/srv/paws/lib/python3.6/site-packages/mwviews/api/pageviews.py\", line 145, in article_views\n",
      "    'The pageview API returned nothing useful at: {}'.format(urls)\n",
      "Exception: The pageview API returned nothing useful at: ['https://wikimedia.org/api/rest_v1/metrics/pageviews/per-article/ru.wikipedia/all-access/all-agents/%D0%A3%D1%87%D0%B0%D1%81%D1%82%D0%BD%D0%B8%D0%BA%3AAndreykor%2FNina_Kraviz/monthly/2017102300/2019040100']\n"
     ]
    },
    {
     "name": "stdout",
     "output_type": "stream",
     "text": [
      "ERROR while fetching and parsing ['https://wikimedia.org/api/rest_v1/metrics/pageviews/per-article/ru.wikipedia/all-access/all-agents/BMW_6_%D0%A1%D0%B5%D1%80%D0%B8%D1%8F_%28G32%29/monthly/2017102500/2019040100']\n",
      "ERROR while fetching and parsing ['https://wikimedia.org/api/rest_v1/metrics/pageviews/per-article/ru.wikipedia/all-access/all-agents/State_Religious_Affairs_Bureau_Order_No._5/monthly/2017102500/2019040100']\n"
     ]
    },
    {
     "name": "stderr",
     "output_type": "stream",
     "text": [
      "Traceback (most recent call last):\n",
      "  File \"/srv/paws/lib/python3.6/site-packages/mwviews/api/pageviews.py\", line 145, in article_views\n",
      "    'The pageview API returned nothing useful at: {}'.format(urls)\n",
      "Exception: The pageview API returned nothing useful at: ['https://wikimedia.org/api/rest_v1/metrics/pageviews/per-article/ru.wikipedia/all-access/all-agents/BMW_6_%D0%A1%D0%B5%D1%80%D0%B8%D1%8F_%28G32%29/monthly/2017102500/2019040100']\n",
      "Traceback (most recent call last):\n",
      "  File \"/srv/paws/lib/python3.6/site-packages/mwviews/api/pageviews.py\", line 145, in article_views\n",
      "    'The pageview API returned nothing useful at: {}'.format(urls)\n",
      "Exception: The pageview API returned nothing useful at: ['https://wikimedia.org/api/rest_v1/metrics/pageviews/per-article/ru.wikipedia/all-access/all-agents/State_Religious_Affairs_Bureau_Order_No._5/monthly/2017102500/2019040100']\n"
     ]
    },
    {
     "name": "stdout",
     "output_type": "stream",
     "text": [
      "ERROR while fetching and parsing ['https://wikimedia.org/api/rest_v1/metrics/pageviews/per-article/ru.wikipedia/all-access/all-agents/user%3ALGB%2F%D0%A7%D0%B5%D1%80%D0%BD%D0%BE%D0%B2%D0%B8%D0%BA/monthly/2017102800/2019040100']\n",
      "ERROR while fetching and parsing ['https://wikimedia.org/api/rest_v1/metrics/pageviews/per-article/ru.wikipedia/all-access/all-agents/%D0%91%D0%B5%D0%BD%D0%B8-%D0%A7%D1%83%D0%B3%D0%B0%D0%BD/monthly/2017102800/2019040100']\n"
     ]
    },
    {
     "name": "stderr",
     "output_type": "stream",
     "text": [
      "Traceback (most recent call last):\n",
      "  File \"/srv/paws/lib/python3.6/site-packages/mwviews/api/pageviews.py\", line 145, in article_views\n",
      "    'The pageview API returned nothing useful at: {}'.format(urls)\n",
      "Exception: The pageview API returned nothing useful at: ['https://wikimedia.org/api/rest_v1/metrics/pageviews/per-article/ru.wikipedia/all-access/all-agents/user%3ALGB%2F%D0%A7%D0%B5%D1%80%D0%BD%D0%BE%D0%B2%D0%B8%D0%BA/monthly/2017102800/2019040100']\n",
      "Traceback (most recent call last):\n",
      "  File \"/srv/paws/lib/python3.6/site-packages/mwviews/api/pageviews.py\", line 145, in article_views\n",
      "    'The pageview API returned nothing useful at: {}'.format(urls)\n",
      "Exception: The pageview API returned nothing useful at: ['https://wikimedia.org/api/rest_v1/metrics/pageviews/per-article/ru.wikipedia/all-access/all-agents/%D0%91%D0%B5%D0%BD%D0%B8-%D0%A7%D1%83%D0%B3%D0%B0%D0%BD/monthly/2017102800/2019040100']\n"
     ]
    },
    {
     "name": "stdout",
     "output_type": "stream",
     "text": [
      "ERROR while fetching and parsing ['https://wikimedia.org/api/rest_v1/metrics/pageviews/per-article/ru.wikipedia/all-access/all-agents/Jorma_Sarvanto/monthly/2017102900/2019040100']\n"
     ]
    },
    {
     "name": "stderr",
     "output_type": "stream",
     "text": [
      "Traceback (most recent call last):\n",
      "  File \"/srv/paws/lib/python3.6/site-packages/mwviews/api/pageviews.py\", line 145, in article_views\n",
      "    'The pageview API returned nothing useful at: {}'.format(urls)\n",
      "Exception: The pageview API returned nothing useful at: ['https://wikimedia.org/api/rest_v1/metrics/pageviews/per-article/ru.wikipedia/all-access/all-agents/Jorma_Sarvanto/monthly/2017102900/2019040100']\n"
     ]
    },
    {
     "name": "stdout",
     "output_type": "stream",
     "text": [
      "ERROR while fetching and parsing ['https://wikimedia.org/api/rest_v1/metrics/pageviews/per-article/ru.wikipedia/all-access/all-agents/IGap/monthly/2017103000/2019040100']\n"
     ]
    },
    {
     "name": "stderr",
     "output_type": "stream",
     "text": [
      "Traceback (most recent call last):\n",
      "  File \"/srv/paws/lib/python3.6/site-packages/mwviews/api/pageviews.py\", line 145, in article_views\n",
      "    'The pageview API returned nothing useful at: {}'.format(urls)\n",
      "Exception: The pageview API returned nothing useful at: ['https://wikimedia.org/api/rest_v1/metrics/pageviews/per-article/ru.wikipedia/all-access/all-agents/IGap/monthly/2017103000/2019040100']\n"
     ]
    },
    {
     "name": "stdout",
     "output_type": "stream",
     "text": [
      "ERROR while fetching and parsing ['https://wikimedia.org/api/rest_v1/metrics/pageviews/per-article/ru.wikipedia/all-access/all-agents/EXPO_%28%D0%B2%D1%81%D0%B5%D0%BC%D0%B8%D1%80%D0%BD%D0%B0%D1%8F_%D0%B2%D1%8B%D1%81%D1%82%D0%B0%D0%B2%D0%BA%D0%B0%29/monthly/2017103100/2019040100']\n"
     ]
    },
    {
     "name": "stderr",
     "output_type": "stream",
     "text": [
      "Traceback (most recent call last):\n",
      "  File \"/srv/paws/lib/python3.6/site-packages/mwviews/api/pageviews.py\", line 145, in article_views\n",
      "    'The pageview API returned nothing useful at: {}'.format(urls)\n",
      "Exception: The pageview API returned nothing useful at: ['https://wikimedia.org/api/rest_v1/metrics/pageviews/per-article/ru.wikipedia/all-access/all-agents/EXPO_%28%D0%B2%D1%81%D0%B5%D0%BC%D0%B8%D1%80%D0%BD%D0%B0%D1%8F_%D0%B2%D1%8B%D1%81%D1%82%D0%B0%D0%B2%D0%BA%D0%B0%29/monthly/2017103100/2019040100']\n"
     ]
    },
    {
     "name": "stdout",
     "output_type": "stream",
     "text": [
      "ERROR while fetching and parsing ['https://wikimedia.org/api/rest_v1/metrics/pageviews/per-article/ru.wikipedia/all-access/all-agents/%D0%9A%D0%B5%D0%BD_%D0%94%D0%B6%D0%B0%D0%B9%D0%BB%D1%81/monthly/2017103100/2019040100']\n",
      "ERROR while fetching and parsing ['https://wikimedia.org/api/rest_v1/metrics/pageviews/per-article/ru.wikipedia/all-access/all-agents/%D0%9D%D0%BE%D0%B5%D0%BB%D1%8C_%D0%9F%D0%B0%D1%80%D0%BA/monthly/2017103100/2019040100']\n"
     ]
    },
    {
     "name": "stderr",
     "output_type": "stream",
     "text": [
      "Traceback (most recent call last):\n",
      "  File \"/srv/paws/lib/python3.6/site-packages/mwviews/api/pageviews.py\", line 145, in article_views\n",
      "    'The pageview API returned nothing useful at: {}'.format(urls)\n",
      "Exception: The pageview API returned nothing useful at: ['https://wikimedia.org/api/rest_v1/metrics/pageviews/per-article/ru.wikipedia/all-access/all-agents/%D0%9A%D0%B5%D0%BD_%D0%94%D0%B6%D0%B0%D0%B9%D0%BB%D1%81/monthly/2017103100/2019040100']\n",
      "Traceback (most recent call last):\n",
      "  File \"/srv/paws/lib/python3.6/site-packages/mwviews/api/pageviews.py\", line 145, in article_views\n",
      "    'The pageview API returned nothing useful at: {}'.format(urls)\n",
      "Exception: The pageview API returned nothing useful at: ['https://wikimedia.org/api/rest_v1/metrics/pageviews/per-article/ru.wikipedia/all-access/all-agents/%D0%9D%D0%BE%D0%B5%D0%BB%D1%8C_%D0%9F%D0%B0%D1%80%D0%BA/monthly/2017103100/2019040100']\n"
     ]
    },
    {
     "name": "stdout",
     "output_type": "stream",
     "text": [
      "ERROR while fetching and parsing ['https://wikimedia.org/api/rest_v1/metrics/pageviews/per-article/ru.wikipedia/all-access/all-agents/%D0%9A%D0%B0%D1%80%D0%B0%D0%B2%D0%B0%D0%BD-%D1%81%D0%B0%D1%80%D0%B0%D0%B9_%22%D0%91%D1%83%D1%85%D0%B0%D1%80%D0%B0%22/monthly/2017110200/2019040100']\n"
     ]
    },
    {
     "name": "stderr",
     "output_type": "stream",
     "text": [
      "Traceback (most recent call last):\n",
      "  File \"/srv/paws/lib/python3.6/site-packages/mwviews/api/pageviews.py\", line 145, in article_views\n",
      "    'The pageview API returned nothing useful at: {}'.format(urls)\n",
      "Exception: The pageview API returned nothing useful at: ['https://wikimedia.org/api/rest_v1/metrics/pageviews/per-article/ru.wikipedia/all-access/all-agents/%D0%9A%D0%B0%D1%80%D0%B0%D0%B2%D0%B0%D0%BD-%D1%81%D0%B0%D1%80%D0%B0%D0%B9_%22%D0%91%D1%83%D1%85%D0%B0%D1%80%D0%B0%22/monthly/2017110200/2019040100']\n"
     ]
    },
    {
     "name": "stdout",
     "output_type": "stream",
     "text": [
      "ERROR while fetching and parsing ['https://wikimedia.org/api/rest_v1/metrics/pageviews/per-article/ru.wikipedia/all-access/all-agents/%D0%9B%D0%B0%D0%BC%D0%BF%D0%B8%2C_%D0%92%D0%B8%D0%BB%D1%8C%D0%BE_%D0%A5%D0%B5%D0%BD%D1%80%D0%B8%D0%BA/monthly/2017110700/2019040100']\n"
     ]
    },
    {
     "name": "stderr",
     "output_type": "stream",
     "text": [
      "Traceback (most recent call last):\n",
      "  File \"/srv/paws/lib/python3.6/site-packages/mwviews/api/pageviews.py\", line 145, in article_views\n",
      "    'The pageview API returned nothing useful at: {}'.format(urls)\n",
      "Exception: The pageview API returned nothing useful at: ['https://wikimedia.org/api/rest_v1/metrics/pageviews/per-article/ru.wikipedia/all-access/all-agents/%D0%9B%D0%B0%D0%BC%D0%BF%D0%B8%2C_%D0%92%D0%B8%D0%BB%D1%8C%D0%BE_%D0%A5%D0%B5%D0%BD%D1%80%D0%B8%D0%BA/monthly/2017110700/2019040100']\n"
     ]
    },
    {
     "name": "stdout",
     "output_type": "stream",
     "text": [
      "ERROR while fetching and parsing ['https://wikimedia.org/api/rest_v1/metrics/pageviews/per-article/ru.wikipedia/all-access/all-agents/%D0%A3%D1%87%D0%B0%D1%81%D1%82%D0%BD%D0%B8%D0%BA%3ADimon4ezzz%2F%D0%A1%D0%BA%D1%80%D1%83%D0%B3%D0%BB%D0%B5%D0%BD%D0%BD%D1%8B%D0%B9_%D0%BA%D0%B2%D0%B0%D0%B4%D1%80%D0%B0%D1%82/monthly/2018040400/2019040100']\n",
      "ERROR while fetching and parsing ['https://wikimedia.org/api/rest_v1/metrics/pageviews/per-article/ru.wikipedia/all-access/all-agents/%D0%9E%D1%81%D1%82%D1%80%D0%BE%D0%B2%D0%B0_%D0%91%D0%B0%D1%81%D1%81%D0%B0_%28%D0%A4%D1%80%D0%B0%D0%BD%D1%86%D1%83%D0%B7%D1%81%D0%BA%D0%B0%D1%8F_%D0%9F%D0%BE%D0%BB%D0%B8%D0%BD%D0%B5%D0%B7%D0%B8%D1%8F%29/monthly/2017110200/2019040100']\n"
     ]
    },
    {
     "name": "stderr",
     "output_type": "stream",
     "text": [
      "Traceback (most recent call last):\n",
      "  File \"/srv/paws/lib/python3.6/site-packages/mwviews/api/pageviews.py\", line 145, in article_views\n",
      "    'The pageview API returned nothing useful at: {}'.format(urls)\n",
      "Exception: The pageview API returned nothing useful at: ['https://wikimedia.org/api/rest_v1/metrics/pageviews/per-article/ru.wikipedia/all-access/all-agents/%D0%A3%D1%87%D0%B0%D1%81%D1%82%D0%BD%D0%B8%D0%BA%3ADimon4ezzz%2F%D0%A1%D0%BA%D1%80%D1%83%D0%B3%D0%BB%D0%B5%D0%BD%D0%BD%D1%8B%D0%B9_%D0%BA%D0%B2%D0%B0%D0%B4%D1%80%D0%B0%D1%82/monthly/2018040400/2019040100']\n",
      "Traceback (most recent call last):\n",
      "  File \"/srv/paws/lib/python3.6/site-packages/mwviews/api/pageviews.py\", line 145, in article_views\n",
      "    'The pageview API returned nothing useful at: {}'.format(urls)\n",
      "Exception: The pageview API returned nothing useful at: ['https://wikimedia.org/api/rest_v1/metrics/pageviews/per-article/ru.wikipedia/all-access/all-agents/%D0%9E%D1%81%D1%82%D1%80%D0%BE%D0%B2%D0%B0_%D0%91%D0%B0%D1%81%D1%81%D0%B0_%28%D0%A4%D1%80%D0%B0%D0%BD%D1%86%D1%83%D0%B7%D1%81%D0%BA%D0%B0%D1%8F_%D0%9F%D0%BE%D0%BB%D0%B8%D0%BD%D0%B5%D0%B7%D0%B8%D1%8F%29/monthly/2017110200/2019040100']\n"
     ]
    },
    {
     "name": "stdout",
     "output_type": "stream",
     "text": [
      "ERROR while fetching and parsing ['https://wikimedia.org/api/rest_v1/metrics/pageviews/per-article/ru.wikipedia/all-access/all-agents/Politics_of_Kosovo/monthly/2017110300/2019040100']\n"
     ]
    },
    {
     "name": "stderr",
     "output_type": "stream",
     "text": [
      "Traceback (most recent call last):\n",
      "  File \"/srv/paws/lib/python3.6/site-packages/mwviews/api/pageviews.py\", line 145, in article_views\n",
      "    'The pageview API returned nothing useful at: {}'.format(urls)\n",
      "Exception: The pageview API returned nothing useful at: ['https://wikimedia.org/api/rest_v1/metrics/pageviews/per-article/ru.wikipedia/all-access/all-agents/Politics_of_Kosovo/monthly/2017110300/2019040100']\n"
     ]
    },
    {
     "name": "stdout",
     "output_type": "stream",
     "text": [
      "ERROR while fetching and parsing ['https://wikimedia.org/api/rest_v1/metrics/pageviews/per-article/ru.wikipedia/all-access/all-agents/%D0%A1%D0%BF%D0%B8%D1%81%D0%BE%D0%BA_%D0%B8%D1%81%D1%82%D0%BE%D1%80%D0%B8%D0%BA%D0%BE%D0%B2_%D0%A0%D0%BE%D1%81%D1%81%D0%B8%D0%B8/monthly/2017110300/2019040100']\n",
      "ERROR while fetching and parsing ['https://wikimedia.org/api/rest_v1/metrics/pageviews/per-article/ru.wikipedia/all-access/all-agents/User%3AEtonkovidova%2FTest1_Heartbreak_on_a_Full_Moon/monthly/2017111600/2019040100']\n"
     ]
    },
    {
     "name": "stderr",
     "output_type": "stream",
     "text": [
      "Traceback (most recent call last):\n",
      "  File \"/srv/paws/lib/python3.6/site-packages/mwviews/api/pageviews.py\", line 145, in article_views\n",
      "    'The pageview API returned nothing useful at: {}'.format(urls)\n",
      "Exception: The pageview API returned nothing useful at: ['https://wikimedia.org/api/rest_v1/metrics/pageviews/per-article/ru.wikipedia/all-access/all-agents/%D0%A1%D0%BF%D0%B8%D1%81%D0%BE%D0%BA_%D0%B8%D1%81%D1%82%D0%BE%D1%80%D0%B8%D0%BA%D0%BE%D0%B2_%D0%A0%D0%BE%D1%81%D1%81%D0%B8%D0%B8/monthly/2017110300/2019040100']\n",
      "Traceback (most recent call last):\n",
      "  File \"/srv/paws/lib/python3.6/site-packages/mwviews/api/pageviews.py\", line 145, in article_views\n",
      "    'The pageview API returned nothing useful at: {}'.format(urls)\n",
      "Exception: The pageview API returned nothing useful at: ['https://wikimedia.org/api/rest_v1/metrics/pageviews/per-article/ru.wikipedia/all-access/all-agents/User%3AEtonkovidova%2FTest1_Heartbreak_on_a_Full_Moon/monthly/2017111600/2019040100']\n"
     ]
    },
    {
     "name": "stdout",
     "output_type": "stream",
     "text": [
      "ERROR while fetching and parsing ['https://wikimedia.org/api/rest_v1/metrics/pageviews/per-article/ru.wikipedia/all-access/all-agents/%D0%AF_%D0%BD%D0%B5_%D0%BC%D0%BE%D0%B3%D1%83_%D0%BD%D0%B0%D1%87%D0%B0%D1%82%D1%8C_%28%D1%84%D0%B8%D0%BB%D1%8C%D0%BC%29/monthly/2017110400/2019040100']\n",
      "ERROR while fetching and parsing ['https://wikimedia.org/api/rest_v1/metrics/pageviews/per-article/ru.wikipedia/all-access/all-agents/%D0%AD%D0%BD%D1%80%D0%B8%D0%BA%D0%B5_%D0%A5%D0%B0%D0%BD%D0%BD%D0%B0%D0%B1%D0%B5%D1%80%D0%B3/monthly/2017110400/2019040100']\n"
     ]
    },
    {
     "name": "stderr",
     "output_type": "stream",
     "text": [
      "Traceback (most recent call last):\n",
      "  File \"/srv/paws/lib/python3.6/site-packages/mwviews/api/pageviews.py\", line 145, in article_views\n",
      "    'The pageview API returned nothing useful at: {}'.format(urls)\n",
      "Exception: The pageview API returned nothing useful at: ['https://wikimedia.org/api/rest_v1/metrics/pageviews/per-article/ru.wikipedia/all-access/all-agents/%D0%AF_%D0%BD%D0%B5_%D0%BC%D0%BE%D0%B3%D1%83_%D0%BD%D0%B0%D1%87%D0%B0%D1%82%D1%8C_%28%D1%84%D0%B8%D0%BB%D1%8C%D0%BC%29/monthly/2017110400/2019040100']\n",
      "Traceback (most recent call last):\n",
      "  File \"/srv/paws/lib/python3.6/site-packages/mwviews/api/pageviews.py\", line 145, in article_views\n",
      "    'The pageview API returned nothing useful at: {}'.format(urls)\n",
      "Exception: The pageview API returned nothing useful at: ['https://wikimedia.org/api/rest_v1/metrics/pageviews/per-article/ru.wikipedia/all-access/all-agents/%D0%AD%D0%BD%D1%80%D0%B8%D0%BA%D0%B5_%D0%A5%D0%B0%D0%BD%D0%BD%D0%B0%D0%B1%D0%B5%D1%80%D0%B3/monthly/2017110400/2019040100']\n"
     ]
    },
    {
     "name": "stdout",
     "output_type": "stream",
     "text": [
      "ERROR while fetching and parsing ['https://wikimedia.org/api/rest_v1/metrics/pageviews/per-article/ru.wikipedia/all-access/all-agents/%D0%9C%D0%B5%D1%81%D1%82%D0%BE_%D0%B1%D0%B5%D0%B7_%D1%80%D0%BE%D0%B4%D0%B8%D1%82%D0%B5%D0%BB%D0%B5%D0%B9/monthly/2017110400/2019040100']\n",
      "ERROR while fetching and parsing ['https://wikimedia.org/api/rest_v1/metrics/pageviews/per-article/ru.wikipedia/all-access/all-agents/%D0%A3%D1%87%D0%B0%D1%81%D1%82%D0%BD%D0%B8%D0%BA%3ADm%2FScripting_for_the_Java_Platform/monthly/2017110500/2019040100']\n"
     ]
    },
    {
     "name": "stderr",
     "output_type": "stream",
     "text": [
      "Traceback (most recent call last):\n",
      "  File \"/srv/paws/lib/python3.6/site-packages/mwviews/api/pageviews.py\", line 145, in article_views\n",
      "    'The pageview API returned nothing useful at: {}'.format(urls)\n",
      "Exception: The pageview API returned nothing useful at: ['https://wikimedia.org/api/rest_v1/metrics/pageviews/per-article/ru.wikipedia/all-access/all-agents/%D0%9C%D0%B5%D1%81%D1%82%D0%BE_%D0%B1%D0%B5%D0%B7_%D1%80%D0%BE%D0%B4%D0%B8%D1%82%D0%B5%D0%BB%D0%B5%D0%B9/monthly/2017110400/2019040100']\n",
      "Traceback (most recent call last):\n",
      "  File \"/srv/paws/lib/python3.6/site-packages/mwviews/api/pageviews.py\", line 145, in article_views\n",
      "    'The pageview API returned nothing useful at: {}'.format(urls)\n",
      "Exception: The pageview API returned nothing useful at: ['https://wikimedia.org/api/rest_v1/metrics/pageviews/per-article/ru.wikipedia/all-access/all-agents/%D0%A3%D1%87%D0%B0%D1%81%D1%82%D0%BD%D0%B8%D0%BA%3ADm%2FScripting_for_the_Java_Platform/monthly/2017110500/2019040100']\n"
     ]
    },
    {
     "name": "stdout",
     "output_type": "stream",
     "text": [
      "ERROR while fetching and parsing ['https://wikimedia.org/api/rest_v1/metrics/pageviews/per-article/ru.wikipedia/all-access/all-agents/%D0%A3%D1%87%D0%B0%D1%81%D1%82%D0%BD%D0%B8%D0%BA%3ATintin-tintine%2FWho%E2%80%99s_That_Girl_%28%D1%81%D0%B0%D1%83%D0%BD%D0%B4%29/monthly/2018063000/2019040100']\n"
     ]
    },
    {
     "name": "stderr",
     "output_type": "stream",
     "text": [
      "Traceback (most recent call last):\n",
      "  File \"/srv/paws/lib/python3.6/site-packages/mwviews/api/pageviews.py\", line 145, in article_views\n",
      "    'The pageview API returned nothing useful at: {}'.format(urls)\n",
      "Exception: The pageview API returned nothing useful at: ['https://wikimedia.org/api/rest_v1/metrics/pageviews/per-article/ru.wikipedia/all-access/all-agents/%D0%A3%D1%87%D0%B0%D1%81%D1%82%D0%BD%D0%B8%D0%BA%3ATintin-tintine%2FWho%E2%80%99s_That_Girl_%28%D1%81%D0%B0%D1%83%D0%BD%D0%B4%29/monthly/2018063000/2019040100']\n"
     ]
    },
    {
     "name": "stdout",
     "output_type": "stream",
     "text": [
      "ERROR while fetching and parsing ['https://wikimedia.org/api/rest_v1/metrics/pageviews/per-article/ru.wikipedia/all-access/all-agents/%D0%9C%D0%B5%D1%87%D0%B8_%D0%BB%D0%B5%D0%B3%D0%B5%D0%BD%D0%B4/monthly/2017111100/2019040100']\n"
     ]
    },
    {
     "name": "stderr",
     "output_type": "stream",
     "text": [
      "Traceback (most recent call last):\n",
      "  File \"/srv/paws/lib/python3.6/site-packages/mwviews/api/pageviews.py\", line 145, in article_views\n",
      "    'The pageview API returned nothing useful at: {}'.format(urls)\n",
      "Exception: The pageview API returned nothing useful at: ['https://wikimedia.org/api/rest_v1/metrics/pageviews/per-article/ru.wikipedia/all-access/all-agents/%D0%9C%D0%B5%D1%87%D0%B8_%D0%BB%D0%B5%D0%B3%D0%B5%D0%BD%D0%B4/monthly/2017111100/2019040100']\n"
     ]
    },
    {
     "name": "stdout",
     "output_type": "stream",
     "text": [
      "ERROR while fetching and parsing ['https://wikimedia.org/api/rest_v1/metrics/pageviews/per-article/ru.wikipedia/all-access/all-agents/%D0%A1%D0%BF%D0%B8%D1%81%D0%BE%D0%BA_%D0%BC%D0%BE%D0%BD%D0%BE%D1%88%D0%B8%D1%80%D0%B8%D0%BD%D0%BD%D1%8B%D1%85_%D1%88%D1%80%D0%B8%D1%84%D1%82%D0%BE%D0%B2/monthly/2017111200/2019040100']\n"
     ]
    },
    {
     "name": "stderr",
     "output_type": "stream",
     "text": [
      "Traceback (most recent call last):\n",
      "  File \"/srv/paws/lib/python3.6/site-packages/mwviews/api/pageviews.py\", line 145, in article_views\n",
      "    'The pageview API returned nothing useful at: {}'.format(urls)\n",
      "Exception: The pageview API returned nothing useful at: ['https://wikimedia.org/api/rest_v1/metrics/pageviews/per-article/ru.wikipedia/all-access/all-agents/%D0%A1%D0%BF%D0%B8%D1%81%D0%BE%D0%BA_%D0%BC%D0%BE%D0%BD%D0%BE%D1%88%D0%B8%D1%80%D0%B8%D0%BD%D0%BD%D1%8B%D1%85_%D1%88%D1%80%D0%B8%D1%84%D1%82%D0%BE%D0%B2/monthly/2017111200/2019040100']\n"
     ]
    },
    {
     "name": "stdout",
     "output_type": "stream",
     "text": [
      "ERROR while fetching and parsing ['https://wikimedia.org/api/rest_v1/metrics/pageviews/per-article/ru.wikipedia/all-access/all-agents/%D0%A2%D1%80%D0%B0%D0%BC%D1%80-%D0%92%D0%B8%D0%BB%D0%BB%D0%B8%D0%B4%D0%B6/monthly/2017111300/2019040100']\n"
     ]
    },
    {
     "name": "stderr",
     "output_type": "stream",
     "text": [
      "Traceback (most recent call last):\n",
      "  File \"/srv/paws/lib/python3.6/site-packages/mwviews/api/pageviews.py\", line 145, in article_views\n",
      "    'The pageview API returned nothing useful at: {}'.format(urls)\n",
      "Exception: The pageview API returned nothing useful at: ['https://wikimedia.org/api/rest_v1/metrics/pageviews/per-article/ru.wikipedia/all-access/all-agents/%D0%A2%D1%80%D0%B0%D0%BC%D1%80-%D0%92%D0%B8%D0%BB%D0%BB%D0%B8%D0%B4%D0%B6/monthly/2017111300/2019040100']\n"
     ]
    },
    {
     "name": "stdout",
     "output_type": "stream",
     "text": [
      "ERROR while fetching and parsing ['https://wikimedia.org/api/rest_v1/metrics/pageviews/per-article/ru.wikipedia/all-access/all-agents/Bude/monthly/2017111300/2019040100']\n"
     ]
    },
    {
     "name": "stderr",
     "output_type": "stream",
     "text": [
      "Traceback (most recent call last):\n",
      "  File \"/srv/paws/lib/python3.6/site-packages/mwviews/api/pageviews.py\", line 145, in article_views\n",
      "    'The pageview API returned nothing useful at: {}'.format(urls)\n",
      "Exception: The pageview API returned nothing useful at: ['https://wikimedia.org/api/rest_v1/metrics/pageviews/per-article/ru.wikipedia/all-access/all-agents/Bude/monthly/2017111300/2019040100']\n"
     ]
    },
    {
     "name": "stdout",
     "output_type": "stream",
     "text": [
      "ERROR while fetching and parsing ['https://wikimedia.org/api/rest_v1/metrics/pageviews/per-article/ru.wikipedia/all-access/all-agents/4-%D0%A5%D0%BB%D0%BE%D1%80%D0%B8%D0%BD%D0%B4%D0%BE%D0%BB%D0%B8%D0%BB-3-%D1%83%D0%BA%D1%81%D1%83%D1%81%D0%BD%D0%B0%D1%8F_%D0%BA%D0%B8%D1%81%D0%BB%D0%BE%D1%82%D0%B0acid/monthly/2017111700/2019040100']\n"
     ]
    },
    {
     "name": "stderr",
     "output_type": "stream",
     "text": [
      "Traceback (most recent call last):\n",
      "  File \"/srv/paws/lib/python3.6/site-packages/mwviews/api/pageviews.py\", line 145, in article_views\n",
      "    'The pageview API returned nothing useful at: {}'.format(urls)\n",
      "Exception: The pageview API returned nothing useful at: ['https://wikimedia.org/api/rest_v1/metrics/pageviews/per-article/ru.wikipedia/all-access/all-agents/4-%D0%A5%D0%BB%D0%BE%D1%80%D0%B8%D0%BD%D0%B4%D0%BE%D0%BB%D0%B8%D0%BB-3-%D1%83%D0%BA%D1%81%D1%83%D1%81%D0%BD%D0%B0%D1%8F_%D0%BA%D0%B8%D1%81%D0%BB%D0%BE%D1%82%D0%B0acid/monthly/2017111700/2019040100']\n"
     ]
    },
    {
     "name": "stdout",
     "output_type": "stream",
     "text": [
      "ERROR while fetching and parsing ['https://wikimedia.org/api/rest_v1/metrics/pageviews/per-article/ru.wikipedia/all-access/all-agents/%D0%9F%D0%BE%D0%BB%D0%B8%D1%82%D0%B8%D0%BA%D0%B0_%D0%98%D0%BD%D0%B4%D0%BE%D0%BD%D0%B5%D0%B7%D0%B8%D0%B8/monthly/2017111900/2019040100']\n"
     ]
    },
    {
     "name": "stderr",
     "output_type": "stream",
     "text": [
      "Traceback (most recent call last):\n",
      "  File \"/srv/paws/lib/python3.6/site-packages/mwviews/api/pageviews.py\", line 145, in article_views\n",
      "    'The pageview API returned nothing useful at: {}'.format(urls)\n",
      "Exception: The pageview API returned nothing useful at: ['https://wikimedia.org/api/rest_v1/metrics/pageviews/per-article/ru.wikipedia/all-access/all-agents/%D0%9F%D0%BE%D0%BB%D0%B8%D1%82%D0%B8%D0%BA%D0%B0_%D0%98%D0%BD%D0%B4%D0%BE%D0%BD%D0%B5%D0%B7%D0%B8%D0%B8/monthly/2017111900/2019040100']\n"
     ]
    },
    {
     "name": "stdout",
     "output_type": "stream",
     "text": [
      "ERROR while fetching and parsing ['https://wikimedia.org/api/rest_v1/metrics/pageviews/per-article/ru.wikipedia/all-access/all-agents/%D0%9A%D0%B0%D1%80%D0%B0%D1%87%D0%B5%D0%B2%D0%BE_%28%D0%B3%D0%BE%D1%80%D0%BE%D0%B4%29/monthly/2017112100/2019040100']\n"
     ]
    },
    {
     "name": "stderr",
     "output_type": "stream",
     "text": [
      "Traceback (most recent call last):\n",
      "  File \"/srv/paws/lib/python3.6/site-packages/mwviews/api/pageviews.py\", line 145, in article_views\n",
      "    'The pageview API returned nothing useful at: {}'.format(urls)\n",
      "Exception: The pageview API returned nothing useful at: ['https://wikimedia.org/api/rest_v1/metrics/pageviews/per-article/ru.wikipedia/all-access/all-agents/%D0%9A%D0%B0%D1%80%D0%B0%D1%87%D0%B5%D0%B2%D0%BE_%28%D0%B3%D0%BE%D1%80%D0%BE%D0%B4%29/monthly/2017112100/2019040100']\n"
     ]
    },
    {
     "name": "stdout",
     "output_type": "stream",
     "text": [
      "ERROR while fetching and parsing ['https://wikimedia.org/api/rest_v1/metrics/pageviews/per-article/ru.wikipedia/all-access/all-agents/%D0%AD%D0%BB%D0%B5%D0%BA%D1%82%D1%80%D0%BE%D0%B3%D0%B5%D0%BD%D0%B5%D1%80%D0%B8%D1%80%D1%83%D1%8E%D1%89%D0%B0%D1%8F_%D0%BA%D0%B0%D0%BC%D0%BF%D0%B0%D0%BD%D0%B8%D1%8F_%D0%A2%D0%B0%D0%B8%D0%BB%D0%B0%D0%BD%D0%B4%D0%B0/monthly/2017112700/2019040100']\n",
      "ERROR while fetching and parsing ['https://wikimedia.org/api/rest_v1/metrics/pageviews/per-article/ru.wikipedia/all-access/all-agents/%D0%A3%D1%87%D0%B0%D1%81%D1%82%D0%BD%D0%B8%D0%BA%3ATatewaki%2F%D0%9F%D0%B0%D0%BD%D1%8A%D1%8F%D1%80%D0%B0%D1%87%D1%83%D0%BD%2C_%D0%90%D0%BD%D0%B0%D0%BD/monthly/2017112700/2019040100']\n"
     ]
    },
    {
     "name": "stderr",
     "output_type": "stream",
     "text": [
      "Traceback (most recent call last):\n",
      "  File \"/srv/paws/lib/python3.6/site-packages/mwviews/api/pageviews.py\", line 145, in article_views\n",
      "    'The pageview API returned nothing useful at: {}'.format(urls)\n",
      "Exception: The pageview API returned nothing useful at: ['https://wikimedia.org/api/rest_v1/metrics/pageviews/per-article/ru.wikipedia/all-access/all-agents/%D0%AD%D0%BB%D0%B5%D0%BA%D1%82%D1%80%D0%BE%D0%B3%D0%B5%D0%BD%D0%B5%D1%80%D0%B8%D1%80%D1%83%D1%8E%D1%89%D0%B0%D1%8F_%D0%BA%D0%B0%D0%BC%D0%BF%D0%B0%D0%BD%D0%B8%D1%8F_%D0%A2%D0%B0%D0%B8%D0%BB%D0%B0%D0%BD%D0%B4%D0%B0/monthly/2017112700/2019040100']\n",
      "Traceback (most recent call last):\n",
      "  File \"/srv/paws/lib/python3.6/site-packages/mwviews/api/pageviews.py\", line 145, in article_views\n",
      "    'The pageview API returned nothing useful at: {}'.format(urls)\n",
      "Exception: The pageview API returned nothing useful at: ['https://wikimedia.org/api/rest_v1/metrics/pageviews/per-article/ru.wikipedia/all-access/all-agents/%D0%A3%D1%87%D0%B0%D1%81%D1%82%D0%BD%D0%B8%D0%BA%3ATatewaki%2F%D0%9F%D0%B0%D0%BD%D1%8A%D1%8F%D1%80%D0%B0%D1%87%D1%83%D0%BD%2C_%D0%90%D0%BD%D0%B0%D0%BD/monthly/2017112700/2019040100']\n"
     ]
    },
    {
     "name": "stdout",
     "output_type": "stream",
     "text": [
      "ERROR while fetching and parsing ['https://wikimedia.org/api/rest_v1/metrics/pageviews/per-article/ru.wikipedia/all-access/all-agents/%D0%92%D0%BE%D0%B4%D0%BE%D0%BF%D0%B0%D0%B4%D1%8B_%D0%93%D0%B0%D1%83%D1%82%D0%B8%D0%BE%D1%82/monthly/2017120400/2019040100']\n"
     ]
    },
    {
     "name": "stderr",
     "output_type": "stream",
     "text": [
      "Traceback (most recent call last):\n",
      "  File \"/srv/paws/lib/python3.6/site-packages/mwviews/api/pageviews.py\", line 145, in article_views\n",
      "    'The pageview API returned nothing useful at: {}'.format(urls)\n",
      "Exception: The pageview API returned nothing useful at: ['https://wikimedia.org/api/rest_v1/metrics/pageviews/per-article/ru.wikipedia/all-access/all-agents/%D0%92%D0%BE%D0%B4%D0%BE%D0%BF%D0%B0%D0%B4%D1%8B_%D0%93%D0%B0%D1%83%D1%82%D0%B8%D0%BE%D1%82/monthly/2017120400/2019040100']\n"
     ]
    },
    {
     "name": "stdout",
     "output_type": "stream",
     "text": [
      "ERROR while fetching and parsing ['https://wikimedia.org/api/rest_v1/metrics/pageviews/per-article/ru.wikipedia/all-access/all-agents/%D0%91%D0%B5%D0%BD_%D0%93%D1%83%D1%80%D0%B8%D0%BE%D0%BD_%D0%B0%D1%8D%D1%80%D0%BE%D0%BF%D0%BE%D1%80%D1%82_%D0%B6%D0%B5%D0%BB%D0%B5%D0%B7%D0%BD%D0%BE%D0%B4%D0%BE%D1%80%D0%BE%D0%B6%D0%BD%D0%B0%D1%8F_%D1%81%D1%82%D0%B0%D0%BD%D1%86%D0%B8%D1%8F/monthly/2017112800/2019040100']\n"
     ]
    },
    {
     "name": "stderr",
     "output_type": "stream",
     "text": [
      "Traceback (most recent call last):\n",
      "  File \"/srv/paws/lib/python3.6/site-packages/mwviews/api/pageviews.py\", line 145, in article_views\n",
      "    'The pageview API returned nothing useful at: {}'.format(urls)\n",
      "Exception: The pageview API returned nothing useful at: ['https://wikimedia.org/api/rest_v1/metrics/pageviews/per-article/ru.wikipedia/all-access/all-agents/%D0%91%D0%B5%D0%BD_%D0%93%D1%83%D1%80%D0%B8%D0%BE%D0%BD_%D0%B0%D1%8D%D1%80%D0%BE%D0%BF%D0%BE%D1%80%D1%82_%D0%B6%D0%B5%D0%BB%D0%B5%D0%B7%D0%BD%D0%BE%D0%B4%D0%BE%D1%80%D0%BE%D0%B6%D0%BD%D0%B0%D1%8F_%D1%81%D1%82%D0%B0%D0%BD%D1%86%D0%B8%D1%8F/monthly/2017112800/2019040100']\n"
     ]
    },
    {
     "name": "stdout",
     "output_type": "stream",
     "text": [
      "ERROR while fetching and parsing ['https://wikimedia.org/api/rest_v1/metrics/pageviews/per-article/ru.wikipedia/all-access/all-agents/Unity_Linux/monthly/2017112800/2019040100']\n"
     ]
    },
    {
     "name": "stderr",
     "output_type": "stream",
     "text": [
      "Traceback (most recent call last):\n",
      "  File \"/srv/paws/lib/python3.6/site-packages/mwviews/api/pageviews.py\", line 145, in article_views\n",
      "    'The pageview API returned nothing useful at: {}'.format(urls)\n",
      "Exception: The pageview API returned nothing useful at: ['https://wikimedia.org/api/rest_v1/metrics/pageviews/per-article/ru.wikipedia/all-access/all-agents/Unity_Linux/monthly/2017112800/2019040100']\n"
     ]
    },
    {
     "name": "stdout",
     "output_type": "stream",
     "text": [
      "ERROR while fetching and parsing ['https://wikimedia.org/api/rest_v1/metrics/pageviews/per-article/ru.wikipedia/all-access/all-agents/%D0%A1%D1%80%D0%B8%D0%BD%D0%B0%D0%B2%D0%BA%2C_%D0%A5%D0%B0%D0%BC%D0%B8%D0%BD%D0%B3/monthly/2017112900/2019040100']\n",
      "ERROR while fetching and parsing ['https://wikimedia.org/api/rest_v1/metrics/pageviews/per-article/ru.wikipedia/all-access/all-agents/Bus_network/monthly/2017112900/2019040100']\n"
     ]
    },
    {
     "name": "stderr",
     "output_type": "stream",
     "text": [
      "Traceback (most recent call last):\n",
      "  File \"/srv/paws/lib/python3.6/site-packages/mwviews/api/pageviews.py\", line 145, in article_views\n",
      "    'The pageview API returned nothing useful at: {}'.format(urls)\n",
      "Exception: The pageview API returned nothing useful at: ['https://wikimedia.org/api/rest_v1/metrics/pageviews/per-article/ru.wikipedia/all-access/all-agents/%D0%A1%D1%80%D0%B8%D0%BD%D0%B0%D0%B2%D0%BA%2C_%D0%A5%D0%B0%D0%BC%D0%B8%D0%BD%D0%B3/monthly/2017112900/2019040100']\n",
      "Traceback (most recent call last):\n",
      "  File \"/srv/paws/lib/python3.6/site-packages/mwviews/api/pageviews.py\", line 145, in article_views\n",
      "    'The pageview API returned nothing useful at: {}'.format(urls)\n",
      "Exception: The pageview API returned nothing useful at: ['https://wikimedia.org/api/rest_v1/metrics/pageviews/per-article/ru.wikipedia/all-access/all-agents/Bus_network/monthly/2017112900/2019040100']\n"
     ]
    },
    {
     "name": "stdout",
     "output_type": "stream",
     "text": [
      "ERROR while fetching and parsing ['https://wikimedia.org/api/rest_v1/metrics/pageviews/per-article/ru.wikipedia/all-access/all-agents/%D0%A0%D0%B5%D0%B9%D0%BA%2C_%D0%A5%D0%B0%D0%B2%D0%B8%D0%B2%D0%B0/monthly/2017112900/2019040100']\n"
     ]
    },
    {
     "name": "stderr",
     "output_type": "stream",
     "text": [
      "Traceback (most recent call last):\n",
      "  File \"/srv/paws/lib/python3.6/site-packages/mwviews/api/pageviews.py\", line 145, in article_views\n",
      "    'The pageview API returned nothing useful at: {}'.format(urls)\n",
      "Exception: The pageview API returned nothing useful at: ['https://wikimedia.org/api/rest_v1/metrics/pageviews/per-article/ru.wikipedia/all-access/all-agents/%D0%A0%D0%B5%D0%B9%D0%BA%2C_%D0%A5%D0%B0%D0%B2%D0%B8%D0%B2%D0%B0/monthly/2017112900/2019040100']\n"
     ]
    },
    {
     "name": "stdout",
     "output_type": "stream",
     "text": [
      "ERROR while fetching and parsing ['https://wikimedia.org/api/rest_v1/metrics/pageviews/per-article/ru.wikipedia/all-access/all-agents/%D0%A3%D1%87%D0%B0%D1%81%D1%82%D0%BD%D0%B8%D0%BA%3ATintin-tintine%2FMadonna_albums_discography/monthly/2017120100/2019040100']\n"
     ]
    },
    {
     "name": "stderr",
     "output_type": "stream",
     "text": [
      "Traceback (most recent call last):\n",
      "  File \"/srv/paws/lib/python3.6/site-packages/mwviews/api/pageviews.py\", line 145, in article_views\n",
      "    'The pageview API returned nothing useful at: {}'.format(urls)\n",
      "Exception: The pageview API returned nothing useful at: ['https://wikimedia.org/api/rest_v1/metrics/pageviews/per-article/ru.wikipedia/all-access/all-agents/%D0%A3%D1%87%D0%B0%D1%81%D1%82%D0%BD%D0%B8%D0%BA%3ATintin-tintine%2FMadonna_albums_discography/monthly/2017120100/2019040100']\n"
     ]
    },
    {
     "name": "stdout",
     "output_type": "stream",
     "text": [
      "ERROR while fetching and parsing ['https://wikimedia.org/api/rest_v1/metrics/pageviews/per-article/ru.wikipedia/all-access/all-agents/%D0%A3%D1%87%D0%B0%D1%81%D1%82%D0%BD%D0%B8%D0%BA%3ALghtngshdw%2F%D0%9D%D0%BE%D0%B2%D1%8B%D0%B5_%D0%BF%D1%80%D0%B0%D0%B2%D1%8B%D0%B5_%28%D1%83%D1%87%D0%B5%D0%BD%D0%B8%D0%B5%29/monthly/2017121400/2019040100']\n"
     ]
    },
    {
     "name": "stderr",
     "output_type": "stream",
     "text": [
      "Traceback (most recent call last):\n",
      "  File \"/srv/paws/lib/python3.6/site-packages/mwviews/api/pageviews.py\", line 145, in article_views\n",
      "    'The pageview API returned nothing useful at: {}'.format(urls)\n",
      "Exception: The pageview API returned nothing useful at: ['https://wikimedia.org/api/rest_v1/metrics/pageviews/per-article/ru.wikipedia/all-access/all-agents/%D0%A3%D1%87%D0%B0%D1%81%D1%82%D0%BD%D0%B8%D0%BA%3ALghtngshdw%2F%D0%9D%D0%BE%D0%B2%D1%8B%D0%B5_%D0%BF%D1%80%D0%B0%D0%B2%D1%8B%D0%B5_%28%D1%83%D1%87%D0%B5%D0%BD%D0%B8%D0%B5%29/monthly/2017121400/2019040100']\n"
     ]
    },
    {
     "name": "stdout",
     "output_type": "stream",
     "text": [
      "ERROR while fetching and parsing ['https://wikimedia.org/api/rest_v1/metrics/pageviews/per-article/ru.wikipedia/all-access/all-agents/User%3AZilant17%2FPhysics_of_magnetic_resonance_imaging/monthly/2018042500/2019040100']\n"
     ]
    },
    {
     "name": "stderr",
     "output_type": "stream",
     "text": [
      "Traceback (most recent call last):\n",
      "  File \"/srv/paws/lib/python3.6/site-packages/mwviews/api/pageviews.py\", line 145, in article_views\n",
      "    'The pageview API returned nothing useful at: {}'.format(urls)\n",
      "Exception: The pageview API returned nothing useful at: ['https://wikimedia.org/api/rest_v1/metrics/pageviews/per-article/ru.wikipedia/all-access/all-agents/User%3AZilant17%2FPhysics_of_magnetic_resonance_imaging/monthly/2018042500/2019040100']\n"
     ]
    },
    {
     "name": "stdout",
     "output_type": "stream",
     "text": [
      "ERROR while fetching and parsing ['https://wikimedia.org/api/rest_v1/metrics/pageviews/per-article/ru.wikipedia/all-access/all-agents/Victor_Maghakian/monthly/2017120800/2019040100']\n",
      "ERROR while fetching and parsing ['https://wikimedia.org/api/rest_v1/metrics/pageviews/per-article/ru.wikipedia/all-access/all-agents/%D0%91%D0%B8%D0%BB%D0%B8_%D0%91%D1%83/monthly/2017120800/2019040100']\n"
     ]
    },
    {
     "name": "stderr",
     "output_type": "stream",
     "text": [
      "Traceback (most recent call last):\n",
      "  File \"/srv/paws/lib/python3.6/site-packages/mwviews/api/pageviews.py\", line 145, in article_views\n",
      "    'The pageview API returned nothing useful at: {}'.format(urls)\n",
      "Exception: The pageview API returned nothing useful at: ['https://wikimedia.org/api/rest_v1/metrics/pageviews/per-article/ru.wikipedia/all-access/all-agents/Victor_Maghakian/monthly/2017120800/2019040100']\n",
      "Traceback (most recent call last):\n",
      "  File \"/srv/paws/lib/python3.6/site-packages/mwviews/api/pageviews.py\", line 145, in article_views\n",
      "    'The pageview API returned nothing useful at: {}'.format(urls)\n",
      "Exception: The pageview API returned nothing useful at: ['https://wikimedia.org/api/rest_v1/metrics/pageviews/per-article/ru.wikipedia/all-access/all-agents/%D0%91%D0%B8%D0%BB%D0%B8_%D0%91%D1%83/monthly/2017120800/2019040100']\n"
     ]
    },
    {
     "name": "stdout",
     "output_type": "stream",
     "text": [
      "ERROR while fetching and parsing ['https://wikimedia.org/api/rest_v1/metrics/pageviews/per-article/ru.wikipedia/all-access/all-agents/Technology_readiness_level/monthly/2017121000/2019040100']\n"
     ]
    },
    {
     "name": "stderr",
     "output_type": "stream",
     "text": [
      "Traceback (most recent call last):\n",
      "  File \"/srv/paws/lib/python3.6/site-packages/mwviews/api/pageviews.py\", line 145, in article_views\n",
      "    'The pageview API returned nothing useful at: {}'.format(urls)\n",
      "Exception: The pageview API returned nothing useful at: ['https://wikimedia.org/api/rest_v1/metrics/pageviews/per-article/ru.wikipedia/all-access/all-agents/Technology_readiness_level/monthly/2017121000/2019040100']\n"
     ]
    },
    {
     "name": "stdout",
     "output_type": "stream",
     "text": [
      "ERROR while fetching and parsing ['https://wikimedia.org/api/rest_v1/metrics/pageviews/per-article/ru.wikipedia/all-access/all-agents/%D0%94%D0%B6%D0%BE%D0%BD%D1%81%2C_%D0%93%D0%BE%D1%80%D0%B4%D0%BE%D0%BD_%D0%94%D1%8E%D0%BA/monthly/2017121300/2019040100']\n"
     ]
    },
    {
     "name": "stderr",
     "output_type": "stream",
     "text": [
      "Traceback (most recent call last):\n",
      "  File \"/srv/paws/lib/python3.6/site-packages/mwviews/api/pageviews.py\", line 145, in article_views\n",
      "    'The pageview API returned nothing useful at: {}'.format(urls)\n",
      "Exception: The pageview API returned nothing useful at: ['https://wikimedia.org/api/rest_v1/metrics/pageviews/per-article/ru.wikipedia/all-access/all-agents/%D0%94%D0%B6%D0%BE%D0%BD%D1%81%2C_%D0%93%D0%BE%D1%80%D0%B4%D0%BE%D0%BD_%D0%94%D1%8E%D0%BA/monthly/2017121300/2019040100']\n"
     ]
    },
    {
     "name": "stdout",
     "output_type": "stream",
     "text": [
      "ERROR while fetching and parsing ['https://wikimedia.org/api/rest_v1/metrics/pageviews/per-article/ru.wikipedia/all-access/all-agents/%D0%9D%D0%B5%D0%B0%D0%BF%D0%BE%D0%BB%D1%8C%D1%81%D0%BA%D0%B8%D0%B9_%D1%83%D0%BD%D0%B8%D0%B2%D0%B5%D1%80%D1%81%D0%B8%D1%82%D0%B5%D1%82_%D0%B2_%D0%B3._%D0%9F%D0%B0%D1%84%D0%BE%D1%81/monthly/2017121800/2019040100']\n"
     ]
    },
    {
     "name": "stderr",
     "output_type": "stream",
     "text": [
      "Traceback (most recent call last):\n",
      "  File \"/srv/paws/lib/python3.6/site-packages/mwviews/api/pageviews.py\", line 145, in article_views\n",
      "    'The pageview API returned nothing useful at: {}'.format(urls)\n",
      "Exception: The pageview API returned nothing useful at: ['https://wikimedia.org/api/rest_v1/metrics/pageviews/per-article/ru.wikipedia/all-access/all-agents/%D0%9D%D0%B5%D0%B0%D0%BF%D0%BE%D0%BB%D1%8C%D1%81%D0%BA%D0%B8%D0%B9_%D1%83%D0%BD%D0%B8%D0%B2%D0%B5%D1%80%D1%81%D0%B8%D1%82%D0%B5%D1%82_%D0%B2_%D0%B3._%D0%9F%D0%B0%D1%84%D0%BE%D1%81/monthly/2017121800/2019040100']\n"
     ]
    },
    {
     "name": "stdout",
     "output_type": "stream",
     "text": [
      "ERROR while fetching and parsing ['https://wikimedia.org/api/rest_v1/metrics/pageviews/per-article/ru.wikipedia/all-access/all-agents/Griffith_Park/monthly/2017122100/2019040100']\n",
      "ERROR while fetching and parsing ['https://wikimedia.org/api/rest_v1/metrics/pageviews/per-article/ru.wikipedia/all-access/all-agents/%D0%92%D0%B7%D0%BB%D0%BE%D0%BC_%D1%8D%D0%BB%D0%B5%D0%BA%D1%82%D1%80%D0%BE%D0%BD%D0%BD%D0%BE%D0%B9_%D0%BF%D0%BE%D1%87%D1%82%D1%8B/monthly/2017122200/2019040100']\n"
     ]
    },
    {
     "name": "stderr",
     "output_type": "stream",
     "text": [
      "Traceback (most recent call last):\n",
      "  File \"/srv/paws/lib/python3.6/site-packages/mwviews/api/pageviews.py\", line 145, in article_views\n",
      "    'The pageview API returned nothing useful at: {}'.format(urls)\n",
      "Exception: The pageview API returned nothing useful at: ['https://wikimedia.org/api/rest_v1/metrics/pageviews/per-article/ru.wikipedia/all-access/all-agents/Griffith_Park/monthly/2017122100/2019040100']\n",
      "Traceback (most recent call last):\n",
      "  File \"/srv/paws/lib/python3.6/site-packages/mwviews/api/pageviews.py\", line 145, in article_views\n",
      "    'The pageview API returned nothing useful at: {}'.format(urls)\n",
      "Exception: The pageview API returned nothing useful at: ['https://wikimedia.org/api/rest_v1/metrics/pageviews/per-article/ru.wikipedia/all-access/all-agents/%D0%92%D0%B7%D0%BB%D0%BE%D0%BC_%D1%8D%D0%BB%D0%B5%D0%BA%D1%82%D1%80%D0%BE%D0%BD%D0%BD%D0%BE%D0%B9_%D0%BF%D0%BE%D1%87%D1%82%D1%8B/monthly/2017122200/2019040100']\n"
     ]
    },
    {
     "name": "stdout",
     "output_type": "stream",
     "text": [
      "ERROR while fetching and parsing ['https://wikimedia.org/api/rest_v1/metrics/pageviews/per-article/ru.wikipedia/all-access/all-agents/%D0%A0%D0%B5%D0%B9%D0%BA-%D0%BF%D1%80%D0%B8%D0%B5%D0%BC%D0%BD%D0%B8%D0%BA/monthly/2018010900/2019040100']\n"
     ]
    },
    {
     "name": "stderr",
     "output_type": "stream",
     "text": [
      "Traceback (most recent call last):\n",
      "  File \"/srv/paws/lib/python3.6/site-packages/mwviews/api/pageviews.py\", line 145, in article_views\n",
      "    'The pageview API returned nothing useful at: {}'.format(urls)\n",
      "Exception: The pageview API returned nothing useful at: ['https://wikimedia.org/api/rest_v1/metrics/pageviews/per-article/ru.wikipedia/all-access/all-agents/%D0%A0%D0%B5%D0%B9%D0%BA-%D0%BF%D1%80%D0%B8%D0%B5%D0%BC%D0%BD%D0%B8%D0%BA/monthly/2018010900/2019040100']\n"
     ]
    }
   ],
   "source": [
    "for num in range(len(title_list_ru)):\n",
    "    try:\n",
    "        views_of_translated_article = p.article_views(SITE_RU, title_list_ru[num], granularity='monthly', start=start_date[num])\n",
    "        sum = 0\n",
    "        for i in views_of_translated_article:\n",
    "            for j in views_of_translated_article[i]:\n",
    "                if type(views_of_translated_article[i][j]) != int:\n",
    "                    continue\n",
    "                else:\n",
    "                    sum += views_of_translated_article[i][j]\n",
    "        df_clean.loc[df_clean.targetTitle == title_list_ru[num], \"views_translated\"] = sum\n",
    "    except Exception as e:\n",
    "        errors_ru.append(title_list_ru[num])"
   ]
  },
  {
   "cell_type": "code",
   "execution_count": 83,
   "metadata": {
    "scrolled": true
   },
   "outputs": [
    {
     "name": "stdout",
     "output_type": "stream",
     "text": [
      "ERROR while fetching and parsing ['https://wikimedia.org/api/rest_v1/metrics/pageviews/per-article/en.wikipedia/all-access/all-agents/Marco_Abbondanza/monthly/2017120400/2019040100']\n"
     ]
    },
    {
     "name": "stderr",
     "output_type": "stream",
     "text": [
      "Traceback (most recent call last):\n",
      "  File \"/srv/paws/lib/python3.6/site-packages/mwviews/api/pageviews.py\", line 145, in article_views\n",
      "    'The pageview API returned nothing useful at: {}'.format(urls)\n",
      "Exception: The pageview API returned nothing useful at: ['https://wikimedia.org/api/rest_v1/metrics/pageviews/per-article/en.wikipedia/all-access/all-agents/Marco_Abbondanza/monthly/2017120400/2019040100']\n"
     ]
    }
   ],
   "source": [
    "for num in range(len(source_title_eng)):\n",
    "    try:\n",
    "        views_of_original_article = p.article_views(SITE_ENG, source_title_eng[num], granularity='monthly', start=start_date[num])\n",
    "        sum = 0\n",
    "        for i in views_of_original_article:\n",
    "            for j in views_of_original_article[i]:\n",
    "                if type(views_of_original_article[i][j]) != int:\n",
    "                    continue\n",
    "                else:\n",
    "                    sum += views_of_original_article[i][j]\n",
    "        df_clean.loc[df.sourceTitle == source_title_eng[num], \"views_original\"] = sum\n",
    "    except Exception as e:\n",
    "        errors_eng.append(source_title_eng[num])"
   ]
  },
  {
   "cell_type": "code",
   "execution_count": 184,
   "metadata": {},
   "outputs": [
    {
     "data": {
      "text/plain": [
       "63"
      ]
     },
     "execution_count": 184,
     "metadata": {},
     "output_type": "execute_result"
    }
   ],
   "source": [
    "len(errors_ru)"
   ]
  },
  {
   "cell_type": "code",
   "execution_count": 85,
   "metadata": {},
   "outputs": [
    {
     "data": {
      "text/plain": [
       "['Marco Abbondanza']"
      ]
     },
     "execution_count": 85,
     "metadata": {},
     "output_type": "execute_result"
    }
   ],
   "source": [
    "errors_eng"
   ]
  },
  {
   "cell_type": "code",
   "execution_count": 119,
   "metadata": {},
   "outputs": [],
   "source": [
    "# Let's change datatype of our new columns to numeric\n",
    "df_clean['views_translated'] = pd.to_numeric(df_clean['views_translated'])\n",
    "df_clean['views_original'] = pd.to_numeric(df_clean['views_original'])"
   ]
  },
  {
   "cell_type": "code",
   "execution_count": 120,
   "metadata": {},
   "outputs": [
    {
     "name": "stdout",
     "output_type": "stream",
     "text": [
      "<class 'pandas.core.frame.DataFrame'>\n",
      "RangeIndex: 500 entries, 0 to 499\n",
      "Data columns (total 17 columns):\n",
      "publishedDate          500 non-null datetime64[ns]\n",
      "sourceLanguage         500 non-null object\n",
      "sourceRevisionId       500 non-null int64\n",
      "sourceTitle            500 non-null object\n",
      "sourceURL              500 non-null object\n",
      "targetLanguage         500 non-null object\n",
      "targetRevisionId       500 non-null int64\n",
      "targetTitle            500 non-null object\n",
      "targetURL              500 non-null object\n",
      "translationId          500 non-null int64\n",
      "translation_any        499 non-null float64\n",
      "translation_human      492 non-null float64\n",
      "translation_mt         500 non-null float64\n",
      "mtSectionsCount        500 non-null int64\n",
      "views_translated       434 non-null float64\n",
      "views_original         499 non-null float64\n",
      "number_of_revisions    432 non-null object\n",
      "dtypes: datetime64[ns](1), float64(5), int64(4), object(7)\n",
      "memory usage: 66.5+ KB\n"
     ]
    }
   ],
   "source": [
    "df_clean.info()"
   ]
  },
  {
   "cell_type": "code",
   "execution_count": 110,
   "metadata": {},
   "outputs": [
    {
     "data": {
      "text/html": [
       "<div>\n",
       "<style scoped>\n",
       "    .dataframe tbody tr th:only-of-type {\n",
       "        vertical-align: middle;\n",
       "    }\n",
       "\n",
       "    .dataframe tbody tr th {\n",
       "        vertical-align: top;\n",
       "    }\n",
       "\n",
       "    .dataframe thead th {\n",
       "        text-align: right;\n",
       "    }\n",
       "</style>\n",
       "<table border=\"1\" class=\"dataframe\">\n",
       "  <thead>\n",
       "    <tr style=\"text-align: right;\">\n",
       "      <th></th>\n",
       "      <th>publishedDate</th>\n",
       "      <th>sourceLanguage</th>\n",
       "      <th>sourceRevisionId</th>\n",
       "      <th>sourceTitle</th>\n",
       "      <th>sourceURL</th>\n",
       "      <th>targetLanguage</th>\n",
       "      <th>targetRevisionId</th>\n",
       "      <th>targetTitle</th>\n",
       "      <th>targetURL</th>\n",
       "      <th>translationId</th>\n",
       "      <th>translation_any</th>\n",
       "      <th>translation_human</th>\n",
       "      <th>translation_mt</th>\n",
       "      <th>mtSectionsCount</th>\n",
       "      <th>views_translated</th>\n",
       "      <th>views_original</th>\n",
       "      <th>number_of_revisions</th>\n",
       "    </tr>\n",
       "  </thead>\n",
       "  <tbody>\n",
       "    <tr>\n",
       "      <th>0</th>\n",
       "      <td>2017-10-06</td>\n",
       "      <td>en</td>\n",
       "      <td>795162132</td>\n",
       "      <td>Pakistan Steel Mills</td>\n",
       "      <td>//en.wikipedia.org/wiki/Pakistan Steel Mills</td>\n",
       "      <td>ru</td>\n",
       "      <td>88151792</td>\n",
       "      <td>Pakistan Steel Mills</td>\n",
       "      <td>//ru.wikipedia.org/wiki/Pakistan Steel Mills</td>\n",
       "      <td>377189</td>\n",
       "      <td>0.413046</td>\n",
       "      <td>0.398228</td>\n",
       "      <td>0.014818</td>\n",
       "      <td>7</td>\n",
       "      <td>NaN</td>\n",
       "      <td>56148.0</td>\n",
       "      <td>None</td>\n",
       "    </tr>\n",
       "  </tbody>\n",
       "</table>\n",
       "</div>"
      ],
      "text/plain": [
       "  publishedDate sourceLanguage  sourceRevisionId           sourceTitle  \\\n",
       "0    2017-10-06             en         795162132  Pakistan Steel Mills   \n",
       "\n",
       "                                      sourceURL targetLanguage  \\\n",
       "0  //en.wikipedia.org/wiki/Pakistan Steel Mills             ru   \n",
       "\n",
       "   targetRevisionId           targetTitle  \\\n",
       "0          88151792  Pakistan Steel Mills   \n",
       "\n",
       "                                      targetURL  translationId  \\\n",
       "0  //ru.wikipedia.org/wiki/Pakistan Steel Mills         377189   \n",
       "\n",
       "   translation_any  translation_human  translation_mt  mtSectionsCount  \\\n",
       "0         0.413046           0.398228        0.014818                7   \n",
       "\n",
       "   views_translated  views_original number_of_revisions  \n",
       "0               NaN         56148.0                None  "
      ]
     },
     "execution_count": 110,
     "metadata": {},
     "output_type": "execute_result"
    }
   ],
   "source": [
    "# Now we'll try to get number of revisions for translated page\n",
    "title_list_ru = list(df_clean['targetTitle'].str.strip())\n",
    "title_revision_id = list(df_clean['targetRevisionId'])\n",
    "df_clean['number_of_revisions'] = None\n",
    "errors_revision = []\n",
    "df_clean.head(1)"
   ]
  },
  {
   "cell_type": "code",
   "execution_count": 111,
   "metadata": {},
   "outputs": [],
   "source": [
    "session = mwapi.Session(host='https://ru.wikipedia.org', user_agent='mwapi (python) -- outreachy content translation')\n",
    "\n",
    "for num in range(len(title_list_ru)):\n",
    "    try:\n",
    "        revision_parameters = {\n",
    "        \"action\": \"query\",\n",
    "        \"prop\": \"revisions\",\n",
    "        \"titles\": title_list_ru[num],\n",
    "        \"rvprop\": \"timestamp|user|comment\",\n",
    "        \"rvlimit\": 500,\n",
    "        \"rvstartid\": title_revision_id[num],\n",
    "        \"rvslots\": \"main\",\n",
    "        \"formatversion\": \"2\",\n",
    "        \"format\": \"json\",\n",
    "        \"rvdir\": \"newer\",\n",
    "        \"redirects\": True\n",
    "        }\n",
    "        article_revisions = session.get(revision_parameters)\n",
    "        sum = len(article_revisions['query']['pages'][0]['revisions'])\n",
    "        df_clean.loc[df_clean.targetTitle == title_list_ru[num], \"number_of_revisions\"] = sum\n",
    "    except Exception as e:\n",
    "        errors_revision.append(title_list_ru[num])"
   ]
  },
  {
   "cell_type": "code",
   "execution_count": 112,
   "metadata": {},
   "outputs": [
    {
     "name": "stdout",
     "output_type": "stream",
     "text": [
      "65\n",
      "63\n"
     ]
    }
   ],
   "source": [
    "print(len(errors_revision))\n",
    "print(len(errors_ru))"
   ]
  },
  {
   "cell_type": "code",
   "execution_count": 115,
   "metadata": {},
   "outputs": [
    {
     "data": {
      "text/html": [
       "<div>\n",
       "<style scoped>\n",
       "    .dataframe tbody tr th:only-of-type {\n",
       "        vertical-align: middle;\n",
       "    }\n",
       "\n",
       "    .dataframe tbody tr th {\n",
       "        vertical-align: top;\n",
       "    }\n",
       "\n",
       "    .dataframe thead th {\n",
       "        text-align: right;\n",
       "    }\n",
       "</style>\n",
       "<table border=\"1\" class=\"dataframe\">\n",
       "  <thead>\n",
       "    <tr style=\"text-align: right;\">\n",
       "      <th></th>\n",
       "      <th>publishedDate</th>\n",
       "      <th>sourceLanguage</th>\n",
       "      <th>sourceRevisionId</th>\n",
       "      <th>sourceTitle</th>\n",
       "      <th>sourceURL</th>\n",
       "      <th>targetLanguage</th>\n",
       "      <th>targetRevisionId</th>\n",
       "      <th>targetTitle</th>\n",
       "      <th>targetURL</th>\n",
       "      <th>translationId</th>\n",
       "      <th>translation_any</th>\n",
       "      <th>translation_human</th>\n",
       "      <th>translation_mt</th>\n",
       "      <th>mtSectionsCount</th>\n",
       "      <th>views_translated</th>\n",
       "      <th>views_original</th>\n",
       "      <th>number_of_revisions</th>\n",
       "    </tr>\n",
       "  </thead>\n",
       "  <tbody>\n",
       "    <tr>\n",
       "      <th>122</th>\n",
       "      <td>2017-11-02</td>\n",
       "      <td>en</td>\n",
       "      <td>801045541</td>\n",
       "      <td>Jackal's horn</td>\n",
       "      <td>//en.wikipedia.org/wiki/Jackal's horn</td>\n",
       "      <td>ru</td>\n",
       "      <td>88637635</td>\n",
       "      <td>Шакалов рог</td>\n",
       "      <td>//ru.wikipedia.org/wiki/Шакалов рог</td>\n",
       "      <td>385463</td>\n",
       "      <td>0.949400</td>\n",
       "      <td>0.949400</td>\n",
       "      <td>0.000000</td>\n",
       "      <td>0</td>\n",
       "      <td>2108.0</td>\n",
       "      <td>23092.0</td>\n",
       "      <td>5</td>\n",
       "    </tr>\n",
       "    <tr>\n",
       "      <th>180</th>\n",
       "      <td>2017-11-04</td>\n",
       "      <td>en</td>\n",
       "      <td>763914279</td>\n",
       "      <td>I Can't Get Started (film)</td>\n",
       "      <td>//en.wikipedia.org/wiki/I Can't Get Started (f...</td>\n",
       "      <td>ru</td>\n",
       "      <td>88796181</td>\n",
       "      <td>Я не могу начать (фильм)</td>\n",
       "      <td>//ru.wikipedia.org/wiki/Я не могу начать (фильм)</td>\n",
       "      <td>388575</td>\n",
       "      <td>0.490385</td>\n",
       "      <td>0.490385</td>\n",
       "      <td>0.000000</td>\n",
       "      <td>0</td>\n",
       "      <td>NaN</td>\n",
       "      <td>1360.0</td>\n",
       "      <td>None</td>\n",
       "    </tr>\n",
       "    <tr>\n",
       "      <th>318</th>\n",
       "      <td>2017-11-28</td>\n",
       "      <td>en</td>\n",
       "      <td>810236717</td>\n",
       "      <td>Chaeng Watthana Government Complex</td>\n",
       "      <td>//en.wikipedia.org/wiki/Chaeng Watthana Govern...</td>\n",
       "      <td>ru</td>\n",
       "      <td>89303818</td>\n",
       "      <td>Участник:Qweasdqwe/Правительственный комплекс ...</td>\n",
       "      <td>//ru.wikipedia.org/wiki/Участник:Qweasdqwe/Пра...</td>\n",
       "      <td>398855</td>\n",
       "      <td>1.018220</td>\n",
       "      <td>0.144603</td>\n",
       "      <td>0.873616</td>\n",
       "      <td>12</td>\n",
       "      <td>4.0</td>\n",
       "      <td>5553.0</td>\n",
       "      <td>2</td>\n",
       "    </tr>\n",
       "    <tr>\n",
       "      <th>206</th>\n",
       "      <td>2017-11-09</td>\n",
       "      <td>en</td>\n",
       "      <td>805385850</td>\n",
       "      <td>Petrus van Schendel</td>\n",
       "      <td>//en.wikipedia.org/wiki/Petrus van Schendel</td>\n",
       "      <td>ru</td>\n",
       "      <td>88879985</td>\n",
       "      <td>Шендель, Петрус ван</td>\n",
       "      <td>//ru.wikipedia.org/wiki/Шендель, Петрус ван</td>\n",
       "      <td>390387</td>\n",
       "      <td>0.958446</td>\n",
       "      <td>0.775683</td>\n",
       "      <td>0.182763</td>\n",
       "      <td>8</td>\n",
       "      <td>2091.0</td>\n",
       "      <td>8960.0</td>\n",
       "      <td>6</td>\n",
       "    </tr>\n",
       "    <tr>\n",
       "      <th>269</th>\n",
       "      <td>2017-11-22</td>\n",
       "      <td>en</td>\n",
       "      <td>799170630</td>\n",
       "      <td>Cinema of Thailand</td>\n",
       "      <td>//en.wikipedia.org/wiki/Cinema of Thailand</td>\n",
       "      <td>ru</td>\n",
       "      <td>89153801</td>\n",
       "      <td>Участник:Qweasdqwe/Кинематограф Таиланда</td>\n",
       "      <td>//ru.wikipedia.org/wiki/Участник:Qweasdqwe/Кин...</td>\n",
       "      <td>396282</td>\n",
       "      <td>0.997407</td>\n",
       "      <td>0.000879</td>\n",
       "      <td>0.996528</td>\n",
       "      <td>143</td>\n",
       "      <td>3.0</td>\n",
       "      <td>50254.0</td>\n",
       "      <td>23</td>\n",
       "    </tr>\n",
       "  </tbody>\n",
       "</table>\n",
       "</div>"
      ],
      "text/plain": [
       "    publishedDate sourceLanguage  sourceRevisionId  \\\n",
       "122    2017-11-02             en         801045541   \n",
       "180    2017-11-04             en         763914279   \n",
       "318    2017-11-28             en         810236717   \n",
       "206    2017-11-09             en         805385850   \n",
       "269    2017-11-22             en         799170630   \n",
       "\n",
       "                            sourceTitle  \\\n",
       "122                       Jackal's horn   \n",
       "180          I Can't Get Started (film)   \n",
       "318  Chaeng Watthana Government Complex   \n",
       "206                 Petrus van Schendel   \n",
       "269                  Cinema of Thailand   \n",
       "\n",
       "                                             sourceURL targetLanguage  \\\n",
       "122              //en.wikipedia.org/wiki/Jackal's horn             ru   \n",
       "180  //en.wikipedia.org/wiki/I Can't Get Started (f...             ru   \n",
       "318  //en.wikipedia.org/wiki/Chaeng Watthana Govern...             ru   \n",
       "206        //en.wikipedia.org/wiki/Petrus van Schendel             ru   \n",
       "269         //en.wikipedia.org/wiki/Cinema of Thailand             ru   \n",
       "\n",
       "     targetRevisionId                                        targetTitle  \\\n",
       "122          88637635                                        Шакалов рог   \n",
       "180          88796181                           Я не могу начать (фильм)   \n",
       "318          89303818  Участник:Qweasdqwe/Правительственный комплекс ...   \n",
       "206          88879985                                Шендель, Петрус ван   \n",
       "269          89153801           Участник:Qweasdqwe/Кинематограф Таиланда   \n",
       "\n",
       "                                             targetURL  translationId  \\\n",
       "122                //ru.wikipedia.org/wiki/Шакалов рог         385463   \n",
       "180   //ru.wikipedia.org/wiki/Я не могу начать (фильм)         388575   \n",
       "318  //ru.wikipedia.org/wiki/Участник:Qweasdqwe/Пра...         398855   \n",
       "206        //ru.wikipedia.org/wiki/Шендель, Петрус ван         390387   \n",
       "269  //ru.wikipedia.org/wiki/Участник:Qweasdqwe/Кин...         396282   \n",
       "\n",
       "     translation_any  translation_human  translation_mt  mtSectionsCount  \\\n",
       "122         0.949400           0.949400        0.000000                0   \n",
       "180         0.490385           0.490385        0.000000                0   \n",
       "318         1.018220           0.144603        0.873616               12   \n",
       "206         0.958446           0.775683        0.182763                8   \n",
       "269         0.997407           0.000879        0.996528              143   \n",
       "\n",
       "     views_translated  views_original number_of_revisions  \n",
       "122            2108.0         23092.0                   5  \n",
       "180               NaN          1360.0                None  \n",
       "318               4.0          5553.0                   2  \n",
       "206            2091.0          8960.0                   6  \n",
       "269               3.0         50254.0                  23  "
      ]
     },
     "execution_count": 115,
     "metadata": {},
     "output_type": "execute_result"
    }
   ],
   "source": [
    "df_clean.sample(5)"
   ]
  },
  {
   "cell_type": "markdown",
   "metadata": {},
   "source": [
    "## Data Analysis"
   ]
  },
  {
   "cell_type": "markdown",
   "metadata": {},
   "source": [
    "Here is what I want to look at:\n",
    "1. Translated articles with the most views in our sample\n",
    "2. The relative difference in the number of views of the original and translated articles from the day of translation\n",
    "3. Articles which have more views of translated version, than of original\n",
    "4. Articles with the highest coefficient of human translations. We can analyze History and Talk pages of these articles, how some sections are translated.\n",
    "5. Articles with the highest number of revisions"
   ]
  },
  {
   "cell_type": "code",
   "execution_count": 124,
   "metadata": {},
   "outputs": [
    {
     "data": {
      "text/html": [
       "<div>\n",
       "<style scoped>\n",
       "    .dataframe tbody tr th:only-of-type {\n",
       "        vertical-align: middle;\n",
       "    }\n",
       "\n",
       "    .dataframe tbody tr th {\n",
       "        vertical-align: top;\n",
       "    }\n",
       "\n",
       "    .dataframe thead th {\n",
       "        text-align: right;\n",
       "    }\n",
       "</style>\n",
       "<table border=\"1\" class=\"dataframe\">\n",
       "  <thead>\n",
       "    <tr style=\"text-align: right;\">\n",
       "      <th></th>\n",
       "      <th>publishedDate</th>\n",
       "      <th>sourceLanguage</th>\n",
       "      <th>sourceRevisionId</th>\n",
       "      <th>sourceTitle</th>\n",
       "      <th>sourceURL</th>\n",
       "      <th>targetLanguage</th>\n",
       "      <th>targetRevisionId</th>\n",
       "      <th>targetTitle</th>\n",
       "      <th>targetURL</th>\n",
       "      <th>translationId</th>\n",
       "      <th>translation_any</th>\n",
       "      <th>translation_human</th>\n",
       "      <th>translation_mt</th>\n",
       "      <th>mtSectionsCount</th>\n",
       "      <th>views_translated</th>\n",
       "      <th>views_original</th>\n",
       "      <th>number_of_revisions</th>\n",
       "    </tr>\n",
       "  </thead>\n",
       "  <tbody>\n",
       "    <tr>\n",
       "      <th>370</th>\n",
       "      <td>2017-12-02</td>\n",
       "      <td>en</td>\n",
       "      <td>810329488</td>\n",
       "      <td>Post-irony</td>\n",
       "      <td>//en.wikipedia.org/wiki/Post-irony</td>\n",
       "      <td>ru</td>\n",
       "      <td>89388955</td>\n",
       "      <td>Постирония</td>\n",
       "      <td>//ru.wikipedia.org/wiki/Постирония</td>\n",
       "      <td>400686</td>\n",
       "      <td>0.875265</td>\n",
       "      <td>0.837924</td>\n",
       "      <td>0.037341</td>\n",
       "      <td>3</td>\n",
       "      <td>232848.0</td>\n",
       "      <td>95414.0</td>\n",
       "      <td>89</td>\n",
       "    </tr>\n",
       "    <tr>\n",
       "      <th>130</th>\n",
       "      <td>2017-10-30</td>\n",
       "      <td>en</td>\n",
       "      <td>807874185</td>\n",
       "      <td>Sophia (robot)</td>\n",
       "      <td>//en.wikipedia.org/wiki/Sophia (robot)</td>\n",
       "      <td>ru</td>\n",
       "      <td>88703474</td>\n",
       "      <td>София (робот)</td>\n",
       "      <td>//ru.wikipedia.org/wiki/София (робот)</td>\n",
       "      <td>386333</td>\n",
       "      <td>1.022727</td>\n",
       "      <td>1.019192</td>\n",
       "      <td>0.003535</td>\n",
       "      <td>2</td>\n",
       "      <td>219901.0</td>\n",
       "      <td>2097769.0</td>\n",
       "      <td>99</td>\n",
       "    </tr>\n",
       "    <tr>\n",
       "      <th>364</th>\n",
       "      <td>2017-12-01</td>\n",
       "      <td>en</td>\n",
       "      <td>813020576</td>\n",
       "      <td>2018 FIFA World Cup Final</td>\n",
       "      <td>//en.wikipedia.org/wiki/2018 FIFA World Cup Final</td>\n",
       "      <td>ru</td>\n",
       "      <td>89372530</td>\n",
       "      <td>Финал чемпионата мира по футболу 2018</td>\n",
       "      <td>//ru.wikipedia.org/wiki/Финал чемпионата мира ...</td>\n",
       "      <td>400438</td>\n",
       "      <td>0.574960</td>\n",
       "      <td>0.524518</td>\n",
       "      <td>0.050442</td>\n",
       "      <td>7</td>\n",
       "      <td>142470.0</td>\n",
       "      <td>1516450.0</td>\n",
       "      <td>197</td>\n",
       "    </tr>\n",
       "    <tr>\n",
       "      <th>117</th>\n",
       "      <td>2017-10-27</td>\n",
       "      <td>en</td>\n",
       "      <td>807233166</td>\n",
       "      <td>Yossi Ghinsberg</td>\n",
       "      <td>//en.wikipedia.org/wiki/Yossi Ghinsberg</td>\n",
       "      <td>ru</td>\n",
       "      <td>88621209</td>\n",
       "      <td>Гинсберг, Йосси</td>\n",
       "      <td>//ru.wikipedia.org/wiki/Гинсберг, Йосси</td>\n",
       "      <td>384947</td>\n",
       "      <td>0.457538</td>\n",
       "      <td>0.432586</td>\n",
       "      <td>0.024952</td>\n",
       "      <td>6</td>\n",
       "      <td>124520.0</td>\n",
       "      <td>812764.0</td>\n",
       "      <td>23</td>\n",
       "    </tr>\n",
       "    <tr>\n",
       "      <th>313</th>\n",
       "      <td>2017-11-27</td>\n",
       "      <td>en</td>\n",
       "      <td>810251755</td>\n",
       "      <td>Daredevil (season 3)</td>\n",
       "      <td>//en.wikipedia.org/wiki/Daredevil (season 3)</td>\n",
       "      <td>ru</td>\n",
       "      <td>89296864</td>\n",
       "      <td>Сорвиголова (сезон 3)</td>\n",
       "      <td>//ru.wikipedia.org/wiki/Сорвиголова (сезон 3)</td>\n",
       "      <td>398699</td>\n",
       "      <td>0.656850</td>\n",
       "      <td>0.634294</td>\n",
       "      <td>0.022556</td>\n",
       "      <td>6</td>\n",
       "      <td>86711.0</td>\n",
       "      <td>2414734.0</td>\n",
       "      <td>56</td>\n",
       "    </tr>\n",
       "  </tbody>\n",
       "</table>\n",
       "</div>"
      ],
      "text/plain": [
       "    publishedDate sourceLanguage  sourceRevisionId                sourceTitle  \\\n",
       "370    2017-12-02             en         810329488                 Post-irony   \n",
       "130    2017-10-30             en         807874185             Sophia (robot)   \n",
       "364    2017-12-01             en         813020576  2018 FIFA World Cup Final   \n",
       "117    2017-10-27             en         807233166            Yossi Ghinsberg   \n",
       "313    2017-11-27             en         810251755       Daredevil (season 3)   \n",
       "\n",
       "                                             sourceURL targetLanguage  \\\n",
       "370                 //en.wikipedia.org/wiki/Post-irony             ru   \n",
       "130             //en.wikipedia.org/wiki/Sophia (robot)             ru   \n",
       "364  //en.wikipedia.org/wiki/2018 FIFA World Cup Final             ru   \n",
       "117            //en.wikipedia.org/wiki/Yossi Ghinsberg             ru   \n",
       "313       //en.wikipedia.org/wiki/Daredevil (season 3)             ru   \n",
       "\n",
       "     targetRevisionId                            targetTitle  \\\n",
       "370          89388955                             Постирония   \n",
       "130          88703474                          София (робот)   \n",
       "364          89372530  Финал чемпионата мира по футболу 2018   \n",
       "117          88621209                        Гинсберг, Йосси   \n",
       "313          89296864                  Сорвиголова (сезон 3)   \n",
       "\n",
       "                                             targetURL  translationId  \\\n",
       "370                 //ru.wikipedia.org/wiki/Постирония         400686   \n",
       "130              //ru.wikipedia.org/wiki/София (робот)         386333   \n",
       "364  //ru.wikipedia.org/wiki/Финал чемпионата мира ...         400438   \n",
       "117            //ru.wikipedia.org/wiki/Гинсберг, Йосси         384947   \n",
       "313      //ru.wikipedia.org/wiki/Сорвиголова (сезон 3)         398699   \n",
       "\n",
       "     translation_any  translation_human  translation_mt  mtSectionsCount  \\\n",
       "370         0.875265           0.837924        0.037341                3   \n",
       "130         1.022727           1.019192        0.003535                2   \n",
       "364         0.574960           0.524518        0.050442                7   \n",
       "117         0.457538           0.432586        0.024952                6   \n",
       "313         0.656850           0.634294        0.022556                6   \n",
       "\n",
       "     views_translated  views_original number_of_revisions  \n",
       "370          232848.0         95414.0                  89  \n",
       "130          219901.0       2097769.0                  99  \n",
       "364          142470.0       1516450.0                 197  \n",
       "117          124520.0        812764.0                  23  \n",
       "313           86711.0       2414734.0                  56  "
      ]
     },
     "execution_count": 124,
     "metadata": {},
     "output_type": "execute_result"
    }
   ],
   "source": [
    "# 1. Let's sort our dataframe to see the most views translated articles.\n",
    "df_clean.sort_values('views_translated', ascending=False)[0:5]"
   ]
  },
  {
   "cell_type": "markdown",
   "metadata": {},
   "source": [
    "We can see that the most popular translated articles from 2017-10-06 to 2019-01-04 are:\n",
    "- Post-irony\n",
    "- Sophia (robot)\n",
    "- 2018 FIFA World Cup Final\n",
    "- Yossi Ghinsberg\n",
    "- Daredevil (season 3)\n",
    "This is a very useful information for analysing worldwide cultural trends and events\n",
    "The 2018 FIFA World Cup Final was held in Moscow, Russia, that's why it has a lot of views in Russian translation"
   ]
  },
  {
   "cell_type": "code",
   "execution_count": 125,
   "metadata": {},
   "outputs": [
    {
     "data": {
      "text/html": [
       "<div>\n",
       "<style scoped>\n",
       "    .dataframe tbody tr th:only-of-type {\n",
       "        vertical-align: middle;\n",
       "    }\n",
       "\n",
       "    .dataframe tbody tr th {\n",
       "        vertical-align: top;\n",
       "    }\n",
       "\n",
       "    .dataframe thead th {\n",
       "        text-align: right;\n",
       "    }\n",
       "</style>\n",
       "<table border=\"1\" class=\"dataframe\">\n",
       "  <thead>\n",
       "    <tr style=\"text-align: right;\">\n",
       "      <th></th>\n",
       "      <th>publishedDate</th>\n",
       "      <th>sourceLanguage</th>\n",
       "      <th>sourceRevisionId</th>\n",
       "      <th>sourceTitle</th>\n",
       "      <th>sourceURL</th>\n",
       "      <th>targetLanguage</th>\n",
       "      <th>targetRevisionId</th>\n",
       "      <th>targetTitle</th>\n",
       "      <th>targetURL</th>\n",
       "      <th>translationId</th>\n",
       "      <th>translation_any</th>\n",
       "      <th>translation_human</th>\n",
       "      <th>translation_mt</th>\n",
       "      <th>mtSectionsCount</th>\n",
       "      <th>views_translated</th>\n",
       "      <th>views_original</th>\n",
       "      <th>number_of_revisions</th>\n",
       "    </tr>\n",
       "  </thead>\n",
       "  <tbody>\n",
       "  </tbody>\n",
       "</table>\n",
       "</div>"
      ],
      "text/plain": [
       "Empty DataFrame\n",
       "Columns: [publishedDate, sourceLanguage, sourceRevisionId, sourceTitle, sourceURL, targetLanguage, targetRevisionId, targetTitle, targetURL, translationId, translation_any, translation_human, translation_mt, mtSectionsCount, views_translated, views_original, number_of_revisions]\n",
       "Index: []"
      ]
     },
     "execution_count": 125,
     "metadata": {},
     "output_type": "execute_result"
    }
   ],
   "source": [
    "df_clean[df_clean['sourceTitle'] == 'At Christmas Time']"
   ]
  },
  {
   "cell_type": "code",
   "execution_count": 128,
   "metadata": {},
   "outputs": [],
   "source": [
    "# 2. Relative difference in the number of views of the original and translated articles from the day of translation\n",
    "# Let's create a separate collumn for this coefficient\n",
    "df_clean['views_ratio'] = df_clean['views_translated']/df_clean['views_original']\n",
    "df_clean = df_clean.drop('views_ration', axis=1)"
   ]
  },
  {
   "cell_type": "code",
   "execution_count": 185,
   "metadata": {},
   "outputs": [
    {
     "data": {
      "text/html": [
       "<div>\n",
       "<style scoped>\n",
       "    .dataframe tbody tr th:only-of-type {\n",
       "        vertical-align: middle;\n",
       "    }\n",
       "\n",
       "    .dataframe tbody tr th {\n",
       "        vertical-align: top;\n",
       "    }\n",
       "\n",
       "    .dataframe thead th {\n",
       "        text-align: right;\n",
       "    }\n",
       "</style>\n",
       "<table border=\"1\" class=\"dataframe\">\n",
       "  <thead>\n",
       "    <tr style=\"text-align: right;\">\n",
       "      <th></th>\n",
       "      <th>publishedDate</th>\n",
       "      <th>sourceLanguage</th>\n",
       "      <th>sourceRevisionId</th>\n",
       "      <th>sourceTitle</th>\n",
       "      <th>sourceURL</th>\n",
       "      <th>targetLanguage</th>\n",
       "      <th>targetRevisionId</th>\n",
       "      <th>targetTitle</th>\n",
       "      <th>targetURL</th>\n",
       "      <th>translationId</th>\n",
       "      <th>translation_any</th>\n",
       "      <th>translation_human</th>\n",
       "      <th>translation_mt</th>\n",
       "      <th>mtSectionsCount</th>\n",
       "      <th>views_translated</th>\n",
       "      <th>views_original</th>\n",
       "      <th>number_of_revisions</th>\n",
       "      <th>views_ratio</th>\n",
       "    </tr>\n",
       "  </thead>\n",
       "  <tbody>\n",
       "    <tr>\n",
       "      <th>285</th>\n",
       "      <td>2017-11-24</td>\n",
       "      <td>en</td>\n",
       "      <td>811871201</td>\n",
       "      <td>Bir al-Abed mosque attack</td>\n",
       "      <td>//en.wikipedia.org/wiki/Bir al-Abed mosque attack</td>\n",
       "      <td>ru</td>\n",
       "      <td>89207790</td>\n",
       "      <td>Теракт в Бир аль-Абед</td>\n",
       "      <td>//ru.wikipedia.org/wiki/Теракт в Бир аль-Абед</td>\n",
       "      <td>397226</td>\n",
       "      <td>0.371805</td>\n",
       "      <td>0.362030</td>\n",
       "      <td>0.009774</td>\n",
       "      <td>3</td>\n",
       "      <td>1869.0</td>\n",
       "      <td>439.0</td>\n",
       "      <td>68</td>\n",
       "      <td>4.257403</td>\n",
       "    </tr>\n",
       "    <tr>\n",
       "      <th>169</th>\n",
       "      <td>2017-11-03</td>\n",
       "      <td>en</td>\n",
       "      <td>793099126</td>\n",
       "      <td>Caravanserai of Agha Gahraman Mirsiyab</td>\n",
       "      <td>//en.wikipedia.org/wiki/Caravanserai of Agha G...</td>\n",
       "      <td>ru</td>\n",
       "      <td>88771853</td>\n",
       "      <td>Караван-сарай Аги Гахрамана Мирсиаба</td>\n",
       "      <td>//ru.wikipedia.org/wiki/Караван-сарай Аги Гахр...</td>\n",
       "      <td>387943</td>\n",
       "      <td>0.334568</td>\n",
       "      <td>0.330864</td>\n",
       "      <td>0.003704</td>\n",
       "      <td>1</td>\n",
       "      <td>2940.0</td>\n",
       "      <td>1076.0</td>\n",
       "      <td>9</td>\n",
       "      <td>2.732342</td>\n",
       "    </tr>\n",
       "    <tr>\n",
       "      <th>370</th>\n",
       "      <td>2017-12-02</td>\n",
       "      <td>en</td>\n",
       "      <td>810329488</td>\n",
       "      <td>Post-irony</td>\n",
       "      <td>//en.wikipedia.org/wiki/Post-irony</td>\n",
       "      <td>ru</td>\n",
       "      <td>89388955</td>\n",
       "      <td>Постирония</td>\n",
       "      <td>//ru.wikipedia.org/wiki/Постирония</td>\n",
       "      <td>400686</td>\n",
       "      <td>0.875265</td>\n",
       "      <td>0.837924</td>\n",
       "      <td>0.037341</td>\n",
       "      <td>3</td>\n",
       "      <td>232848.0</td>\n",
       "      <td>95414.0</td>\n",
       "      <td>89</td>\n",
       "      <td>2.440397</td>\n",
       "    </tr>\n",
       "    <tr>\n",
       "      <th>228</th>\n",
       "      <td>2017-11-13</td>\n",
       "      <td>en</td>\n",
       "      <td>810074405</td>\n",
       "      <td>2017 Kermanshah earthquake</td>\n",
       "      <td>//en.wikipedia.org/wiki/2017 Kermanshah earthq...</td>\n",
       "      <td>ru</td>\n",
       "      <td>88959341</td>\n",
       "      <td>Землетрясение в Иране (2017)</td>\n",
       "      <td>//ru.wikipedia.org/wiki/Землетрясение в Иране ...</td>\n",
       "      <td>392133</td>\n",
       "      <td>0.623516</td>\n",
       "      <td>0.614614</td>\n",
       "      <td>0.008902</td>\n",
       "      <td>2</td>\n",
       "      <td>6084.0</td>\n",
       "      <td>2760.0</td>\n",
       "      <td>37</td>\n",
       "      <td>2.204348</td>\n",
       "    </tr>\n",
       "    <tr>\n",
       "      <th>165</th>\n",
       "      <td>2017-11-03</td>\n",
       "      <td>en</td>\n",
       "      <td>788989389</td>\n",
       "      <td>Yemeni constitutional referendum, 2001</td>\n",
       "      <td>//en.wikipedia.org/wiki/Yemeni constitutional ...</td>\n",
       "      <td>ru</td>\n",
       "      <td>88767400</td>\n",
       "      <td>Конституционный референдум в Йемене (2001)</td>\n",
       "      <td>//ru.wikipedia.org/wiki/Конституционный рефере...</td>\n",
       "      <td>387839</td>\n",
       "      <td>0.746392</td>\n",
       "      <td>0.725773</td>\n",
       "      <td>0.020619</td>\n",
       "      <td>1</td>\n",
       "      <td>2947.0</td>\n",
       "      <td>1457.0</td>\n",
       "      <td>2</td>\n",
       "      <td>2.022649</td>\n",
       "    </tr>\n",
       "    <tr>\n",
       "      <th>158</th>\n",
       "      <td>2017-11-03</td>\n",
       "      <td>en</td>\n",
       "      <td>721297568</td>\n",
       "      <td>Aden Legislative Council election, 1959</td>\n",
       "      <td>//en.wikipedia.org/wiki/Aden Legislative Counc...</td>\n",
       "      <td>ru</td>\n",
       "      <td>88766937</td>\n",
       "      <td>Выборы в Законодательное собрание Адена (1959)</td>\n",
       "      <td>//ru.wikipedia.org/wiki/Выборы в Законодательн...</td>\n",
       "      <td>387824</td>\n",
       "      <td>0.871063</td>\n",
       "      <td>0.853346</td>\n",
       "      <td>0.017717</td>\n",
       "      <td>3</td>\n",
       "      <td>1844.0</td>\n",
       "      <td>1092.0</td>\n",
       "      <td>5</td>\n",
       "      <td>1.688645</td>\n",
       "    </tr>\n",
       "    <tr>\n",
       "      <th>159</th>\n",
       "      <td>2017-11-03</td>\n",
       "      <td>en</td>\n",
       "      <td>768259404</td>\n",
       "      <td>Aden Legislative Council election, 1964</td>\n",
       "      <td>//en.wikipedia.org/wiki/Aden Legislative Counc...</td>\n",
       "      <td>ru</td>\n",
       "      <td>88767015</td>\n",
       "      <td>Выборы в Законодательное собрание Адена (1964)</td>\n",
       "      <td>//ru.wikipedia.org/wiki/Выборы в Законодательн...</td>\n",
       "      <td>387827</td>\n",
       "      <td>0.694421</td>\n",
       "      <td>0.631141</td>\n",
       "      <td>0.063281</td>\n",
       "      <td>3</td>\n",
       "      <td>2653.0</td>\n",
       "      <td>1633.0</td>\n",
       "      <td>4</td>\n",
       "      <td>1.624617</td>\n",
       "    </tr>\n",
       "    <tr>\n",
       "      <th>383</th>\n",
       "      <td>2017-12-04</td>\n",
       "      <td>en</td>\n",
       "      <td>811666384</td>\n",
       "      <td>Phra Ram Ratchaniwet</td>\n",
       "      <td>//en.wikipedia.org/wiki/Phra Ram Ratchaniwet</td>\n",
       "      <td>ru</td>\n",
       "      <td>89444564</td>\n",
       "      <td>Пхра Рам Ратчанивет</td>\n",
       "      <td>//ru.wikipedia.org/wiki/Пхра Рам Ратчанивет</td>\n",
       "      <td>401465</td>\n",
       "      <td>1.095646</td>\n",
       "      <td>0.851583</td>\n",
       "      <td>0.244063</td>\n",
       "      <td>2</td>\n",
       "      <td>3196.0</td>\n",
       "      <td>1980.0</td>\n",
       "      <td>45</td>\n",
       "      <td>1.614141</td>\n",
       "    </tr>\n",
       "    <tr>\n",
       "      <th>177</th>\n",
       "      <td>2017-11-04</td>\n",
       "      <td>en</td>\n",
       "      <td>804798311</td>\n",
       "      <td>Azerin</td>\n",
       "      <td>//en.wikipedia.org/wiki/Azerin</td>\n",
       "      <td>ru</td>\n",
       "      <td>88786177</td>\n",
       "      <td>Азерин</td>\n",
       "      <td>//ru.wikipedia.org/wiki/Азерин</td>\n",
       "      <td>388328</td>\n",
       "      <td>0.826692</td>\n",
       "      <td>0.555345</td>\n",
       "      <td>0.271347</td>\n",
       "      <td>5</td>\n",
       "      <td>5373.0</td>\n",
       "      <td>3511.0</td>\n",
       "      <td>9</td>\n",
       "      <td>1.530333</td>\n",
       "    </tr>\n",
       "    <tr>\n",
       "      <th>457</th>\n",
       "      <td>2017-12-18</td>\n",
       "      <td>en</td>\n",
       "      <td>707166645</td>\n",
       "      <td>Innovative University of Eurasia</td>\n",
       "      <td>//en.wikipedia.org/wiki/Innovative University ...</td>\n",
       "      <td>ru</td>\n",
       "      <td>89718572</td>\n",
       "      <td>Инновационный евразийский университет</td>\n",
       "      <td>//ru.wikipedia.org/wiki/Инновационный евразийс...</td>\n",
       "      <td>406969</td>\n",
       "      <td>0.651225</td>\n",
       "      <td>0.603128</td>\n",
       "      <td>0.048097</td>\n",
       "      <td>7</td>\n",
       "      <td>2857.0</td>\n",
       "      <td>2141.0</td>\n",
       "      <td>None</td>\n",
       "      <td>1.334423</td>\n",
       "    </tr>\n",
       "  </tbody>\n",
       "</table>\n",
       "</div>"
      ],
      "text/plain": [
       "    publishedDate sourceLanguage  sourceRevisionId  \\\n",
       "285    2017-11-24             en         811871201   \n",
       "169    2017-11-03             en         793099126   \n",
       "370    2017-12-02             en         810329488   \n",
       "228    2017-11-13             en         810074405   \n",
       "165    2017-11-03             en         788989389   \n",
       "158    2017-11-03             en         721297568   \n",
       "159    2017-11-03             en         768259404   \n",
       "383    2017-12-04             en         811666384   \n",
       "177    2017-11-04             en         804798311   \n",
       "457    2017-12-18             en         707166645   \n",
       "\n",
       "                                 sourceTitle  \\\n",
       "285                Bir al-Abed mosque attack   \n",
       "169   Caravanserai of Agha Gahraman Mirsiyab   \n",
       "370                               Post-irony   \n",
       "228               2017 Kermanshah earthquake   \n",
       "165   Yemeni constitutional referendum, 2001   \n",
       "158  Aden Legislative Council election, 1959   \n",
       "159  Aden Legislative Council election, 1964   \n",
       "383                     Phra Ram Ratchaniwet   \n",
       "177                                   Azerin   \n",
       "457         Innovative University of Eurasia   \n",
       "\n",
       "                                             sourceURL targetLanguage  \\\n",
       "285  //en.wikipedia.org/wiki/Bir al-Abed mosque attack             ru   \n",
       "169  //en.wikipedia.org/wiki/Caravanserai of Agha G...             ru   \n",
       "370                 //en.wikipedia.org/wiki/Post-irony             ru   \n",
       "228  //en.wikipedia.org/wiki/2017 Kermanshah earthq...             ru   \n",
       "165  //en.wikipedia.org/wiki/Yemeni constitutional ...             ru   \n",
       "158  //en.wikipedia.org/wiki/Aden Legislative Counc...             ru   \n",
       "159  //en.wikipedia.org/wiki/Aden Legislative Counc...             ru   \n",
       "383       //en.wikipedia.org/wiki/Phra Ram Ratchaniwet             ru   \n",
       "177                     //en.wikipedia.org/wiki/Azerin             ru   \n",
       "457  //en.wikipedia.org/wiki/Innovative University ...             ru   \n",
       "\n",
       "     targetRevisionId                                     targetTitle  \\\n",
       "285          89207790                           Теракт в Бир аль-Абед   \n",
       "169          88771853            Караван-сарай Аги Гахрамана Мирсиаба   \n",
       "370          89388955                                      Постирония   \n",
       "228          88959341                    Землетрясение в Иране (2017)   \n",
       "165          88767400      Конституционный референдум в Йемене (2001)   \n",
       "158          88766937  Выборы в Законодательное собрание Адена (1959)   \n",
       "159          88767015  Выборы в Законодательное собрание Адена (1964)   \n",
       "383          89444564                             Пхра Рам Ратчанивет   \n",
       "177          88786177                                          Азерин   \n",
       "457          89718572           Инновационный евразийский университет   \n",
       "\n",
       "                                             targetURL  translationId  \\\n",
       "285      //ru.wikipedia.org/wiki/Теракт в Бир аль-Абед         397226   \n",
       "169  //ru.wikipedia.org/wiki/Караван-сарай Аги Гахр...         387943   \n",
       "370                 //ru.wikipedia.org/wiki/Постирония         400686   \n",
       "228  //ru.wikipedia.org/wiki/Землетрясение в Иране ...         392133   \n",
       "165  //ru.wikipedia.org/wiki/Конституционный рефере...         387839   \n",
       "158  //ru.wikipedia.org/wiki/Выборы в Законодательн...         387824   \n",
       "159  //ru.wikipedia.org/wiki/Выборы в Законодательн...         387827   \n",
       "383        //ru.wikipedia.org/wiki/Пхра Рам Ратчанивет         401465   \n",
       "177                     //ru.wikipedia.org/wiki/Азерин         388328   \n",
       "457  //ru.wikipedia.org/wiki/Инновационный евразийс...         406969   \n",
       "\n",
       "     translation_any  translation_human  translation_mt  mtSectionsCount  \\\n",
       "285         0.371805           0.362030        0.009774                3   \n",
       "169         0.334568           0.330864        0.003704                1   \n",
       "370         0.875265           0.837924        0.037341                3   \n",
       "228         0.623516           0.614614        0.008902                2   \n",
       "165         0.746392           0.725773        0.020619                1   \n",
       "158         0.871063           0.853346        0.017717                3   \n",
       "159         0.694421           0.631141        0.063281                3   \n",
       "383         1.095646           0.851583        0.244063                2   \n",
       "177         0.826692           0.555345        0.271347                5   \n",
       "457         0.651225           0.603128        0.048097                7   \n",
       "\n",
       "     views_translated  views_original number_of_revisions  views_ratio  \n",
       "285            1869.0           439.0                  68     4.257403  \n",
       "169            2940.0          1076.0                   9     2.732342  \n",
       "370          232848.0         95414.0                  89     2.440397  \n",
       "228            6084.0          2760.0                  37     2.204348  \n",
       "165            2947.0          1457.0                   2     2.022649  \n",
       "158            1844.0          1092.0                   5     1.688645  \n",
       "159            2653.0          1633.0                   4     1.624617  \n",
       "383            3196.0          1980.0                  45     1.614141  \n",
       "177            5373.0          3511.0                   9     1.530333  \n",
       "457            2857.0          2141.0                None     1.334423  "
      ]
     },
     "execution_count": 185,
     "metadata": {},
     "output_type": "execute_result"
    }
   ],
   "source": [
    "df_clean.sort_values('views_ratio', ascending=False)[:10]"
   ]
  },
  {
   "cell_type": "code",
   "execution_count": 130,
   "metadata": {},
   "outputs": [
    {
     "data": {
      "text/plain": [
       "count    433.000000\n",
       "mean       0.208903\n",
       "std        0.397538\n",
       "min        0.000002\n",
       "25%        0.009092\n",
       "50%        0.071824\n",
       "75%        0.220840\n",
       "max        4.257403\n",
       "Name: views_ratio, dtype: float64"
      ]
     },
     "execution_count": 130,
     "metadata": {},
     "output_type": "execute_result"
    }
   ],
   "source": [
    "df_clean['views_ratio'].describe()"
   ]
  },
  {
   "cell_type": "markdown",
   "metadata": {},
   "source": [
    "We can see that usually translated pages have a lot less views than an original. Th medium coefficient is 0.007"
   ]
  },
  {
   "cell_type": "code",
   "execution_count": 132,
   "metadata": {},
   "outputs": [
    {
     "data": {
      "text/html": [
       "<div>\n",
       "<style scoped>\n",
       "    .dataframe tbody tr th:only-of-type {\n",
       "        vertical-align: middle;\n",
       "    }\n",
       "\n",
       "    .dataframe tbody tr th {\n",
       "        vertical-align: top;\n",
       "    }\n",
       "\n",
       "    .dataframe thead th {\n",
       "        text-align: right;\n",
       "    }\n",
       "</style>\n",
       "<table border=\"1\" class=\"dataframe\">\n",
       "  <thead>\n",
       "    <tr style=\"text-align: right;\">\n",
       "      <th></th>\n",
       "      <th>publishedDate</th>\n",
       "      <th>sourceLanguage</th>\n",
       "      <th>sourceRevisionId</th>\n",
       "      <th>sourceTitle</th>\n",
       "      <th>sourceURL</th>\n",
       "      <th>targetLanguage</th>\n",
       "      <th>targetRevisionId</th>\n",
       "      <th>targetTitle</th>\n",
       "      <th>targetURL</th>\n",
       "      <th>translationId</th>\n",
       "      <th>translation_any</th>\n",
       "      <th>translation_human</th>\n",
       "      <th>translation_mt</th>\n",
       "      <th>mtSectionsCount</th>\n",
       "      <th>views_translated</th>\n",
       "      <th>views_original</th>\n",
       "      <th>number_of_revisions</th>\n",
       "      <th>views_ratio</th>\n",
       "    </tr>\n",
       "  </thead>\n",
       "  <tbody>\n",
       "    <tr>\n",
       "      <th>285</th>\n",
       "      <td>2017-11-24</td>\n",
       "      <td>en</td>\n",
       "      <td>811871201</td>\n",
       "      <td>Bir al-Abed mosque attack</td>\n",
       "      <td>//en.wikipedia.org/wiki/Bir al-Abed mosque attack</td>\n",
       "      <td>ru</td>\n",
       "      <td>89207790</td>\n",
       "      <td>Теракт в Бир аль-Абед</td>\n",
       "      <td>//ru.wikipedia.org/wiki/Теракт в Бир аль-Абед</td>\n",
       "      <td>397226</td>\n",
       "      <td>0.371805</td>\n",
       "      <td>0.362030</td>\n",
       "      <td>0.009774</td>\n",
       "      <td>3</td>\n",
       "      <td>1869.0</td>\n",
       "      <td>439.0</td>\n",
       "      <td>68</td>\n",
       "      <td>4.257403</td>\n",
       "    </tr>\n",
       "    <tr>\n",
       "      <th>169</th>\n",
       "      <td>2017-11-03</td>\n",
       "      <td>en</td>\n",
       "      <td>793099126</td>\n",
       "      <td>Caravanserai of Agha Gahraman Mirsiyab</td>\n",
       "      <td>//en.wikipedia.org/wiki/Caravanserai of Agha G...</td>\n",
       "      <td>ru</td>\n",
       "      <td>88771853</td>\n",
       "      <td>Караван-сарай Аги Гахрамана Мирсиаба</td>\n",
       "      <td>//ru.wikipedia.org/wiki/Караван-сарай Аги Гахр...</td>\n",
       "      <td>387943</td>\n",
       "      <td>0.334568</td>\n",
       "      <td>0.330864</td>\n",
       "      <td>0.003704</td>\n",
       "      <td>1</td>\n",
       "      <td>2940.0</td>\n",
       "      <td>1076.0</td>\n",
       "      <td>9</td>\n",
       "      <td>2.732342</td>\n",
       "    </tr>\n",
       "    <tr>\n",
       "      <th>370</th>\n",
       "      <td>2017-12-02</td>\n",
       "      <td>en</td>\n",
       "      <td>810329488</td>\n",
       "      <td>Post-irony</td>\n",
       "      <td>//en.wikipedia.org/wiki/Post-irony</td>\n",
       "      <td>ru</td>\n",
       "      <td>89388955</td>\n",
       "      <td>Постирония</td>\n",
       "      <td>//ru.wikipedia.org/wiki/Постирония</td>\n",
       "      <td>400686</td>\n",
       "      <td>0.875265</td>\n",
       "      <td>0.837924</td>\n",
       "      <td>0.037341</td>\n",
       "      <td>3</td>\n",
       "      <td>232848.0</td>\n",
       "      <td>95414.0</td>\n",
       "      <td>89</td>\n",
       "      <td>2.440397</td>\n",
       "    </tr>\n",
       "    <tr>\n",
       "      <th>228</th>\n",
       "      <td>2017-11-13</td>\n",
       "      <td>en</td>\n",
       "      <td>810074405</td>\n",
       "      <td>2017 Kermanshah earthquake</td>\n",
       "      <td>//en.wikipedia.org/wiki/2017 Kermanshah earthq...</td>\n",
       "      <td>ru</td>\n",
       "      <td>88959341</td>\n",
       "      <td>Землетрясение в Иране (2017)</td>\n",
       "      <td>//ru.wikipedia.org/wiki/Землетрясение в Иране ...</td>\n",
       "      <td>392133</td>\n",
       "      <td>0.623516</td>\n",
       "      <td>0.614614</td>\n",
       "      <td>0.008902</td>\n",
       "      <td>2</td>\n",
       "      <td>6084.0</td>\n",
       "      <td>2760.0</td>\n",
       "      <td>37</td>\n",
       "      <td>2.204348</td>\n",
       "    </tr>\n",
       "    <tr>\n",
       "      <th>165</th>\n",
       "      <td>2017-11-03</td>\n",
       "      <td>en</td>\n",
       "      <td>788989389</td>\n",
       "      <td>Yemeni constitutional referendum, 2001</td>\n",
       "      <td>//en.wikipedia.org/wiki/Yemeni constitutional ...</td>\n",
       "      <td>ru</td>\n",
       "      <td>88767400</td>\n",
       "      <td>Конституционный референдум в Йемене (2001)</td>\n",
       "      <td>//ru.wikipedia.org/wiki/Конституционный рефере...</td>\n",
       "      <td>387839</td>\n",
       "      <td>0.746392</td>\n",
       "      <td>0.725773</td>\n",
       "      <td>0.020619</td>\n",
       "      <td>1</td>\n",
       "      <td>2947.0</td>\n",
       "      <td>1457.0</td>\n",
       "      <td>2</td>\n",
       "      <td>2.022649</td>\n",
       "    </tr>\n",
       "    <tr>\n",
       "      <th>158</th>\n",
       "      <td>2017-11-03</td>\n",
       "      <td>en</td>\n",
       "      <td>721297568</td>\n",
       "      <td>Aden Legislative Council election, 1959</td>\n",
       "      <td>//en.wikipedia.org/wiki/Aden Legislative Counc...</td>\n",
       "      <td>ru</td>\n",
       "      <td>88766937</td>\n",
       "      <td>Выборы в Законодательное собрание Адена (1959)</td>\n",
       "      <td>//ru.wikipedia.org/wiki/Выборы в Законодательн...</td>\n",
       "      <td>387824</td>\n",
       "      <td>0.871063</td>\n",
       "      <td>0.853346</td>\n",
       "      <td>0.017717</td>\n",
       "      <td>3</td>\n",
       "      <td>1844.0</td>\n",
       "      <td>1092.0</td>\n",
       "      <td>5</td>\n",
       "      <td>1.688645</td>\n",
       "    </tr>\n",
       "    <tr>\n",
       "      <th>159</th>\n",
       "      <td>2017-11-03</td>\n",
       "      <td>en</td>\n",
       "      <td>768259404</td>\n",
       "      <td>Aden Legislative Council election, 1964</td>\n",
       "      <td>//en.wikipedia.org/wiki/Aden Legislative Counc...</td>\n",
       "      <td>ru</td>\n",
       "      <td>88767015</td>\n",
       "      <td>Выборы в Законодательное собрание Адена (1964)</td>\n",
       "      <td>//ru.wikipedia.org/wiki/Выборы в Законодательн...</td>\n",
       "      <td>387827</td>\n",
       "      <td>0.694421</td>\n",
       "      <td>0.631141</td>\n",
       "      <td>0.063281</td>\n",
       "      <td>3</td>\n",
       "      <td>2653.0</td>\n",
       "      <td>1633.0</td>\n",
       "      <td>4</td>\n",
       "      <td>1.624617</td>\n",
       "    </tr>\n",
       "    <tr>\n",
       "      <th>383</th>\n",
       "      <td>2017-12-04</td>\n",
       "      <td>en</td>\n",
       "      <td>811666384</td>\n",
       "      <td>Phra Ram Ratchaniwet</td>\n",
       "      <td>//en.wikipedia.org/wiki/Phra Ram Ratchaniwet</td>\n",
       "      <td>ru</td>\n",
       "      <td>89444564</td>\n",
       "      <td>Пхра Рам Ратчанивет</td>\n",
       "      <td>//ru.wikipedia.org/wiki/Пхра Рам Ратчанивет</td>\n",
       "      <td>401465</td>\n",
       "      <td>1.095646</td>\n",
       "      <td>0.851583</td>\n",
       "      <td>0.244063</td>\n",
       "      <td>2</td>\n",
       "      <td>3196.0</td>\n",
       "      <td>1980.0</td>\n",
       "      <td>45</td>\n",
       "      <td>1.614141</td>\n",
       "    </tr>\n",
       "    <tr>\n",
       "      <th>177</th>\n",
       "      <td>2017-11-04</td>\n",
       "      <td>en</td>\n",
       "      <td>804798311</td>\n",
       "      <td>Azerin</td>\n",
       "      <td>//en.wikipedia.org/wiki/Azerin</td>\n",
       "      <td>ru</td>\n",
       "      <td>88786177</td>\n",
       "      <td>Азерин</td>\n",
       "      <td>//ru.wikipedia.org/wiki/Азерин</td>\n",
       "      <td>388328</td>\n",
       "      <td>0.826692</td>\n",
       "      <td>0.555345</td>\n",
       "      <td>0.271347</td>\n",
       "      <td>5</td>\n",
       "      <td>5373.0</td>\n",
       "      <td>3511.0</td>\n",
       "      <td>9</td>\n",
       "      <td>1.530333</td>\n",
       "    </tr>\n",
       "    <tr>\n",
       "      <th>457</th>\n",
       "      <td>2017-12-18</td>\n",
       "      <td>en</td>\n",
       "      <td>707166645</td>\n",
       "      <td>Innovative University of Eurasia</td>\n",
       "      <td>//en.wikipedia.org/wiki/Innovative University ...</td>\n",
       "      <td>ru</td>\n",
       "      <td>89718572</td>\n",
       "      <td>Инновационный евразийский университет</td>\n",
       "      <td>//ru.wikipedia.org/wiki/Инновационный евразийс...</td>\n",
       "      <td>406969</td>\n",
       "      <td>0.651225</td>\n",
       "      <td>0.603128</td>\n",
       "      <td>0.048097</td>\n",
       "      <td>7</td>\n",
       "      <td>2857.0</td>\n",
       "      <td>2141.0</td>\n",
       "      <td>None</td>\n",
       "      <td>1.334423</td>\n",
       "    </tr>\n",
       "    <tr>\n",
       "      <th>197</th>\n",
       "      <td>2017-11-07</td>\n",
       "      <td>en</td>\n",
       "      <td>804291621</td>\n",
       "      <td>Olavi Paavolainen</td>\n",
       "      <td>//en.wikipedia.org/wiki/Olavi Paavolainen</td>\n",
       "      <td>ru</td>\n",
       "      <td>88848711</td>\n",
       "      <td>Пааволайнен, Олави</td>\n",
       "      <td>//ru.wikipedia.org/wiki/Пааволайнен, Олави</td>\n",
       "      <td>389647</td>\n",
       "      <td>0.201323</td>\n",
       "      <td>0.201323</td>\n",
       "      <td>0.000000</td>\n",
       "      <td>0</td>\n",
       "      <td>1955.0</td>\n",
       "      <td>1499.0</td>\n",
       "      <td>17</td>\n",
       "      <td>1.304203</td>\n",
       "    </tr>\n",
       "    <tr>\n",
       "      <th>342</th>\n",
       "      <td>2017-11-29</td>\n",
       "      <td>en</td>\n",
       "      <td>810912252</td>\n",
       "      <td>Opisthorchis felineus</td>\n",
       "      <td>//en.wikipedia.org/wiki/Opisthorchis felineus</td>\n",
       "      <td>ru</td>\n",
       "      <td>89330928</td>\n",
       "      <td>Opisthorchis felineus</td>\n",
       "      <td>//ru.wikipedia.org/wiki/Opisthorchis felineus</td>\n",
       "      <td>399504</td>\n",
       "      <td>0.677218</td>\n",
       "      <td>0.366064</td>\n",
       "      <td>0.311154</td>\n",
       "      <td>13</td>\n",
       "      <td>23623.0</td>\n",
       "      <td>19700.0</td>\n",
       "      <td>26</td>\n",
       "      <td>1.199137</td>\n",
       "    </tr>\n",
       "    <tr>\n",
       "      <th>67</th>\n",
       "      <td>2017-10-16</td>\n",
       "      <td>en</td>\n",
       "      <td>772195013</td>\n",
       "      <td>Guananico</td>\n",
       "      <td>//en.wikipedia.org/wiki/Guananico</td>\n",
       "      <td>ru</td>\n",
       "      <td>88355791</td>\n",
       "      <td>Гуананико</td>\n",
       "      <td>//ru.wikipedia.org/wiki/Гуананико</td>\n",
       "      <td>381084</td>\n",
       "      <td>0.677132</td>\n",
       "      <td>0.188906</td>\n",
       "      <td>0.488226</td>\n",
       "      <td>7</td>\n",
       "      <td>2628.0</td>\n",
       "      <td>2241.0</td>\n",
       "      <td>8</td>\n",
       "      <td>1.172691</td>\n",
       "    </tr>\n",
       "    <tr>\n",
       "      <th>126</th>\n",
       "      <td>2018-01-10</td>\n",
       "      <td>en</td>\n",
       "      <td>770042292</td>\n",
       "      <td>Baydarlı</td>\n",
       "      <td>//en.wikipedia.org/wiki/Baydarlı</td>\n",
       "      <td>ru</td>\n",
       "      <td>88689456</td>\n",
       "      <td>Байдарлы</td>\n",
       "      <td>//ru.wikipedia.org/wiki/Байдарлы</td>\n",
       "      <td>386104</td>\n",
       "      <td>0.599659</td>\n",
       "      <td>0.419080</td>\n",
       "      <td>0.180579</td>\n",
       "      <td>5</td>\n",
       "      <td>1037.0</td>\n",
       "      <td>1015.0</td>\n",
       "      <td>9</td>\n",
       "      <td>1.021675</td>\n",
       "    </tr>\n",
       "  </tbody>\n",
       "</table>\n",
       "</div>"
      ],
      "text/plain": [
       "    publishedDate sourceLanguage  sourceRevisionId  \\\n",
       "285    2017-11-24             en         811871201   \n",
       "169    2017-11-03             en         793099126   \n",
       "370    2017-12-02             en         810329488   \n",
       "228    2017-11-13             en         810074405   \n",
       "165    2017-11-03             en         788989389   \n",
       "158    2017-11-03             en         721297568   \n",
       "159    2017-11-03             en         768259404   \n",
       "383    2017-12-04             en         811666384   \n",
       "177    2017-11-04             en         804798311   \n",
       "457    2017-12-18             en         707166645   \n",
       "197    2017-11-07             en         804291621   \n",
       "342    2017-11-29             en         810912252   \n",
       "67     2017-10-16             en         772195013   \n",
       "126    2018-01-10             en         770042292   \n",
       "\n",
       "                                 sourceTitle  \\\n",
       "285                Bir al-Abed mosque attack   \n",
       "169   Caravanserai of Agha Gahraman Mirsiyab   \n",
       "370                               Post-irony   \n",
       "228               2017 Kermanshah earthquake   \n",
       "165   Yemeni constitutional referendum, 2001   \n",
       "158  Aden Legislative Council election, 1959   \n",
       "159  Aden Legislative Council election, 1964   \n",
       "383                     Phra Ram Ratchaniwet   \n",
       "177                                   Azerin   \n",
       "457         Innovative University of Eurasia   \n",
       "197                        Olavi Paavolainen   \n",
       "342                    Opisthorchis felineus   \n",
       "67                                 Guananico   \n",
       "126                                 Baydarlı   \n",
       "\n",
       "                                             sourceURL targetLanguage  \\\n",
       "285  //en.wikipedia.org/wiki/Bir al-Abed mosque attack             ru   \n",
       "169  //en.wikipedia.org/wiki/Caravanserai of Agha G...             ru   \n",
       "370                 //en.wikipedia.org/wiki/Post-irony             ru   \n",
       "228  //en.wikipedia.org/wiki/2017 Kermanshah earthq...             ru   \n",
       "165  //en.wikipedia.org/wiki/Yemeni constitutional ...             ru   \n",
       "158  //en.wikipedia.org/wiki/Aden Legislative Counc...             ru   \n",
       "159  //en.wikipedia.org/wiki/Aden Legislative Counc...             ru   \n",
       "383       //en.wikipedia.org/wiki/Phra Ram Ratchaniwet             ru   \n",
       "177                     //en.wikipedia.org/wiki/Azerin             ru   \n",
       "457  //en.wikipedia.org/wiki/Innovative University ...             ru   \n",
       "197          //en.wikipedia.org/wiki/Olavi Paavolainen             ru   \n",
       "342      //en.wikipedia.org/wiki/Opisthorchis felineus             ru   \n",
       "67                   //en.wikipedia.org/wiki/Guananico             ru   \n",
       "126                   //en.wikipedia.org/wiki/Baydarlı             ru   \n",
       "\n",
       "     targetRevisionId                                     targetTitle  \\\n",
       "285          89207790                           Теракт в Бир аль-Абед   \n",
       "169          88771853            Караван-сарай Аги Гахрамана Мирсиаба   \n",
       "370          89388955                                      Постирония   \n",
       "228          88959341                    Землетрясение в Иране (2017)   \n",
       "165          88767400      Конституционный референдум в Йемене (2001)   \n",
       "158          88766937  Выборы в Законодательное собрание Адена (1959)   \n",
       "159          88767015  Выборы в Законодательное собрание Адена (1964)   \n",
       "383          89444564                             Пхра Рам Ратчанивет   \n",
       "177          88786177                                          Азерин   \n",
       "457          89718572           Инновационный евразийский университет   \n",
       "197          88848711                              Пааволайнен, Олави   \n",
       "342          89330928                           Opisthorchis felineus   \n",
       "67           88355791                                       Гуананико   \n",
       "126          88689456                                        Байдарлы   \n",
       "\n",
       "                                             targetURL  translationId  \\\n",
       "285      //ru.wikipedia.org/wiki/Теракт в Бир аль-Абед         397226   \n",
       "169  //ru.wikipedia.org/wiki/Караван-сарай Аги Гахр...         387943   \n",
       "370                 //ru.wikipedia.org/wiki/Постирония         400686   \n",
       "228  //ru.wikipedia.org/wiki/Землетрясение в Иране ...         392133   \n",
       "165  //ru.wikipedia.org/wiki/Конституционный рефере...         387839   \n",
       "158  //ru.wikipedia.org/wiki/Выборы в Законодательн...         387824   \n",
       "159  //ru.wikipedia.org/wiki/Выборы в Законодательн...         387827   \n",
       "383        //ru.wikipedia.org/wiki/Пхра Рам Ратчанивет         401465   \n",
       "177                     //ru.wikipedia.org/wiki/Азерин         388328   \n",
       "457  //ru.wikipedia.org/wiki/Инновационный евразийс...         406969   \n",
       "197         //ru.wikipedia.org/wiki/Пааволайнен, Олави         389647   \n",
       "342      //ru.wikipedia.org/wiki/Opisthorchis felineus         399504   \n",
       "67                   //ru.wikipedia.org/wiki/Гуананико         381084   \n",
       "126                   //ru.wikipedia.org/wiki/Байдарлы         386104   \n",
       "\n",
       "     translation_any  translation_human  translation_mt  mtSectionsCount  \\\n",
       "285         0.371805           0.362030        0.009774                3   \n",
       "169         0.334568           0.330864        0.003704                1   \n",
       "370         0.875265           0.837924        0.037341                3   \n",
       "228         0.623516           0.614614        0.008902                2   \n",
       "165         0.746392           0.725773        0.020619                1   \n",
       "158         0.871063           0.853346        0.017717                3   \n",
       "159         0.694421           0.631141        0.063281                3   \n",
       "383         1.095646           0.851583        0.244063                2   \n",
       "177         0.826692           0.555345        0.271347                5   \n",
       "457         0.651225           0.603128        0.048097                7   \n",
       "197         0.201323           0.201323        0.000000                0   \n",
       "342         0.677218           0.366064        0.311154               13   \n",
       "67          0.677132           0.188906        0.488226                7   \n",
       "126         0.599659           0.419080        0.180579                5   \n",
       "\n",
       "     views_translated  views_original number_of_revisions  views_ratio  \n",
       "285            1869.0           439.0                  68     4.257403  \n",
       "169            2940.0          1076.0                   9     2.732342  \n",
       "370          232848.0         95414.0                  89     2.440397  \n",
       "228            6084.0          2760.0                  37     2.204348  \n",
       "165            2947.0          1457.0                   2     2.022649  \n",
       "158            1844.0          1092.0                   5     1.688645  \n",
       "159            2653.0          1633.0                   4     1.624617  \n",
       "383            3196.0          1980.0                  45     1.614141  \n",
       "177            5373.0          3511.0                   9     1.530333  \n",
       "457            2857.0          2141.0                None     1.334423  \n",
       "197            1955.0          1499.0                  17     1.304203  \n",
       "342           23623.0         19700.0                  26     1.199137  \n",
       "67             2628.0          2241.0                   8     1.172691  \n",
       "126            1037.0          1015.0                   9     1.021675  "
      ]
     },
     "execution_count": 132,
     "metadata": {},
     "output_type": "execute_result"
    }
   ],
   "source": [
    "# Articles which have more views of translated version, than of original\n",
    "# Using calculations above, we can filter articles to see which of them have more views in translated verion\n",
    "df_clean[df_clean['views_ratio'] > 1].sort_values('views_ratio', ascending=False)"
   ]
  },
  {
   "cell_type": "markdown",
   "metadata": {},
   "source": [
    "Here are titles of articles (original title) along with the country/subject they belong to:\n",
    "- Bir al-Abed mosque attack (Egypt), \n",
    "- Caravanserai of Agha Gahraman Mirsiyab (Azerbaijan), \n",
    "- Post-irony (Culture), \n",
    "- 2017 Kermanshah earthquake (Iran–Iraq), \n",
    "- Yemeni constitutional referendum, 2001 (Yemen), \n",
    "- Aden Legislative Council election, 1959/1964 (Yemen), \n",
    "- Phra Ram Ratchaniwet (Thailand), \n",
    "- Azerin (Azerbaijan), \n",
    "- Innovative University of Eurasia (Kazakhstan), \n",
    "- Olavi Paavolainen (Finland), Opisthorchis felineus (Biology), \n",
    "- Guananico (Dominican Republic), Baydarlı (Azerbaijan)\n",
    "\n",
    "It looks like most articles from our top are belong to regions near to Russia. Also, some of them have political orientation."
   ]
  },
  {
   "cell_type": "code",
   "execution_count": 133,
   "metadata": {},
   "outputs": [
    {
     "data": {
      "text/html": [
       "<div>\n",
       "<style scoped>\n",
       "    .dataframe tbody tr th:only-of-type {\n",
       "        vertical-align: middle;\n",
       "    }\n",
       "\n",
       "    .dataframe tbody tr th {\n",
       "        vertical-align: top;\n",
       "    }\n",
       "\n",
       "    .dataframe thead th {\n",
       "        text-align: right;\n",
       "    }\n",
       "</style>\n",
       "<table border=\"1\" class=\"dataframe\">\n",
       "  <thead>\n",
       "    <tr style=\"text-align: right;\">\n",
       "      <th></th>\n",
       "      <th>publishedDate</th>\n",
       "      <th>sourceLanguage</th>\n",
       "      <th>sourceRevisionId</th>\n",
       "      <th>sourceTitle</th>\n",
       "      <th>sourceURL</th>\n",
       "      <th>targetLanguage</th>\n",
       "      <th>targetRevisionId</th>\n",
       "      <th>targetTitle</th>\n",
       "      <th>targetURL</th>\n",
       "      <th>translationId</th>\n",
       "      <th>translation_any</th>\n",
       "      <th>translation_human</th>\n",
       "      <th>translation_mt</th>\n",
       "      <th>mtSectionsCount</th>\n",
       "      <th>views_translated</th>\n",
       "      <th>views_original</th>\n",
       "      <th>number_of_revisions</th>\n",
       "      <th>views_ratio</th>\n",
       "    </tr>\n",
       "  </thead>\n",
       "  <tbody>\n",
       "    <tr>\n",
       "      <th>176</th>\n",
       "      <td>2017-11-04</td>\n",
       "      <td>en</td>\n",
       "      <td>631794405</td>\n",
       "      <td>Osmolarity gradient</td>\n",
       "      <td>//en.wikipedia.org/wiki/Osmolarity gradient</td>\n",
       "      <td>ru</td>\n",
       "      <td>88783703</td>\n",
       "      <td>Градиент осмолярности</td>\n",
       "      <td>//ru.wikipedia.org/wiki/Градиент осмолярности</td>\n",
       "      <td>388247</td>\n",
       "      <td>2.072398</td>\n",
       "      <td>2.072398</td>\n",
       "      <td>0.000000</td>\n",
       "      <td>0</td>\n",
       "      <td>1242.0</td>\n",
       "      <td>2169.0</td>\n",
       "      <td>8</td>\n",
       "      <td>0.572614</td>\n",
       "    </tr>\n",
       "    <tr>\n",
       "      <th>486</th>\n",
       "      <td>2017-12-23</td>\n",
       "      <td>en</td>\n",
       "      <td>814556183</td>\n",
       "      <td>The Cockpit (OVA)</td>\n",
       "      <td>//en.wikipedia.org/wiki/The Cockpit (OVA)</td>\n",
       "      <td>ru</td>\n",
       "      <td>89820979</td>\n",
       "      <td>The Cockpit (OVA)</td>\n",
       "      <td>//ru.wikipedia.org/wiki/The Cockpit (OVA)</td>\n",
       "      <td>408682</td>\n",
       "      <td>1.299064</td>\n",
       "      <td>1.293380</td>\n",
       "      <td>0.005684</td>\n",
       "      <td>2</td>\n",
       "      <td>2762.0</td>\n",
       "      <td>23306.0</td>\n",
       "      <td>209</td>\n",
       "      <td>0.118510</td>\n",
       "    </tr>\n",
       "    <tr>\n",
       "      <th>155</th>\n",
       "      <td>2017-11-03</td>\n",
       "      <td>en</td>\n",
       "      <td>798521376</td>\n",
       "      <td>Multani Caravanserai</td>\n",
       "      <td>//en.wikipedia.org/wiki/Multani Caravanserai</td>\n",
       "      <td>ru</td>\n",
       "      <td>88765699</td>\n",
       "      <td>Караван-сарай Мултани</td>\n",
       "      <td>//ru.wikipedia.org/wiki/Караван-сарай Мултани</td>\n",
       "      <td>387773</td>\n",
       "      <td>1.381490</td>\n",
       "      <td>1.270880</td>\n",
       "      <td>0.110609</td>\n",
       "      <td>4</td>\n",
       "      <td>NaN</td>\n",
       "      <td>4167.0</td>\n",
       "      <td>None</td>\n",
       "      <td>NaN</td>\n",
       "    </tr>\n",
       "    <tr>\n",
       "      <th>478</th>\n",
       "      <td>2017-12-21</td>\n",
       "      <td>en</td>\n",
       "      <td>677779987</td>\n",
       "      <td>Postage stamps and postal history of Nauru</td>\n",
       "      <td>//en.wikipedia.org/wiki/Postage stamps and pos...</td>\n",
       "      <td>ru</td>\n",
       "      <td>89784116</td>\n",
       "      <td>История почты и почтовых марок Науру</td>\n",
       "      <td>//ru.wikipedia.org/wiki/История почты и почтов...</td>\n",
       "      <td>408253</td>\n",
       "      <td>1.188571</td>\n",
       "      <td>1.100571</td>\n",
       "      <td>0.088000</td>\n",
       "      <td>3</td>\n",
       "      <td>1643.0</td>\n",
       "      <td>2298.0</td>\n",
       "      <td>22</td>\n",
       "      <td>0.714970</td>\n",
       "    </tr>\n",
       "    <tr>\n",
       "      <th>119</th>\n",
       "      <td>2017-10-27</td>\n",
       "      <td>en</td>\n",
       "      <td>805280071</td>\n",
       "      <td>Observer (physics)</td>\n",
       "      <td>//en.wikipedia.org/wiki/Observer (physics)</td>\n",
       "      <td>ru</td>\n",
       "      <td>88599552</td>\n",
       "      <td>Наблюдатель (физика)</td>\n",
       "      <td>//ru.wikipedia.org/wiki/Наблюдатель (физика)</td>\n",
       "      <td>385029</td>\n",
       "      <td>1.187184</td>\n",
       "      <td>1.087690</td>\n",
       "      <td>0.099494</td>\n",
       "      <td>5</td>\n",
       "      <td>3626.0</td>\n",
       "      <td>9419.0</td>\n",
       "      <td>7</td>\n",
       "      <td>0.384967</td>\n",
       "    </tr>\n",
       "    <tr>\n",
       "      <th>377</th>\n",
       "      <td>2017-12-03</td>\n",
       "      <td>en</td>\n",
       "      <td>810114482</td>\n",
       "      <td>Gheorghe Avramescu</td>\n",
       "      <td>//en.wikipedia.org/wiki/Gheorghe Avramescu</td>\n",
       "      <td>ru</td>\n",
       "      <td>89420490</td>\n",
       "      <td>Аврамеску, Георге</td>\n",
       "      <td>//ru.wikipedia.org/wiki/Аврамеску, Георге</td>\n",
       "      <td>401191</td>\n",
       "      <td>1.115973</td>\n",
       "      <td>1.078590</td>\n",
       "      <td>0.037383</td>\n",
       "      <td>5</td>\n",
       "      <td>3920.0</td>\n",
       "      <td>5078.0</td>\n",
       "      <td>24</td>\n",
       "      <td>0.771957</td>\n",
       "    </tr>\n",
       "    <tr>\n",
       "      <th>38</th>\n",
       "      <td>2017-10-10</td>\n",
       "      <td>en</td>\n",
       "      <td>792735103</td>\n",
       "      <td>James Grady (author)</td>\n",
       "      <td>//en.wikipedia.org/wiki/James Grady (author)</td>\n",
       "      <td>ru</td>\n",
       "      <td>88245454</td>\n",
       "      <td>Джеймс Грейди (писатель)</td>\n",
       "      <td>//ru.wikipedia.org/wiki/Джеймс Грейди (писатель)</td>\n",
       "      <td>378907</td>\n",
       "      <td>1.113609</td>\n",
       "      <td>1.076011</td>\n",
       "      <td>0.037597</td>\n",
       "      <td>2</td>\n",
       "      <td>2211.0</td>\n",
       "      <td>19255.0</td>\n",
       "      <td>34</td>\n",
       "      <td>0.114827</td>\n",
       "    </tr>\n",
       "    <tr>\n",
       "      <th>94</th>\n",
       "      <td>2017-10-23</td>\n",
       "      <td>en</td>\n",
       "      <td>793850603</td>\n",
       "      <td>RNA-dependent RNA polymerase</td>\n",
       "      <td>//en.wikipedia.org/wiki/RNA-dependent RNA poly...</td>\n",
       "      <td>ru</td>\n",
       "      <td>88502016</td>\n",
       "      <td>РНК-зависимая РНК-полимераза</td>\n",
       "      <td>//ru.wikipedia.org/wiki/РНК-зависимая РНК-поли...</td>\n",
       "      <td>383450</td>\n",
       "      <td>1.085356</td>\n",
       "      <td>1.075030</td>\n",
       "      <td>0.010326</td>\n",
       "      <td>7</td>\n",
       "      <td>5861.0</td>\n",
       "      <td>73727.0</td>\n",
       "      <td>17</td>\n",
       "      <td>0.079496</td>\n",
       "    </tr>\n",
       "    <tr>\n",
       "      <th>184</th>\n",
       "      <td>2017-11-05</td>\n",
       "      <td>en</td>\n",
       "      <td>806072139</td>\n",
       "      <td>Scripting for the Java Platform</td>\n",
       "      <td>//en.wikipedia.org/wiki/Scripting for the Java...</td>\n",
       "      <td>ru</td>\n",
       "      <td>88803483</td>\n",
       "      <td>Участник:Dm/Scripting for the Java Platform</td>\n",
       "      <td>//ru.wikipedia.org/wiki/Участник:Dm/Scripting ...</td>\n",
       "      <td>388619</td>\n",
       "      <td>1.348413</td>\n",
       "      <td>1.064286</td>\n",
       "      <td>0.284127</td>\n",
       "      <td>4</td>\n",
       "      <td>NaN</td>\n",
       "      <td>11744.0</td>\n",
       "      <td>None</td>\n",
       "      <td>NaN</td>\n",
       "    </tr>\n",
       "    <tr>\n",
       "      <th>497</th>\n",
       "      <td>2017-12-24</td>\n",
       "      <td>en</td>\n",
       "      <td>778457281</td>\n",
       "      <td>Uniqueness</td>\n",
       "      <td>//en.wikipedia.org/wiki/Uniqueness</td>\n",
       "      <td>ru</td>\n",
       "      <td>89832834</td>\n",
       "      <td>Уникальность</td>\n",
       "      <td>//ru.wikipedia.org/wiki/Уникальность</td>\n",
       "      <td>409324</td>\n",
       "      <td>1.068702</td>\n",
       "      <td>1.061069</td>\n",
       "      <td>0.007634</td>\n",
       "      <td>1</td>\n",
       "      <td>11004.0</td>\n",
       "      <td>23606.0</td>\n",
       "      <td>6</td>\n",
       "      <td>0.466153</td>\n",
       "    </tr>\n",
       "  </tbody>\n",
       "</table>\n",
       "</div>"
      ],
      "text/plain": [
       "    publishedDate sourceLanguage  sourceRevisionId  \\\n",
       "176    2017-11-04             en         631794405   \n",
       "486    2017-12-23             en         814556183   \n",
       "155    2017-11-03             en         798521376   \n",
       "478    2017-12-21             en         677779987   \n",
       "119    2017-10-27             en         805280071   \n",
       "377    2017-12-03             en         810114482   \n",
       "38     2017-10-10             en         792735103   \n",
       "94     2017-10-23             en         793850603   \n",
       "184    2017-11-05             en         806072139   \n",
       "497    2017-12-24             en         778457281   \n",
       "\n",
       "                                    sourceTitle  \\\n",
       "176                         Osmolarity gradient   \n",
       "486                           The Cockpit (OVA)   \n",
       "155                        Multani Caravanserai   \n",
       "478  Postage stamps and postal history of Nauru   \n",
       "119                          Observer (physics)   \n",
       "377                          Gheorghe Avramescu   \n",
       "38                         James Grady (author)   \n",
       "94                 RNA-dependent RNA polymerase   \n",
       "184             Scripting for the Java Platform   \n",
       "497                                  Uniqueness   \n",
       "\n",
       "                                             sourceURL targetLanguage  \\\n",
       "176        //en.wikipedia.org/wiki/Osmolarity gradient             ru   \n",
       "486          //en.wikipedia.org/wiki/The Cockpit (OVA)             ru   \n",
       "155       //en.wikipedia.org/wiki/Multani Caravanserai             ru   \n",
       "478  //en.wikipedia.org/wiki/Postage stamps and pos...             ru   \n",
       "119         //en.wikipedia.org/wiki/Observer (physics)             ru   \n",
       "377         //en.wikipedia.org/wiki/Gheorghe Avramescu             ru   \n",
       "38        //en.wikipedia.org/wiki/James Grady (author)             ru   \n",
       "94   //en.wikipedia.org/wiki/RNA-dependent RNA poly...             ru   \n",
       "184  //en.wikipedia.org/wiki/Scripting for the Java...             ru   \n",
       "497                 //en.wikipedia.org/wiki/Uniqueness             ru   \n",
       "\n",
       "     targetRevisionId                                  targetTitle  \\\n",
       "176          88783703                        Градиент осмолярности   \n",
       "486          89820979                            The Cockpit (OVA)   \n",
       "155          88765699                       Караван-сарай Мултани    \n",
       "478          89784116         История почты и почтовых марок Науру   \n",
       "119          88599552                         Наблюдатель (физика)   \n",
       "377          89420490                            Аврамеску, Георге   \n",
       "38           88245454                     Джеймс Грейди (писатель)   \n",
       "94           88502016                 РНК-зависимая РНК-полимераза   \n",
       "184          88803483  Участник:Dm/Scripting for the Java Platform   \n",
       "497          89832834                                 Уникальность   \n",
       "\n",
       "                                             targetURL  translationId  \\\n",
       "176      //ru.wikipedia.org/wiki/Градиент осмолярности         388247   \n",
       "486          //ru.wikipedia.org/wiki/The Cockpit (OVA)         408682   \n",
       "155     //ru.wikipedia.org/wiki/Караван-сарай Мултани          387773   \n",
       "478  //ru.wikipedia.org/wiki/История почты и почтов...         408253   \n",
       "119       //ru.wikipedia.org/wiki/Наблюдатель (физика)         385029   \n",
       "377          //ru.wikipedia.org/wiki/Аврамеску, Георге         401191   \n",
       "38    //ru.wikipedia.org/wiki/Джеймс Грейди (писатель)         378907   \n",
       "94   //ru.wikipedia.org/wiki/РНК-зависимая РНК-поли...         383450   \n",
       "184  //ru.wikipedia.org/wiki/Участник:Dm/Scripting ...         388619   \n",
       "497               //ru.wikipedia.org/wiki/Уникальность         409324   \n",
       "\n",
       "     translation_any  translation_human  translation_mt  mtSectionsCount  \\\n",
       "176         2.072398           2.072398        0.000000                0   \n",
       "486         1.299064           1.293380        0.005684                2   \n",
       "155         1.381490           1.270880        0.110609                4   \n",
       "478         1.188571           1.100571        0.088000                3   \n",
       "119         1.187184           1.087690        0.099494                5   \n",
       "377         1.115973           1.078590        0.037383                5   \n",
       "38          1.113609           1.076011        0.037597                2   \n",
       "94          1.085356           1.075030        0.010326                7   \n",
       "184         1.348413           1.064286        0.284127                4   \n",
       "497         1.068702           1.061069        0.007634                1   \n",
       "\n",
       "     views_translated  views_original number_of_revisions  views_ratio  \n",
       "176            1242.0          2169.0                   8     0.572614  \n",
       "486            2762.0         23306.0                 209     0.118510  \n",
       "155               NaN          4167.0                None          NaN  \n",
       "478            1643.0          2298.0                  22     0.714970  \n",
       "119            3626.0          9419.0                   7     0.384967  \n",
       "377            3920.0          5078.0                  24     0.771957  \n",
       "38             2211.0         19255.0                  34     0.114827  \n",
       "94             5861.0         73727.0                  17     0.079496  \n",
       "184               NaN         11744.0                None          NaN  \n",
       "497           11004.0         23606.0                   6     0.466153  "
      ]
     },
     "execution_count": 133,
     "metadata": {},
     "output_type": "execute_result"
    }
   ],
   "source": [
    "#4. Articles with the highest coefficient of human translations. \n",
    "# We can analyze History and Talk pages of this articles, how some sections are translated\n",
    "df_clean.sort_values('translation_human', ascending=False)[:10]"
   ]
  },
  {
   "cell_type": "markdown",
   "metadata": {},
   "source": [
    "Here are top articles by human translation along with the subject they belong to:\n",
    "- Osmolarity gradient (Physical chemistry), \n",
    "- The Cockpit (OVA) (Anime), \n",
    "- Multani Caravanserai (Azerbaijan), \n",
    "- Postage stamps and postal history of Nauru (Nauru, Postage stamps), \n",
    "- Observer (physics) (Physics), \n",
    "- Gheorghe Avramescu (Romania, The Second World War), \n",
    "- James Grady (Literature), RNA-dependent RNA polymerase (Organic Biology), \n",
    "- Scripting for the Java Platform (Programming), \n",
    "- Uniqueness (Philosophy)\n",
    "\n",
    "Let's choose a couple article and look at them closely. For that, we'll use another API"
   ]
  },
  {
   "cell_type": "code",
   "execution_count": 138,
   "metadata": {},
   "outputs": [
    {
     "data": {
      "text/html": [
       "<div>\n",
       "<style scoped>\n",
       "    .dataframe tbody tr th:only-of-type {\n",
       "        vertical-align: middle;\n",
       "    }\n",
       "\n",
       "    .dataframe tbody tr th {\n",
       "        vertical-align: top;\n",
       "    }\n",
       "\n",
       "    .dataframe thead th {\n",
       "        text-align: right;\n",
       "    }\n",
       "</style>\n",
       "<table border=\"1\" class=\"dataframe\">\n",
       "  <thead>\n",
       "    <tr style=\"text-align: right;\">\n",
       "      <th></th>\n",
       "      <th>publishedDate</th>\n",
       "      <th>sourceLanguage</th>\n",
       "      <th>sourceRevisionId</th>\n",
       "      <th>sourceTitle</th>\n",
       "      <th>sourceURL</th>\n",
       "      <th>targetLanguage</th>\n",
       "      <th>targetRevisionId</th>\n",
       "      <th>targetTitle</th>\n",
       "      <th>targetURL</th>\n",
       "      <th>translationId</th>\n",
       "      <th>translation_any</th>\n",
       "      <th>translation_human</th>\n",
       "      <th>translation_mt</th>\n",
       "      <th>mtSectionsCount</th>\n",
       "      <th>views_translated</th>\n",
       "      <th>views_original</th>\n",
       "      <th>number_of_revisions</th>\n",
       "      <th>views_ratio</th>\n",
       "    </tr>\n",
       "  </thead>\n",
       "  <tbody>\n",
       "    <tr>\n",
       "      <th>38</th>\n",
       "      <td>2017-10-10</td>\n",
       "      <td>en</td>\n",
       "      <td>792735103</td>\n",
       "      <td>James Grady (author)</td>\n",
       "      <td>//en.wikipedia.org/wiki/James Grady (author)</td>\n",
       "      <td>ru</td>\n",
       "      <td>88245454</td>\n",
       "      <td>Джеймс Грейди (писатель)</td>\n",
       "      <td>//ru.wikipedia.org/wiki/Джеймс Грейди (писатель)</td>\n",
       "      <td>378907</td>\n",
       "      <td>1.113609</td>\n",
       "      <td>1.076011</td>\n",
       "      <td>0.037597</td>\n",
       "      <td>2</td>\n",
       "      <td>2211.0</td>\n",
       "      <td>19255.0</td>\n",
       "      <td>34</td>\n",
       "      <td>0.114827</td>\n",
       "    </tr>\n",
       "    <tr>\n",
       "      <th>486</th>\n",
       "      <td>2017-12-23</td>\n",
       "      <td>en</td>\n",
       "      <td>814556183</td>\n",
       "      <td>The Cockpit (OVA)</td>\n",
       "      <td>//en.wikipedia.org/wiki/The Cockpit (OVA)</td>\n",
       "      <td>ru</td>\n",
       "      <td>89820979</td>\n",
       "      <td>The Cockpit (OVA)</td>\n",
       "      <td>//ru.wikipedia.org/wiki/The Cockpit (OVA)</td>\n",
       "      <td>408682</td>\n",
       "      <td>1.299064</td>\n",
       "      <td>1.293380</td>\n",
       "      <td>0.005684</td>\n",
       "      <td>2</td>\n",
       "      <td>2762.0</td>\n",
       "      <td>23306.0</td>\n",
       "      <td>209</td>\n",
       "      <td>0.118510</td>\n",
       "    </tr>\n",
       "    <tr>\n",
       "      <th>497</th>\n",
       "      <td>2017-12-24</td>\n",
       "      <td>en</td>\n",
       "      <td>778457281</td>\n",
       "      <td>Uniqueness</td>\n",
       "      <td>//en.wikipedia.org/wiki/Uniqueness</td>\n",
       "      <td>ru</td>\n",
       "      <td>89832834</td>\n",
       "      <td>Уникальность</td>\n",
       "      <td>//ru.wikipedia.org/wiki/Уникальность</td>\n",
       "      <td>409324</td>\n",
       "      <td>1.068702</td>\n",
       "      <td>1.061069</td>\n",
       "      <td>0.007634</td>\n",
       "      <td>1</td>\n",
       "      <td>11004.0</td>\n",
       "      <td>23606.0</td>\n",
       "      <td>6</td>\n",
       "      <td>0.466153</td>\n",
       "    </tr>\n",
       "  </tbody>\n",
       "</table>\n",
       "</div>"
      ],
      "text/plain": [
       "    publishedDate sourceLanguage  sourceRevisionId           sourceTitle  \\\n",
       "38     2017-10-10             en         792735103  James Grady (author)   \n",
       "486    2017-12-23             en         814556183     The Cockpit (OVA)   \n",
       "497    2017-12-24             en         778457281            Uniqueness   \n",
       "\n",
       "                                        sourceURL targetLanguage  \\\n",
       "38   //en.wikipedia.org/wiki/James Grady (author)             ru   \n",
       "486     //en.wikipedia.org/wiki/The Cockpit (OVA)             ru   \n",
       "497            //en.wikipedia.org/wiki/Uniqueness             ru   \n",
       "\n",
       "     targetRevisionId               targetTitle  \\\n",
       "38           88245454  Джеймс Грейди (писатель)   \n",
       "486          89820979         The Cockpit (OVA)   \n",
       "497          89832834              Уникальность   \n",
       "\n",
       "                                            targetURL  translationId  \\\n",
       "38   //ru.wikipedia.org/wiki/Джеймс Грейди (писатель)         378907   \n",
       "486         //ru.wikipedia.org/wiki/The Cockpit (OVA)         408682   \n",
       "497              //ru.wikipedia.org/wiki/Уникальность         409324   \n",
       "\n",
       "     translation_any  translation_human  translation_mt  mtSectionsCount  \\\n",
       "38          1.113609           1.076011        0.037597                2   \n",
       "486         1.299064           1.293380        0.005684                2   \n",
       "497         1.068702           1.061069        0.007634                1   \n",
       "\n",
       "     views_translated  views_original number_of_revisions  views_ratio  \n",
       "38             2211.0         19255.0                  34     0.114827  \n",
       "486            2762.0         23306.0                 209     0.118510  \n",
       "497           11004.0         23606.0                   6     0.466153  "
      ]
     },
     "execution_count": 138,
     "metadata": {},
     "output_type": "execute_result"
    }
   ],
   "source": [
    "df_clean[(df_clean['sourceTitle'] == 'The Cockpit (OVA)') | (df_clean['sourceTitle'] == 'Uniqueness') | (df_clean['sourceTitle'] == 'James Grady (author)')]\n",
    "\n"
   ]
  },
  {
   "cell_type": "code",
   "execution_count": 139,
   "metadata": {},
   "outputs": [],
   "source": [
    "translationid_james_grady = df_clean.loc[38,'translationId']\n",
    "translationid_cockpit = df_clean.loc[486,'translationId']\n",
    "translationid_uniqueness = df_clean.loc[497,'translationId']"
   ]
  },
  {
   "cell_type": "code",
   "execution_count": 154,
   "metadata": {},
   "outputs": [],
   "source": [
    "# Let's begin with article about James Grady\n",
    "parameters_content_james_grady = {'action':'query',\n",
    "                      'format':'json',\n",
    "                      'list':'contenttranslationcorpora',\n",
    "                      'translationid':translationid_james_grady,\n",
    "                      'striphtml': 'True'}"
   ]
  },
  {
   "cell_type": "code",
   "execution_count": 161,
   "metadata": {},
   "outputs": [],
   "source": [
    "# We've got the file of JSON format\n",
    "res_content_james_grady = session.get(parameters_content_james_grady)"
   ]
  },
  {
   "cell_type": "code",
   "execution_count": 144,
   "metadata": {},
   "outputs": [
    {
     "name": "stdout",
     "output_type": "stream",
     "text": [
      "mwBA\n",
      "mwCg\n",
      "mwDA\n",
      "mwLg\n",
      "mwbw\n",
      "undefined2b4c8c6d38db43a9b038d\n",
      "undefined2cedb069633746f45f07d\n",
      "undefined306f0c3996737d1a3a971\n",
      "undefined52d46ffedcf86c4d0859f\n",
      "undefined69824d3b0e70ca6aaa0da\n",
      "undefinedd3912a5967d47abcfa91b\n",
      "mwAw\n",
      "mwKA\n",
      "mwXg\n",
      "mwcx-source-title\n"
     ]
    }
   ],
   "source": [
    "# Here is the list of sections\n",
    "for i in res_content_james_grady['query']['contenttranslationcorpora']['sections']:\n",
    "    print(i)"
   ]
  },
  {
   "cell_type": "code",
   "execution_count": 151,
   "metadata": {},
   "outputs": [
    {
     "data": {
      "text/plain": [
       "'He graduated from the University of Montana School of Journalism in 1974. During college he worked for U.S. Senator Lee Metcalf of Montana.[1] From 1974-1978, during the post-Watergate era, he worked with pioneering muckraking investigative journalist Jack Anderson. He has contributed to Slate, The Washington Post, Washingtonian, American Film, The New Republic, Sport, Parade, and the Journal of Asian Martial Arts. Grady is best known as the author of the espionage thriller novel Six Days of the Condor, which was famously adapted to film as Three Days of the Condor starring Robert Redford and directed by Sydney Pollack. In addition to about a dozen novels and many short stories, he has written for film and television. Grady is a member of the Writers Guild of America, East.'"
      ]
     },
     "execution_count": 151,
     "metadata": {},
     "output_type": "execute_result"
    }
   ],
   "source": [
    "# Let's print one section of translation in original, mt and human versions\n",
    "res_content_james_grady['query']['contenttranslationcorpora']['sections']['mwDA']['source']['content']"
   ]
  },
  {
   "cell_type": "code",
   "execution_count": 152,
   "metadata": {},
   "outputs": [
    {
     "data": {
      "text/plain": [
       "'Он окончил Университет штата Монтана школа журналистики в 1974 году. Во время учебы в колледже он работал на американского сенатора ли Меткафа Монтана.[1] из 1974-1978, во время пост-Уотергейтской эпохи, он работал с пионерским дотошные журналист Джек Андерсон. Он участвовал в шифер, Вашингтон пост, Вашингтонской, американский фильм, Новая Республика, Спорт, парад, и журнал азиатских боевых искусств. Грейди наиболее известен как автор шпионский триллер роман шесть дней Кондора, который был отлично приспособлен к фильм три дня Кондора В ролях Роберт Редфорд и режиссера Сидни Поллака. В дополнение к около десятка романов и многих рассказов, он написал для кино и телевидения. Грейди является членом Гильдии писателей Америки, Востока.'"
      ]
     },
     "execution_count": 152,
     "metadata": {},
     "output_type": "execute_result"
    }
   ],
   "source": [
    "res_content_james_grady['query']['contenttranslationcorpora']['sections']['mwDA']['mt']['content']"
   ]
  },
  {
   "cell_type": "code",
   "execution_count": 153,
   "metadata": {},
   "outputs": [
    {
     "data": {
      "text/plain": [
       "'Он окончил Школу журналистики в\\xa0Университете штата Монтана\\xa0(School of Journalism at The University of Montana) в 1974 году. Во время учебы в колледже он работал на американского сенатора от штата Монтана, Ли Меткалф .[1] Во время пост-Уотергейтской эпохи (1974-1978), работал с\\xa0журналистом Джеком Андерсоном (Jack Anderson), - одним из первооткрывателей новой отрасли в репортерском мастерстве -\\xa0разоблачительной журналистики. Он публикует свои работы в «Cлэйт» (Slate), «Вашингтон Пост»\\xa0(The Washington Post), «Вашингтониан»\\xa0(Washingtonian), «Американ\\xa0Фильм» (American Film), «Нью Репаблик»\\xa0(The New Republic),«Спорт»\\xa0(Sport), «Парад»\\xa0(Parade), и «Журнал азиатских боевых искусств» (Journal of Asian Martial Arts).\\xa0Грейди наиболее известен как автор шпионского романа-триллера «Шесть дней Кондора», который был адаптирован для знаменитого фильма Сидни Поллака «Три дня Кондора»\\xa0с\\xa0Робертом Редфордом\\xa0в главной роли. В дополнение к этому он написал ещё около дюжины романов и много рассказов, которые были также\\xa0адаптированы для кино и телевидения. Грейди является членом профсоюза\\xa0пишущих для кино и радио писателей «Гильдия писателей Америки, Восточный берег».'"
      ]
     },
     "execution_count": 153,
     "metadata": {},
     "output_type": "execute_result"
    }
   ],
   "source": [
    "res_content_james_grady['query']['contenttranslationcorpora']['sections']['mwDA']['user']['content']"
   ]
  },
  {
   "cell_type": "markdown",
   "metadata": {},
   "source": [
    "I can notice that a translator added additional links to famous places or people. For example: School of Journalism at The University of Montana, Jack Anderson, names of different newpapers (such as The Washington Post, Washingtonian, etc.) Also, the order of words is changed. The translation tool doesn't always put words in right order or grammatical case. The text structure is also changed a little bit. Some compound sentences are divided into several smaller sentences. Also translation tool sometimes uses not so contextual words, they are ussually replaces with more approptiate words. "
   ]
  },
  {
   "cell_type": "markdown",
   "metadata": {},
   "source": [
    "the History Page includes such comments: Links to various pages of the English site of James Grady for easy sources search; Russian language improvement."
   ]
  },
  {
   "cell_type": "code",
   "execution_count": 183,
   "metadata": {
    "scrolled": false
   },
   "outputs": [
    {
     "data": {
      "text/html": [
       "<div>\n",
       "<style scoped>\n",
       "    .dataframe tbody tr th:only-of-type {\n",
       "        vertical-align: middle;\n",
       "    }\n",
       "\n",
       "    .dataframe tbody tr th {\n",
       "        vertical-align: top;\n",
       "    }\n",
       "\n",
       "    .dataframe thead th {\n",
       "        text-align: right;\n",
       "    }\n",
       "</style>\n",
       "<table border=\"1\" class=\"dataframe\">\n",
       "  <thead>\n",
       "    <tr style=\"text-align: right;\">\n",
       "      <th></th>\n",
       "      <th>publishedDate</th>\n",
       "      <th>sourceLanguage</th>\n",
       "      <th>sourceRevisionId</th>\n",
       "      <th>sourceTitle</th>\n",
       "      <th>sourceURL</th>\n",
       "      <th>targetLanguage</th>\n",
       "      <th>targetRevisionId</th>\n",
       "      <th>targetTitle</th>\n",
       "      <th>targetURL</th>\n",
       "      <th>translationId</th>\n",
       "      <th>translation_any</th>\n",
       "      <th>translation_human</th>\n",
       "      <th>translation_mt</th>\n",
       "      <th>mtSectionsCount</th>\n",
       "      <th>views_translated</th>\n",
       "      <th>views_original</th>\n",
       "      <th>number_of_revisions</th>\n",
       "      <th>views_ratio</th>\n",
       "    </tr>\n",
       "  </thead>\n",
       "  <tbody>\n",
       "    <tr>\n",
       "      <th>121</th>\n",
       "      <td>2017-10-28</td>\n",
       "      <td>en</td>\n",
       "      <td>806658446</td>\n",
       "      <td>Felix Bernstein (mathematician)</td>\n",
       "      <td>//en.wikipedia.org/wiki/Felix Bernstein (mathe...</td>\n",
       "      <td>ru</td>\n",
       "      <td>88634945</td>\n",
       "      <td>user:LGB/Черновик</td>\n",
       "      <td>//ru.wikipedia.org/wiki/user:LGB/Черновик</td>\n",
       "      <td>385419</td>\n",
       "      <td>0.627933</td>\n",
       "      <td>0.003166</td>\n",
       "      <td>0.624767</td>\n",
       "      <td>9</td>\n",
       "      <td>NaN</td>\n",
       "      <td>6497.0</td>\n",
       "      <td>500</td>\n",
       "      <td>NaN</td>\n",
       "    </tr>\n",
       "    <tr>\n",
       "      <th>486</th>\n",
       "      <td>2017-12-23</td>\n",
       "      <td>en</td>\n",
       "      <td>814556183</td>\n",
       "      <td>The Cockpit (OVA)</td>\n",
       "      <td>//en.wikipedia.org/wiki/The Cockpit (OVA)</td>\n",
       "      <td>ru</td>\n",
       "      <td>89820979</td>\n",
       "      <td>The Cockpit (OVA)</td>\n",
       "      <td>//ru.wikipedia.org/wiki/The Cockpit (OVA)</td>\n",
       "      <td>408682</td>\n",
       "      <td>1.299064</td>\n",
       "      <td>1.293380</td>\n",
       "      <td>0.005684</td>\n",
       "      <td>2</td>\n",
       "      <td>2762.0</td>\n",
       "      <td>23306.0</td>\n",
       "      <td>209</td>\n",
       "      <td>0.118510</td>\n",
       "    </tr>\n",
       "    <tr>\n",
       "      <th>364</th>\n",
       "      <td>2017-12-01</td>\n",
       "      <td>en</td>\n",
       "      <td>813020576</td>\n",
       "      <td>2018 FIFA World Cup Final</td>\n",
       "      <td>//en.wikipedia.org/wiki/2018 FIFA World Cup Final</td>\n",
       "      <td>ru</td>\n",
       "      <td>89372530</td>\n",
       "      <td>Финал чемпионата мира по футболу 2018</td>\n",
       "      <td>//ru.wikipedia.org/wiki/Финал чемпионата мира ...</td>\n",
       "      <td>400438</td>\n",
       "      <td>0.574960</td>\n",
       "      <td>0.524518</td>\n",
       "      <td>0.050442</td>\n",
       "      <td>7</td>\n",
       "      <td>142470.0</td>\n",
       "      <td>1516450.0</td>\n",
       "      <td>197</td>\n",
       "      <td>0.093950</td>\n",
       "    </tr>\n",
       "    <tr>\n",
       "      <th>10</th>\n",
       "      <td>2017-10-06</td>\n",
       "      <td>en</td>\n",
       "      <td>802408745</td>\n",
       "      <td>Cultural impact of Madonna</td>\n",
       "      <td>//en.wikipedia.org/wiki/Cultural impact of Mad...</td>\n",
       "      <td>ru</td>\n",
       "      <td>88166190</td>\n",
       "      <td>Культурное влияние певицы Мадонны</td>\n",
       "      <td>//ru.wikipedia.org/wiki/Культурное влияние пев...</td>\n",
       "      <td>377473</td>\n",
       "      <td>0.518799</td>\n",
       "      <td>0.450434</td>\n",
       "      <td>0.068365</td>\n",
       "      <td>6</td>\n",
       "      <td>8386.0</td>\n",
       "      <td>50310.0</td>\n",
       "      <td>130</td>\n",
       "      <td>0.166687</td>\n",
       "    </tr>\n",
       "    <tr>\n",
       "      <th>331</th>\n",
       "      <td>2017-11-29</td>\n",
       "      <td>en</td>\n",
       "      <td>807773652</td>\n",
       "      <td>Jacob Robert Kantor</td>\n",
       "      <td>//en.wikipedia.org/wiki/Jacob Robert Kantor</td>\n",
       "      <td>ru</td>\n",
       "      <td>89325303</td>\n",
       "      <td>Участница:Axlesaery/Черновик</td>\n",
       "      <td>//ru.wikipedia.org/wiki/Участница:Axlesaery/Че...</td>\n",
       "      <td>399267</td>\n",
       "      <td>0.746050</td>\n",
       "      <td>0.435044</td>\n",
       "      <td>0.311005</td>\n",
       "      <td>9</td>\n",
       "      <td>156.0</td>\n",
       "      <td>5698.0</td>\n",
       "      <td>113</td>\n",
       "      <td>0.027378</td>\n",
       "    </tr>\n",
       "    <tr>\n",
       "      <th>427</th>\n",
       "      <td>2017-12-11</td>\n",
       "      <td>en</td>\n",
       "      <td>800890291</td>\n",
       "      <td>Richard Cohen (fencer)</td>\n",
       "      <td>//en.wikipedia.org/wiki/Richard Cohen (fencer)</td>\n",
       "      <td>ru</td>\n",
       "      <td>89588853</td>\n",
       "      <td>Участница:Axlesaery/Черновик</td>\n",
       "      <td>//ru.wikipedia.org/wiki/Участница:Axlesaery/Че...</td>\n",
       "      <td>404276</td>\n",
       "      <td>0.434088</td>\n",
       "      <td>0.434088</td>\n",
       "      <td>0.000000</td>\n",
       "      <td>0</td>\n",
       "      <td>156.0</td>\n",
       "      <td>3316.0</td>\n",
       "      <td>113</td>\n",
       "      <td>0.047045</td>\n",
       "    </tr>\n",
       "    <tr>\n",
       "      <th>439</th>\n",
       "      <td>2017-12-14</td>\n",
       "      <td>en</td>\n",
       "      <td>812100668</td>\n",
       "      <td>Daniel Ammann</td>\n",
       "      <td>//en.wikipedia.org/wiki/Daniel Ammann</td>\n",
       "      <td>ru</td>\n",
       "      <td>89651957</td>\n",
       "      <td>Участница:Axlesaery/Черновик</td>\n",
       "      <td>//ru.wikipedia.org/wiki/Участница:Axlesaery/Че...</td>\n",
       "      <td>405577</td>\n",
       "      <td>0.766200</td>\n",
       "      <td>0.740806</td>\n",
       "      <td>0.025394</td>\n",
       "      <td>3</td>\n",
       "      <td>156.0</td>\n",
       "      <td>6216.0</td>\n",
       "      <td>113</td>\n",
       "      <td>0.025097</td>\n",
       "    </tr>\n",
       "    <tr>\n",
       "      <th>398</th>\n",
       "      <td>2017-12-05</td>\n",
       "      <td>en</td>\n",
       "      <td>812726474</td>\n",
       "      <td>Peter Frankopan</td>\n",
       "      <td>//en.wikipedia.org/wiki/Peter Frankopan</td>\n",
       "      <td>ru</td>\n",
       "      <td>89464829</td>\n",
       "      <td>Участница:Axlesaery/Черновик</td>\n",
       "      <td>//ru.wikipedia.org/wiki/Участница:Axlesaery/Че...</td>\n",
       "      <td>401874</td>\n",
       "      <td>0.183673</td>\n",
       "      <td>0.183673</td>\n",
       "      <td>0.000000</td>\n",
       "      <td>0</td>\n",
       "      <td>156.0</td>\n",
       "      <td>69781.0</td>\n",
       "      <td>113</td>\n",
       "      <td>0.002236</td>\n",
       "    </tr>\n",
       "    <tr>\n",
       "      <th>448</th>\n",
       "      <td>2017-12-15</td>\n",
       "      <td>en</td>\n",
       "      <td>801015859</td>\n",
       "      <td>Trans-Israel pipeline</td>\n",
       "      <td>//en.wikipedia.org/wiki/Trans-Israel pipeline</td>\n",
       "      <td>ru</td>\n",
       "      <td>89668655</td>\n",
       "      <td>Участница:Axlesaery/Черновик</td>\n",
       "      <td>//ru.wikipedia.org/wiki/Участница:Axlesaery/Че...</td>\n",
       "      <td>405935</td>\n",
       "      <td>0.747396</td>\n",
       "      <td>0.740625</td>\n",
       "      <td>0.006771</td>\n",
       "      <td>2</td>\n",
       "      <td>156.0</td>\n",
       "      <td>8216.0</td>\n",
       "      <td>113</td>\n",
       "      <td>0.018987</td>\n",
       "    </tr>\n",
       "    <tr>\n",
       "      <th>252</th>\n",
       "      <td>2017-11-19</td>\n",
       "      <td>en</td>\n",
       "      <td>793909417</td>\n",
       "      <td>Amanda Hendrix</td>\n",
       "      <td>//en.wikipedia.org/wiki/Amanda Hendrix</td>\n",
       "      <td>ru</td>\n",
       "      <td>89090965</td>\n",
       "      <td>Участница:Axlesaery/Черновик</td>\n",
       "      <td>//ru.wikipedia.org/wiki/Участница:Axlesaery/Че...</td>\n",
       "      <td>394758</td>\n",
       "      <td>0.283037</td>\n",
       "      <td>0.281878</td>\n",
       "      <td>0.001159</td>\n",
       "      <td>1</td>\n",
       "      <td>156.0</td>\n",
       "      <td>5339.0</td>\n",
       "      <td>113</td>\n",
       "      <td>0.029219</td>\n",
       "    </tr>\n",
       "  </tbody>\n",
       "</table>\n",
       "</div>"
      ],
      "text/plain": [
       "    publishedDate sourceLanguage  sourceRevisionId  \\\n",
       "121    2017-10-28             en         806658446   \n",
       "486    2017-12-23             en         814556183   \n",
       "364    2017-12-01             en         813020576   \n",
       "10     2017-10-06             en         802408745   \n",
       "331    2017-11-29             en         807773652   \n",
       "427    2017-12-11             en         800890291   \n",
       "439    2017-12-14             en         812100668   \n",
       "398    2017-12-05             en         812726474   \n",
       "448    2017-12-15             en         801015859   \n",
       "252    2017-11-19             en         793909417   \n",
       "\n",
       "                         sourceTitle  \\\n",
       "121  Felix Bernstein (mathematician)   \n",
       "486                The Cockpit (OVA)   \n",
       "364        2018 FIFA World Cup Final   \n",
       "10        Cultural impact of Madonna   \n",
       "331              Jacob Robert Kantor   \n",
       "427           Richard Cohen (fencer)   \n",
       "439                    Daniel Ammann   \n",
       "398                  Peter Frankopan   \n",
       "448            Trans-Israel pipeline   \n",
       "252                   Amanda Hendrix   \n",
       "\n",
       "                                             sourceURL targetLanguage  \\\n",
       "121  //en.wikipedia.org/wiki/Felix Bernstein (mathe...             ru   \n",
       "486          //en.wikipedia.org/wiki/The Cockpit (OVA)             ru   \n",
       "364  //en.wikipedia.org/wiki/2018 FIFA World Cup Final             ru   \n",
       "10   //en.wikipedia.org/wiki/Cultural impact of Mad...             ru   \n",
       "331        //en.wikipedia.org/wiki/Jacob Robert Kantor             ru   \n",
       "427     //en.wikipedia.org/wiki/Richard Cohen (fencer)             ru   \n",
       "439              //en.wikipedia.org/wiki/Daniel Ammann             ru   \n",
       "398            //en.wikipedia.org/wiki/Peter Frankopan             ru   \n",
       "448      //en.wikipedia.org/wiki/Trans-Israel pipeline             ru   \n",
       "252             //en.wikipedia.org/wiki/Amanda Hendrix             ru   \n",
       "\n",
       "     targetRevisionId                            targetTitle  \\\n",
       "121          88634945                      user:LGB/Черновик   \n",
       "486          89820979                      The Cockpit (OVA)   \n",
       "364          89372530  Финал чемпионата мира по футболу 2018   \n",
       "10           88166190      Культурное влияние певицы Мадонны   \n",
       "331          89325303           Участница:Axlesaery/Черновик   \n",
       "427          89588853           Участница:Axlesaery/Черновик   \n",
       "439          89651957           Участница:Axlesaery/Черновик   \n",
       "398          89464829           Участница:Axlesaery/Черновик   \n",
       "448          89668655           Участница:Axlesaery/Черновик   \n",
       "252          89090965           Участница:Axlesaery/Черновик   \n",
       "\n",
       "                                             targetURL  translationId  \\\n",
       "121          //ru.wikipedia.org/wiki/user:LGB/Черновик         385419   \n",
       "486          //ru.wikipedia.org/wiki/The Cockpit (OVA)         408682   \n",
       "364  //ru.wikipedia.org/wiki/Финал чемпионата мира ...         400438   \n",
       "10   //ru.wikipedia.org/wiki/Культурное влияние пев...         377473   \n",
       "331  //ru.wikipedia.org/wiki/Участница:Axlesaery/Че...         399267   \n",
       "427  //ru.wikipedia.org/wiki/Участница:Axlesaery/Че...         404276   \n",
       "439  //ru.wikipedia.org/wiki/Участница:Axlesaery/Че...         405577   \n",
       "398  //ru.wikipedia.org/wiki/Участница:Axlesaery/Че...         401874   \n",
       "448  //ru.wikipedia.org/wiki/Участница:Axlesaery/Че...         405935   \n",
       "252  //ru.wikipedia.org/wiki/Участница:Axlesaery/Че...         394758   \n",
       "\n",
       "     translation_any  translation_human  translation_mt  mtSectionsCount  \\\n",
       "121         0.627933           0.003166        0.624767                9   \n",
       "486         1.299064           1.293380        0.005684                2   \n",
       "364         0.574960           0.524518        0.050442                7   \n",
       "10          0.518799           0.450434        0.068365                6   \n",
       "331         0.746050           0.435044        0.311005                9   \n",
       "427         0.434088           0.434088        0.000000                0   \n",
       "439         0.766200           0.740806        0.025394                3   \n",
       "398         0.183673           0.183673        0.000000                0   \n",
       "448         0.747396           0.740625        0.006771                2   \n",
       "252         0.283037           0.281878        0.001159                1   \n",
       "\n",
       "     views_translated  views_original number_of_revisions  views_ratio  \n",
       "121               NaN          6497.0                 500          NaN  \n",
       "486            2762.0         23306.0                 209     0.118510  \n",
       "364          142470.0       1516450.0                 197     0.093950  \n",
       "10             8386.0         50310.0                 130     0.166687  \n",
       "331             156.0          5698.0                 113     0.027378  \n",
       "427             156.0          3316.0                 113     0.047045  \n",
       "439             156.0          6216.0                 113     0.025097  \n",
       "398             156.0         69781.0                 113     0.002236  \n",
       "448             156.0          8216.0                 113     0.018987  \n",
       "252             156.0          5339.0                 113     0.029219  "
      ]
     },
     "execution_count": 183,
     "metadata": {},
     "output_type": "execute_result"
    }
   ],
   "source": [
    "# 5. Articles with the huighest number of revisions\n",
    "df_clean.sort_values('number_of_revisions', ascending=False)[:10]"
   ]
  },
  {
   "cell_type": "markdown",
   "metadata": {},
   "source": [
    "Second place takes title thatwe've already seen before: The Cockpit (OVA). Let's explore it."
   ]
  },
  {
   "cell_type": "code",
   "execution_count": 164,
   "metadata": {},
   "outputs": [],
   "source": [
    "parameters_content_cockpit = {'action':'query',\n",
    "                      'format':'json',\n",
    "                      'list':'contenttranslationcorpora',\n",
    "                      'translationid':translationid_cockpit,\n",
    "                      'striphtml': 'True'}"
   ]
  },
  {
   "cell_type": "code",
   "execution_count": 165,
   "metadata": {},
   "outputs": [],
   "source": [
    "res_content_cockpit = session.get(parameters_content_cockpit)"
   ]
  },
  {
   "cell_type": "code",
   "execution_count": 179,
   "metadata": {},
   "outputs": [
    {
     "name": "stdout",
     "output_type": "stream",
     "text": [
      "5979\n"
     ]
    }
   ],
   "source": [
    "source_length = 0\n",
    "for i in res_content_cockpit['query']['contenttranslationcorpora']['sections']:\n",
    "    source_length += len(res_content_cockpit['query']['contenttranslationcorpora']['sections'][i]['source']['content'])\n",
    "print(source_length)"
   ]
  },
  {
   "cell_type": "code",
   "execution_count": 180,
   "metadata": {},
   "outputs": [
    {
     "name": "stdout",
     "output_type": "stream",
     "text": [
      "5936\n"
     ]
    }
   ],
   "source": [
    "mt_length = 0\n",
    "for i in res_content_cockpit['query']['contenttranslationcorpora']['sections']:\n",
    "    mt_length += len(res_content_cockpit['query']['contenttranslationcorpora']['sections'][i]['mt']['content'])\n",
    "print(mt_length)"
   ]
  },
  {
   "cell_type": "code",
   "execution_count": 182,
   "metadata": {},
   "outputs": [
    {
     "name": "stdout",
     "output_type": "stream",
     "text": [
      "7752\n"
     ]
    }
   ],
   "source": [
    "user_length = 0\n",
    "for i in res_content_cockpit['query']['contenttranslationcorpora']['sections']:\n",
    "    try:\n",
    "        user_length += len(res_content_cockpit['query']['contenttranslationcorpora']['sections'][i]['user']['content'])\n",
    "    except:\n",
    "        continue\n",
    "print(user_length)"
   ]
  },
  {
   "cell_type": "markdown",
   "metadata": {},
   "source": [
    "We see that translated article is much longer than original. The Russian translator added information about anime reviews and criticism, anime soundtrack and the plot decription became more detailed."
   ]
  },
  {
   "cell_type": "markdown",
   "metadata": {},
   "source": [
    "## What's coming: \n",
    "It is just the beginning of my analysis. During the Internship for Wikimedia I plan:\n",
    "- To find out there is any correlation between the level of machine translation and the number of views\n",
    "- Further explore edits (trends, types)\n",
    "- Further exploration of common differences between original and translated article\n",
    "- Look at discussions of the popular pages\n",
    "- Look at types of dictionaries which are usually used for translations from English to Russian\n",
    "- Look at translation from Russian to English"
   ]
  },
  {
   "cell_type": "code",
   "execution_count": null,
   "metadata": {},
   "outputs": [],
   "source": []
  }
 ],
 "metadata": {
  "kernelspec": {
   "display_name": "Python 3",
   "language": "python",
   "name": "python3"
  },
  "language_info": {
   "codemirror_mode": {
    "name": "ipython",
    "version": 3
   },
   "file_extension": ".py",
   "mimetype": "text/x-python",
   "name": "python",
   "nbconvert_exporter": "python",
   "pygments_lexer": "ipython3",
   "version": "3.6.7"
  }
 },
 "nbformat": 4,
 "nbformat_minor": 2
}
